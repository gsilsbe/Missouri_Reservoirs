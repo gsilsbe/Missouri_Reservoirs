{
  "cells": [
    {
      "cell_type": "markdown",
      "metadata": {
        "id": "view-in-github",
        "colab_type": "text"
      },
      "source": [
        "<a href=\"https://colab.research.google.com/github/gsilsbe/Missouri_Reservoirs/blob/main/match_MU_to_DNR_WBID_7630.ipynb\" target=\"_parent\"><img src=\"https://colab.research.google.com/assets/colab-badge.svg\" alt=\"Open In Colab\"/></a>"
      ]
    },
    {
      "cell_type": "code",
      "execution_count": null,
      "id": "06960cfd-5ee7-4996-9b7e-dd6dc6d43e16",
      "metadata": {
        "id": "06960cfd-5ee7-4996-9b7e-dd6dc6d43e16"
      },
      "outputs": [],
      "source": [
        "import pandas as pd\n",
        "import geopandas as gpd\n",
        "import numpy as np\n",
        "!pip install rtree\n",
        "import rtree\n",
        "import json\n",
        "\n",
        "from shapely import geometry, ops\n",
        "from shapely.geometry import Polygon\n",
        "from shapely.geometry import Point\n",
        "from shapely.geometry.multipolygon import MultiPolygon\n",
        "from shapely.ops import cascaded_union\n",
        "from shapely.ops import unary_union\n",
        "\n",
        "from shapely import intersection\n",
        "from shapely import intersects\n",
        "from shapely import concave_hull\n",
        "from shapely import difference, within, contains"
      ]
    },
    {
      "cell_type": "code",
      "execution_count": null,
      "id": "2151aa0e-b960-48f4-9691-8efcb0b7b3a6",
      "metadata": {
        "id": "2151aa0e-b960-48f4-9691-8efcb0b7b3a6"
      },
      "outputs": [],
      "source": [
        "import warnings\n",
        "warnings.filterwarnings(\"ignore\",category=RuntimeWarning)\n",
        "\n",
        "MO_DNR = gpd.read_file(\"MO_2020_WQS_Lake_Classification_and_Use.geojson\", driver='GeoJSON')\n",
        "MO_DNR = MO_DNR.drop(columns=\"EVENTDAT\").drop(columns=\"REACHSMDAT\").round(0)\n",
        "MO_DNR_7630 = MO_DNR[MO_DNR[\"WATER_BODY\"] ==\"100K Extent-Remaining Lakes\"]\n",
        "MO_DNR = MO_DNR.to_crs(crs=3857)\n",
        "MO_DNR_7630 = MO_DNR_7630.to_crs(crs=3857)\n",
        "MO_DNR = MO_DNR.dissolve(by=\"WBID\")\n",
        "# Plot\n",
        "MO_DNR.plot()\n",
        "MO_DNR_7630.plot()\n",
        "\n",
        "# Column names\n",
        "MO_DNR.keys()"
      ]
    },
    {
      "cell_type": "markdown",
      "id": "e7464b0e-5180-4f1a-8c2f-dc4ff0c4e788",
      "metadata": {
        "id": "e7464b0e-5180-4f1a-8c2f-dc4ff0c4e788"
      },
      "source": [
        "## Read in MU data, convert lat lon columns to geometry"
      ]
    },
    {
      "cell_type": "code",
      "execution_count": null,
      "id": "7273c8ba-233c-4ede-b6ec-a01a5ad688c4",
      "metadata": {
        "id": "7273c8ba-233c-4ede-b6ec-a01a5ad688c4",
        "outputId": "da5c467e-4f18-44a0-f1f8-18010988a908",
        "colab": {
          "base_uri": "https://localhost:8080/",
          "height": 532
        }
      },
      "outputs": [
        {
          "output_type": "execute_result",
          "data": {
            "text/plain": [
              "Index(['waterBodyID', 'WBID', 'MULakeNumber', 'waterBody', 'WATER_BODY_DNR',\n",
              "       'waterBodyLatitude', 'waterBodyLongitude', 'ecoregionID', 'damHeightM',\n",
              "       'volumeM3', 'surfAreaHA', 'watershedAreaHA', 'geometry'],\n",
              "      dtype='object')"
            ]
          },
          "metadata": {},
          "execution_count": 126
        },
        {
          "output_type": "display_data",
          "data": {
            "text/plain": [
              "<Figure size 640x480 with 1 Axes>"
            ],
            "image/png": "[encoded data removed]"
          },
          "metadata": {}
        }
      ],
      "source": [
        "MU = pd.read_csv('MU_v_DNR.csv')\n",
        "MU = MU[MU['stateID']==29]\n",
        "MU = MU.drop(columns=\"Distance\").drop(columns=\"waterBodyDesc\").drop(columns=\"countyID\").drop(columns=\"countryID\").drop(columns=\"stateID\").drop(columns=\"waterBodyTypeID\").drop(columns=\"MDNRNameID\").drop(columns=\"primarySLAP19\").drop(columns=\"notes\").drop(columns=\"geometry\")\n",
        "MU_gdf = gpd.GeoDataFrame(MU, geometry=gpd.points_from_xy(MU.waterBodyLongitude, MU.waterBodyLatitude) ).set_crs(4326)\n",
        "MU_gdf = MU_gdf.to_crs(crs=3857)\n",
        "MU_gdf[\"WBID\"] = MU_gdf[\"WBID\"].fillna(0).astype(int) # convert just column WBID to integer\n",
        "MU_gdf.plot()\n",
        "MU_gdf.keys()"
      ]
    },
    {
      "cell_type": "code",
      "source": [
        "# Creating an index based on rows of MO_DNR\n",
        "index = rtree.index.Index()\n",
        "for idx, row in MO_DNR.iterrows():\n",
        "  index.insert(idx, row.geometry.bounds)"
      ],
      "metadata": {
        "id": "VUqCe_c9VNOd"
      },
      "id": "VUqCe_c9VNOd",
      "execution_count": null,
      "outputs": []
    },
    {
      "cell_type": "markdown",
      "source": [
        "Convert MO_DNR geoPandas multi polygons to polygons"
      ],
      "metadata": {
        "id": "GSb8GDLuFtdl"
      },
      "id": "GSb8GDLuFtdl"
    },
    {
      "cell_type": "code",
      "execution_count": null,
      "id": "f89a58aa-ff57-4b47-960d-cd8a00091291",
      "metadata": {
        "id": "f89a58aa-ff57-4b47-960d-cd8a00091291"
      },
      "outputs": [],
      "source": [
        "for i in range(0,len(MU_gdf)):\n",
        "  if MU_gdf.iloc[i][\"WBID\"] ==7630:\n",
        "    distances = np.zeros(len(MO_DNR))\n",
        "    for j in range(0, len(MO_DNR)):\n",
        "        distances[j] = MU_gdf.iloc[i].geometry.distance(MO_DNR_7630.iloc[j].geometry.centroid)\n",
        "    idx = np.argmin(distances)\n",
        "    MU_gdf.iloc[i, MU_gdf.columns.get_loc('geometry')] =  MO_DNR_7630.iloc[idx].geometry\n",
        "  elif MU_gdf.iloc[i]['WBID']!=0:\n",
        "    #idx = MU_gdf.loc[i]['WBID']\n",
        "    idx = list(index.intersection(MU_gdf.iloc[i].geometry.bounds))[0]\n",
        "    #print(idx)\n",
        "    MU_gdf.iloc[i, MU_gdf.columns.get_loc('geometry')] = MO_DNR.loc[idx].geometry\n"
      ]
    },
    {
      "cell_type": "code",
      "source": [
        "# Saving the data as csv\n",
        "MU_gdf.to_csv(\"MU_gdf.csv\")"
      ],
      "metadata": {
        "id": "MsPBbWRBR2oe"
      },
      "id": "MsPBbWRBR2oe",
      "execution_count": null,
      "outputs": []
    },
    {
      "cell_type": "code",
      "source": [
        "# Saving a geojson file\n",
        "\n",
        "# First converts the GeoDataFrame to a JSON string\n",
        "json_string = MU_gdf.to_json(na=\"drop\")\n",
        "\n",
        "# Then, it opens a file called data.json for writing and uses the json.dump() function to write the JSON string to the file\n",
        "with open(\"data.json\", \"w\") as f:\n",
        "    json.dump(json_string, f)"
      ],
      "metadata": {
        "id": "-zofE4hZdpHw"
      },
      "id": "-zofE4hZdpHw",
      "execution_count": 140,
      "outputs": []
    },
    {
      "cell_type": "code",
      "execution_count": null,
      "id": "c7a4818f-7136-4396-b92c-6315577c3f82",
      "metadata": {
        "id": "c7a4818f-7136-4396-b92c-6315577c3f82"
      },
      "outputs": [],
      "source": [
        "# iloc method uses an integer indexing\n",
        "# loc method supports both integer and label-based indexing\n",
        "\n",
        "MO_WATERBODY = MO_DNR.loc[idx]['WATER_BODY']\n",
        "MO_WBID = MO_DNR.loc[idx]['WBID']\n",
        "MO_WATERBODY.index = MU_gdf.index\n",
        "MO_WBID.index = MU_gdf.index\n",
        "distance = pd.Series(distance, index =  MU_gdf.index)\n",
        "\n",
        "final_MU = pd.concat([MU_gdf, MO_WATERBODY, MO_WBID, distance], axis=1)\n",
        "#final_MU.to_csv(\"MU_v_DNR.csv\")\n",
        "final_MU"
      ]
    },
    {
      "cell_type": "code",
      "execution_count": null,
      "id": "103aee48-b98e-4a92-a95a-ba2c658f8916",
      "metadata": {
        "id": "103aee48-b98e-4a92-a95a-ba2c658f8916"
      },
      "outputs": [],
      "source": [
        "final_MU"
      ]
    },
    {
      "cell_type": "code",
      "execution_count": null,
      "id": "d7e662ae-4520-4ad2-a3ca-730f46e1ff64",
      "metadata": {
        "id": "d7e662ae-4520-4ad2-a3ca-730f46e1ff64",
        "outputId": "407547c6-c183-4331-d4e9-2dc6abbad4a2"
      },
      "outputs": [
        {
          "name": "stdout",
          "output_type": "stream",
          "text": [
            "[176 248   3   2  48  53  55 254 242 240 185 184 306 257 303 469 477 478\n",
            " 300 264 266 265 326 272 517 517 310 339 334 325 321 322 318 324 324 323\n",
            " 330 298 293 199 488 181 182 157 172 165 170 167 149 153 152  12  10  18\n",
            "  25  14 414  41  33  50 492 186  92 102 101  90  96 213 217  71  76  85\n",
            "  86  66  63 449 123 122 121 117 114 108 131 130 435 137 135 206 207 233\n",
            " 237 234 354 235 236 311 313 313 314 316 315 319 238 244 281 280 320 286\n",
            " 287 470 191  23  28 100 179 212 148 211 189  19  35   8  40  39  22  38\n",
            " 151  17 150 103 127 160 159 119  13 105 404  32 332 356 204 188 481  70\n",
            " 192 358 383 383 231 396 111 145 389 372 377 401 381 376 519  75 366 400\n",
            "   7 385 197 384 329 363 347 228  57 387 146 489  81 110 208  56  82 163\n",
            "  60 273  49 434 109 120 382 118 500  32 250 523 158 505 505  24  20  27\n",
            " 502 196 196 532 104 112 113  37 503 142 187 115 176 143  30  21 538 490\n",
            " 439 451 169 387 387 387 440 173 508 144 490 446 249   9 450 249 202 496\n",
            " 224 239 227 229 422 205 327 331  31 437  46  93 116 447 458 446 180 459\n",
            " 501 506 246 455 501 459 501 195  84 443  84 246 307 501 204 459 504 504\n",
            " 458 491  54  43 247 494 501 246 247 462 501 490 246 507 491 501 458 164\n",
            " 501 495 360 447 462  70 312 254  56  69  69 312  72 308 198 198  71 373\n",
            " 134 155 133 398 174 437 253 175 173 407 427 353 297 408 292 413 368 369\n",
            " 216 215  26  27 200 173 420  66 533 280 245 255 304  92 152  75 253 210\n",
            " 283 283 447 504 289  87 233 504 204 309  72 252 462 180 163 209]\n"
          ]
        }
      ],
      "source": [
        "idx1 = np.argmin(distance_to_shore, axis=1)\n",
        "idx2 = np.argmax(within_boolean, axis=1)\n",
        "idx = idx2\n",
        "np.copyto(idx, idx1, where=idx== 0)\n",
        "print(idx)"
      ]
    },
    {
      "cell_type": "code",
      "execution_count": null,
      "id": "598fd73a-1d3d-48ef-96dc-364ff5e3da07",
      "metadata": {
        "id": "598fd73a-1d3d-48ef-96dc-364ff5e3da07"
      },
      "outputs": [],
      "source": [
        "DNR_WATER_BODY = MO_DNR.iloc[idx]['WATER_BODY']\n",
        "DNR_WATER_BODY.index = geo_df.index\n",
        "DNR_FID = MO_DNR.iloc[idx]['FID']\n",
        "DNR_FID.index = geo_df.index\n",
        "DNR_STNDRD_ID = MO_DNR.iloc[idx]['STNDRD_ID']\n",
        "DNR_STNDRD_ID.index = geo_df.index\n",
        "DNR_Area = MO_DNR.iloc[idx]['Shape__Area']\n",
        "DNR_Area.index = geo_df.index\n",
        "DNR_Length = MO_DNR.iloc[idx]['Shape__Length']\n",
        "DNR_Length.index = geo_df.index\n",
        "DNR_HUC_8 = MO_DNR.iloc[idx]['HUC_8']\n",
        "DNR_HUC_8.index = geo_df.index\n",
        "\n",
        "final_MU_DNR = pd.concat([geo_df, DNR_WATER_BODY, DNR_FID, DNR_STNDRD_ID, DNR_Area,DNR_Length,DNR_HUC_8], axis=1)\n",
        "final_MU_DNR.to_csv(\"MU DNR.csv\")"
      ]
    },
    {
      "cell_type": "code",
      "execution_count": null,
      "id": "902c41f7-b604-41a5-8e85-4d3220424c93",
      "metadata": {
        "id": "902c41f7-b604-41a5-8e85-4d3220424c93"
      },
      "outputs": [],
      "source": []
    }
  ],
  "metadata": {
    "kernelspec": {
      "display_name": "Python 3 (ipykernel)",
      "language": "python",
      "name": "python3"
    },
    "language_info": {
      "codemirror_mode": {
        "name": "ipython",
        "version": 3
      },
      "file_extension": ".py",
      "mimetype": "text/x-python",
      "name": "python",
      "nbconvert_exporter": "python",
      "pygments_lexer": "ipython3",
      "version": "3.11.6"
    },
    "colab": {
      "provenance": [],
      "include_colab_link": true
    }
  },
  "nbformat": 4,
  "nbformat_minor": 5
}