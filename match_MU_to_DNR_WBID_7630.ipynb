{
  "cells": [
    {
      "cell_type": "markdown",
      "metadata": {
        "id": "view-in-github",
        "colab_type": "text"
      },
      "source": [
        "<a href=\"https://colab.research.google.com/github/gsilsbe/Missouri_Reservoirs/blob/main/match_MU_to_DNR_WBID_7630.ipynb\" target=\"_parent\"><img src=\"https://colab.research.google.com/assets/colab-badge.svg\" alt=\"Open In Colab\"/></a>"
      ]
    },
    {
      "cell_type": "code",
      "execution_count": 1,
      "id": "06960cfd-5ee7-4996-9b7e-dd6dc6d43e16",
      "metadata": {
        "id": "06960cfd-5ee7-4996-9b7e-dd6dc6d43e16",
        "outputId": "1007b18a-eada-4541-e1ed-75a7d910b575",
        "colab": {
          "base_uri": "https://localhost:8080/"
        }
      },
      "outputs": [
        {
          "output_type": "stream",
          "name": "stdout",
          "text": [
            "Collecting rtree\n",
            "  Downloading Rtree-1.2.0-py3-none-manylinux2014_x86_64.manylinux_2_17_x86_64.whl (535 kB)\n",
            "\u001b[?25l     \u001b[90m━━━━━━━━━━━━━━━━━━━━━━━━━━━━━━━━━━━━━━━━\u001b[0m \u001b[32m0.0/535.2 kB\u001b[0m \u001b[31m?\u001b[0m eta \u001b[36m-:--:--\u001b[0m\r\u001b[2K     \u001b[91m━━━━━━\u001b[0m\u001b[91m╸\u001b[0m\u001b[90m━━━━━━━━━━━━━━━━━━━━━━━━━━━━━━━━━\u001b[0m \u001b[32m92.2/535.2 kB\u001b[0m \u001b[31m2.7 MB/s\u001b[0m eta \u001b[36m0:00:01\u001b[0m\r\u001b[2K     \u001b[91m━━━━━━━━━━━━━━━━━━━━━━━━━━━━━━━━━━━━━━━\u001b[0m\u001b[91m╸\u001b[0m \u001b[32m532.5/535.2 kB\u001b[0m \u001b[31m8.9 MB/s\u001b[0m eta \u001b[36m0:00:01\u001b[0m\r\u001b[2K     \u001b[90m━━━━━━━━━━━━━━━━━━━━━━━━━━━━━━━━━━━━━━━━\u001b[0m \u001b[32m535.2/535.2 kB\u001b[0m \u001b[31m7.4 MB/s\u001b[0m eta \u001b[36m0:00:00\u001b[0m\n",
            "\u001b[?25hInstalling collected packages: rtree\n",
            "Successfully installed rtree-1.2.0\n"
          ]
        }
      ],
      "source": [
        "import pandas as pd\n",
        "import geopandas as gpd\n",
        "import numpy as np\n",
        "!pip install rtree\n",
        "import rtree\n",
        "import json\n",
        "\n",
        "from shapely import geometry, ops\n",
        "from shapely.geometry import Polygon\n",
        "from shapely.geometry import Point\n",
        "from shapely.geometry.multipolygon import MultiPolygon\n",
        "from shapely.ops import cascaded_union\n",
        "from shapely.ops import unary_union\n",
        "\n",
        "from shapely import intersection\n",
        "from shapely import intersects\n",
        "from shapely import concave_hull\n",
        "from shapely import difference, within, contains\n",
        "import os"
      ]
    },
    {
      "cell_type": "code",
      "execution_count": 3,
      "id": "2151aa0e-b960-48f4-9691-8efcb0b7b3a6",
      "metadata": {
        "id": "2151aa0e-b960-48f4-9691-8efcb0b7b3a6",
        "outputId": "6cfc81ca-83cf-488e-eaba-beed336ac419",
        "colab": {
          "base_uri": "https://localhost:8080/",
          "height": 634
        }
      },
      "outputs": [
        {
          "output_type": "stream",
          "name": "stderr",
          "text": [
            "ERROR:fiona._env:At line 497, character 1336821: Unterminated object\n",
            "ERROR:fiona._env:Failed to read GeoJSON data\n"
          ]
        },
        {
          "output_type": "error",
          "ename": "DriverError",
          "evalue": "Failed to read GeoJSON data",
          "traceback": [
            "\u001b[0;31m---------------------------------------------------------------------------\u001b[0m",
            "\u001b[0;31mCPLE_OpenFailedError\u001b[0m                      Traceback (most recent call last)",
            "\u001b[0;32mfiona/ogrext.pyx\u001b[0m in \u001b[0;36mfiona.ogrext.gdal_open_vector\u001b[0;34m()\u001b[0m\n",
            "\u001b[0;32mfiona/_err.pyx\u001b[0m in \u001b[0;36mfiona._err.exc_wrap_pointer\u001b[0;34m()\u001b[0m\n",
            "\u001b[0;31mCPLE_OpenFailedError\u001b[0m: Failed to read GeoJSON data",
            "\nDuring handling of the above exception, another exception occurred:\n",
            "\u001b[0;31mDriverError\u001b[0m                               Traceback (most recent call last)",
            "\u001b[0;32m<ipython-input-3-d0aa102e242d>\u001b[0m in \u001b[0;36m<cell line: 4>\u001b[0;34m()\u001b[0m\n\u001b[1;32m      2\u001b[0m \u001b[0mwarnings\u001b[0m\u001b[0;34m.\u001b[0m\u001b[0mfilterwarnings\u001b[0m\u001b[0;34m(\u001b[0m\u001b[0;34m\"ignore\"\u001b[0m\u001b[0;34m,\u001b[0m\u001b[0mcategory\u001b[0m\u001b[0;34m=\u001b[0m\u001b[0mRuntimeWarning\u001b[0m\u001b[0;34m)\u001b[0m\u001b[0;34m\u001b[0m\u001b[0;34m\u001b[0m\u001b[0m\n\u001b[1;32m      3\u001b[0m \u001b[0;34m\u001b[0m\u001b[0m\n\u001b[0;32m----> 4\u001b[0;31m \u001b[0mMO_DNR\u001b[0m \u001b[0;34m=\u001b[0m \u001b[0mgpd\u001b[0m\u001b[0;34m.\u001b[0m\u001b[0mread_file\u001b[0m\u001b[0;34m(\u001b[0m\u001b[0;34m\"MO_2020_WQS_Lake_Classification_and_Use.geojson\"\u001b[0m\u001b[0;34m,\u001b[0m \u001b[0mdriver\u001b[0m\u001b[0;34m=\u001b[0m\u001b[0;34m'GeoJSON'\u001b[0m\u001b[0;34m)\u001b[0m\u001b[0;34m\u001b[0m\u001b[0;34m\u001b[0m\u001b[0m\n\u001b[0m\u001b[1;32m      5\u001b[0m \u001b[0mMO_DNR\u001b[0m \u001b[0;34m=\u001b[0m \u001b[0mMO_DNR\u001b[0m\u001b[0;34m.\u001b[0m\u001b[0mdrop\u001b[0m\u001b[0;34m(\u001b[0m\u001b[0mcolumns\u001b[0m\u001b[0;34m=\u001b[0m\u001b[0;34m\"EVENTDAT\"\u001b[0m\u001b[0;34m)\u001b[0m\u001b[0;34m.\u001b[0m\u001b[0mdrop\u001b[0m\u001b[0;34m(\u001b[0m\u001b[0mcolumns\u001b[0m\u001b[0;34m=\u001b[0m\u001b[0;34m\"REACHSMDAT\"\u001b[0m\u001b[0;34m)\u001b[0m\u001b[0;34m.\u001b[0m\u001b[0mround\u001b[0m\u001b[0;34m(\u001b[0m\u001b[0;36m0\u001b[0m\u001b[0;34m)\u001b[0m\u001b[0;34m\u001b[0m\u001b[0;34m\u001b[0m\u001b[0m\n\u001b[1;32m      6\u001b[0m \u001b[0mMO_DNR_7630\u001b[0m \u001b[0;34m=\u001b[0m \u001b[0mMO_DNR\u001b[0m\u001b[0;34m[\u001b[0m\u001b[0mMO_DNR\u001b[0m\u001b[0;34m[\u001b[0m\u001b[0;34m\"WATER_BODY\"\u001b[0m\u001b[0;34m]\u001b[0m \u001b[0;34m==\u001b[0m\u001b[0;34m\"100K Extent-Remaining Lakes\"\u001b[0m\u001b[0;34m]\u001b[0m\u001b[0;34m\u001b[0m\u001b[0;34m\u001b[0m\u001b[0m\n",
            "\u001b[0;32m/usr/local/lib/python3.10/dist-packages/geopandas/io/file.py\u001b[0m in \u001b[0;36m_read_file\u001b[0;34m(filename, bbox, mask, rows, engine, **kwargs)\u001b[0m\n\u001b[1;32m    279\u001b[0m             \u001b[0mpath_or_bytes\u001b[0m \u001b[0;34m=\u001b[0m \u001b[0mfilename\u001b[0m\u001b[0;34m\u001b[0m\u001b[0;34m\u001b[0m\u001b[0m\n\u001b[1;32m    280\u001b[0m \u001b[0;34m\u001b[0m\u001b[0m\n\u001b[0;32m--> 281\u001b[0;31m         return _read_file_fiona(\n\u001b[0m\u001b[1;32m    282\u001b[0m             \u001b[0mpath_or_bytes\u001b[0m\u001b[0;34m,\u001b[0m \u001b[0mfrom_bytes\u001b[0m\u001b[0;34m,\u001b[0m \u001b[0mbbox\u001b[0m\u001b[0;34m=\u001b[0m\u001b[0mbbox\u001b[0m\u001b[0;34m,\u001b[0m \u001b[0mmask\u001b[0m\u001b[0;34m=\u001b[0m\u001b[0mmask\u001b[0m\u001b[0;34m,\u001b[0m \u001b[0mrows\u001b[0m\u001b[0;34m=\u001b[0m\u001b[0mrows\u001b[0m\u001b[0;34m,\u001b[0m \u001b[0;34m**\u001b[0m\u001b[0mkwargs\u001b[0m\u001b[0;34m\u001b[0m\u001b[0;34m\u001b[0m\u001b[0m\n\u001b[1;32m    283\u001b[0m         )\n",
            "\u001b[0;32m/usr/local/lib/python3.10/dist-packages/geopandas/io/file.py\u001b[0m in \u001b[0;36m_read_file_fiona\u001b[0;34m(path_or_bytes, from_bytes, bbox, mask, rows, where, **kwargs)\u001b[0m\n\u001b[1;32m    320\u001b[0m \u001b[0;34m\u001b[0m\u001b[0m\n\u001b[1;32m    321\u001b[0m     \u001b[0;32mwith\u001b[0m \u001b[0mfiona_env\u001b[0m\u001b[0;34m(\u001b[0m\u001b[0;34m)\u001b[0m\u001b[0;34m:\u001b[0m\u001b[0;34m\u001b[0m\u001b[0;34m\u001b[0m\u001b[0m\n\u001b[0;32m--> 322\u001b[0;31m         \u001b[0;32mwith\u001b[0m \u001b[0mreader\u001b[0m\u001b[0;34m(\u001b[0m\u001b[0mpath_or_bytes\u001b[0m\u001b[0;34m,\u001b[0m \u001b[0;34m**\u001b[0m\u001b[0mkwargs\u001b[0m\u001b[0;34m)\u001b[0m \u001b[0;32mas\u001b[0m \u001b[0mfeatures\u001b[0m\u001b[0;34m:\u001b[0m\u001b[0;34m\u001b[0m\u001b[0;34m\u001b[0m\u001b[0m\n\u001b[0m\u001b[1;32m    323\u001b[0m             \u001b[0mcrs\u001b[0m \u001b[0;34m=\u001b[0m \u001b[0mfeatures\u001b[0m\u001b[0;34m.\u001b[0m\u001b[0mcrs_wkt\u001b[0m\u001b[0;34m\u001b[0m\u001b[0;34m\u001b[0m\u001b[0m\n\u001b[1;32m    324\u001b[0m             \u001b[0;31m# attempt to get EPSG code\u001b[0m\u001b[0;34m\u001b[0m\u001b[0;34m\u001b[0m\u001b[0m\n",
            "\u001b[0;32m/usr/local/lib/python3.10/dist-packages/fiona/env.py\u001b[0m in \u001b[0;36mwrapper\u001b[0;34m(*args, **kwds)\u001b[0m\n\u001b[1;32m    455\u001b[0m \u001b[0;34m\u001b[0m\u001b[0m\n\u001b[1;32m    456\u001b[0m         \u001b[0;32mwith\u001b[0m \u001b[0menv_ctor\u001b[0m\u001b[0;34m(\u001b[0m\u001b[0msession\u001b[0m\u001b[0;34m=\u001b[0m\u001b[0msession\u001b[0m\u001b[0;34m)\u001b[0m\u001b[0;34m:\u001b[0m\u001b[0;34m\u001b[0m\u001b[0;34m\u001b[0m\u001b[0m\n\u001b[0;32m--> 457\u001b[0;31m             \u001b[0;32mreturn\u001b[0m \u001b[0mf\u001b[0m\u001b[0;34m(\u001b[0m\u001b[0;34m*\u001b[0m\u001b[0margs\u001b[0m\u001b[0;34m,\u001b[0m \u001b[0;34m**\u001b[0m\u001b[0mkwds\u001b[0m\u001b[0;34m)\u001b[0m\u001b[0;34m\u001b[0m\u001b[0;34m\u001b[0m\u001b[0m\n\u001b[0m\u001b[1;32m    458\u001b[0m \u001b[0;34m\u001b[0m\u001b[0m\n\u001b[1;32m    459\u001b[0m     \u001b[0;32mreturn\u001b[0m \u001b[0mwrapper\u001b[0m\u001b[0;34m\u001b[0m\u001b[0;34m\u001b[0m\u001b[0m\n",
            "\u001b[0;32m/usr/local/lib/python3.10/dist-packages/fiona/__init__.py\u001b[0m in \u001b[0;36mopen\u001b[0;34m(fp, mode, driver, schema, crs, encoding, layer, vfs, enabled_drivers, crs_wkt, allow_unsupported_drivers, **kwargs)\u001b[0m\n\u001b[1;32m    290\u001b[0m \u001b[0;34m\u001b[0m\u001b[0m\n\u001b[1;32m    291\u001b[0m         \u001b[0;32mif\u001b[0m \u001b[0mmode\u001b[0m \u001b[0;32min\u001b[0m \u001b[0;34m(\u001b[0m\u001b[0;34m\"a\"\u001b[0m\u001b[0;34m,\u001b[0m \u001b[0;34m\"r\"\u001b[0m\u001b[0;34m)\u001b[0m\u001b[0;34m:\u001b[0m\u001b[0;34m\u001b[0m\u001b[0;34m\u001b[0m\u001b[0m\n\u001b[0;32m--> 292\u001b[0;31m             colxn = Collection(\n\u001b[0m\u001b[1;32m    293\u001b[0m                 \u001b[0mpath\u001b[0m\u001b[0;34m,\u001b[0m\u001b[0;34m\u001b[0m\u001b[0;34m\u001b[0m\u001b[0m\n\u001b[1;32m    294\u001b[0m                 \u001b[0mmode\u001b[0m\u001b[0;34m,\u001b[0m\u001b[0;34m\u001b[0m\u001b[0;34m\u001b[0m\u001b[0m\n",
            "\u001b[0;32m/usr/local/lib/python3.10/dist-packages/fiona/collection.py\u001b[0m in \u001b[0;36m__init__\u001b[0;34m(self, path, mode, driver, schema, crs, encoding, layer, vsi, archive, enabled_drivers, crs_wkt, ignore_fields, ignore_geometry, include_fields, wkt_version, allow_unsupported_drivers, **kwargs)\u001b[0m\n\u001b[1;32m    241\u001b[0m             \u001b[0;32mif\u001b[0m \u001b[0mself\u001b[0m\u001b[0;34m.\u001b[0m\u001b[0mmode\u001b[0m \u001b[0;34m==\u001b[0m \u001b[0;34m\"r\"\u001b[0m\u001b[0;34m:\u001b[0m\u001b[0;34m\u001b[0m\u001b[0;34m\u001b[0m\u001b[0m\n\u001b[1;32m    242\u001b[0m                 \u001b[0mself\u001b[0m\u001b[0;34m.\u001b[0m\u001b[0msession\u001b[0m \u001b[0;34m=\u001b[0m \u001b[0mSession\u001b[0m\u001b[0;34m(\u001b[0m\u001b[0;34m)\u001b[0m\u001b[0;34m\u001b[0m\u001b[0;34m\u001b[0m\u001b[0m\n\u001b[0;32m--> 243\u001b[0;31m                 \u001b[0mself\u001b[0m\u001b[0;34m.\u001b[0m\u001b[0msession\u001b[0m\u001b[0;34m.\u001b[0m\u001b[0mstart\u001b[0m\u001b[0;34m(\u001b[0m\u001b[0mself\u001b[0m\u001b[0;34m,\u001b[0m \u001b[0;34m**\u001b[0m\u001b[0mkwargs\u001b[0m\u001b[0;34m)\u001b[0m\u001b[0;34m\u001b[0m\u001b[0;34m\u001b[0m\u001b[0m\n\u001b[0m\u001b[1;32m    244\u001b[0m             \u001b[0;32melif\u001b[0m \u001b[0mself\u001b[0m\u001b[0;34m.\u001b[0m\u001b[0mmode\u001b[0m \u001b[0;32min\u001b[0m \u001b[0;34m(\u001b[0m\u001b[0;34m\"a\"\u001b[0m\u001b[0;34m,\u001b[0m \u001b[0;34m\"w\"\u001b[0m\u001b[0;34m)\u001b[0m\u001b[0;34m:\u001b[0m\u001b[0;34m\u001b[0m\u001b[0;34m\u001b[0m\u001b[0m\n\u001b[1;32m    245\u001b[0m                 \u001b[0mself\u001b[0m\u001b[0;34m.\u001b[0m\u001b[0msession\u001b[0m \u001b[0;34m=\u001b[0m \u001b[0mWritingSession\u001b[0m\u001b[0;34m(\u001b[0m\u001b[0;34m)\u001b[0m\u001b[0;34m\u001b[0m\u001b[0;34m\u001b[0m\u001b[0m\n",
            "\u001b[0;32mfiona/ogrext.pyx\u001b[0m in \u001b[0;36mfiona.ogrext.Session.start\u001b[0;34m()\u001b[0m\n",
            "\u001b[0;32mfiona/ogrext.pyx\u001b[0m in \u001b[0;36mfiona.ogrext.gdal_open_vector\u001b[0;34m()\u001b[0m\n",
            "\u001b[0;31mDriverError\u001b[0m: Failed to read GeoJSON data"
          ]
        }
      ],
      "source": [
        "import warnings\n",
        "warnings.filterwarnings(\"ignore\",category=RuntimeWarning)\n",
        "\n",
        "MO_DNR = gpd.read_file(\"MO_2020_WQS_Lake_Classification_and_Use.geojson\", driver='GeoJSON')\n",
        "MO_DNR = MO_DNR.drop(columns=\"EVENTDAT\").drop(columns=\"REACHSMDAT\").round(0)\n",
        "MO_DNR_7630 = MO_DNR[MO_DNR[\"WATER_BODY\"] ==\"100K Extent-Remaining Lakes\"]\n",
        "MO_DNR = MO_DNR.to_crs(crs=3857)\n",
        "MO_DNR_7630 = MO_DNR_7630.to_crs(crs=3857)\n",
        "MO_DNR = MO_DNR.dissolve(by=\"WBID\")\n",
        "# Plot\n",
        "MO_DNR.plot()\n",
        "MO_DNR_7630.plot()\n",
        "\n",
        "# Column names\n",
        "MO_DNR.keys()"
      ]
    },
    {
      "cell_type": "markdown",
      "id": "e7464b0e-5180-4f1a-8c2f-dc4ff0c4e788",
      "metadata": {
        "id": "e7464b0e-5180-4f1a-8c2f-dc4ff0c4e788"
      },
      "source": [
        "## Read in MU data, convert lat lon columns to geometry"
      ]
    },
    {
      "cell_type": "code",
      "execution_count": null,
      "id": "7273c8ba-233c-4ede-b6ec-a01a5ad688c4",
      "metadata": {
        "id": "7273c8ba-233c-4ede-b6ec-a01a5ad688c4"
      },
      "outputs": [],
      "source": [
        "MU = pd.read_csv('MU_v_DNR.csv')\n",
        "MU = MU[MU['stateID']==29]\n",
        "MU = MU.drop(columns=\"Distance\").drop(columns=\"waterBodyDesc\").drop(columns=\"countyID\").drop(columns=\"countryID\").drop(columns=\"stateID\").drop(columns=\"waterBodyTypeID\").drop(columns=\"MDNRNameID\").drop(columns=\"primarySLAP19\").drop(columns=\"notes\").drop(columns=\"geometry\")\n",
        "MU_gdf = gpd.GeoDataFrame(MU, geometry=gpd.points_from_xy(MU.waterBodyLongitude, MU.waterBodyLatitude) ).set_crs(4326)\n",
        "MU_gdf = MU_gdf.to_crs(crs=3857)\n",
        "MU_gdf[\"WBID\"] = MU_gdf[\"WBID\"].fillna(0).astype(int) # convert just column WBID to integer\n",
        "MU_gdf.plot()\n",
        "MU_gdf.keys()"
      ]
    },
    {
      "cell_type": "code",
      "source": [
        "# Creating an index based on rows of MO_DNR\n",
        "index = rtree.index.Index()\n",
        "for idx, row in MO_DNR.iterrows():\n",
        "  index.insert(idx, row.geometry.bounds)"
      ],
      "metadata": {
        "id": "VUqCe_c9VNOd"
      },
      "id": "VUqCe_c9VNOd",
      "execution_count": null,
      "outputs": []
    },
    {
      "cell_type": "markdown",
      "source": [
        "Find nearest WaterBody"
      ],
      "metadata": {
        "id": "GSb8GDLuFtdl"
      },
      "id": "GSb8GDLuFtdl"
    },
    {
      "cell_type": "code",
      "execution_count": null,
      "id": "f89a58aa-ff57-4b47-960d-cd8a00091291",
      "metadata": {
        "id": "f89a58aa-ff57-4b47-960d-cd8a00091291",
        "outputId": "ec043fab-0d4e-4f74-fe61-9936f6efeb9a",
        "colab": {
          "base_uri": "https://localhost:8080/"
        }
      },
      "outputs": [
        {
          "output_type": "stream",
          "name": "stdout",
          "text": [
            "great 0.geojson\n",
            "great 0.geojson\n",
            "great 0.geojson\n",
            "great 0.geojson\n",
            "great 0.geojson\n",
            "great 0.geojson\n",
            "great 0.geojson\n",
            "great 0.geojson\n",
            "great 0.geojson\n",
            "great 0.geojson\n",
            "great 0.geojson\n",
            "great 0.geojson\n",
            "great 0.geojson\n",
            "great 0.geojson\n",
            "great 0.geojson\n",
            "great 0.geojson\n",
            "great 0.geojson\n",
            "great 0.geojson\n",
            "great 0.geojson\n",
            "great 0.geojson\n",
            "great 0.geojson\n",
            "great 0.geojson\n",
            "great 0.geojson\n",
            "great 0.geojson\n",
            "great 0.geojson\n",
            "great 0.geojson\n",
            "great 0.geojson\n",
            "great 0.geojson\n",
            "great 0.geojson\n",
            "great 0.geojson\n",
            "great 0.geojson\n",
            "great 0.geojson\n",
            "great 0.geojson\n",
            "great 0.geojson\n",
            "great 0.geojson\n",
            "great 0.geojson\n",
            "great 0.geojson\n",
            "great 0.geojson\n"
          ]
        }
      ],
      "source": [
        "for i in range(0,len(MU_gdf)):\n",
        "  if MU_gdf.iloc[i][\"WBID\"] ==7630: # Gets geometry of closest WBID 760\n",
        "    distances = np.zeros(len(MO_DNR))\n",
        "    for j in range(0, len(MO_DNR)):\n",
        "        distances[j] = MU_gdf.iloc[i].geometry.distance(MO_DNR_7630.iloc[j].geometry.centroid)\n",
        "    idx = np.argmin(distances)\n",
        "    MU_gdf.iloc[i, MU_gdf.columns.get_loc('geometry')] =  MO_DNR_7630.iloc[idx].geometry\n",
        "  elif MU_gdf.iloc[i]['WBID']!=0: # Gets geometry based on WBID\n",
        "    #idx = MU_gdf.loc[i]['WBID']\n",
        "    idx = list(index.intersection(MU_gdf.iloc[i].geometry.bounds))[0]\n",
        "    #print(idx)\n",
        "    MU_gdf.iloc[i, MU_gdf.columns.get_loc('geometry')] = MO_DNR.loc[idx].geometry\n",
        "  else: # Looks for MU#.geojson\n",
        "    if os.path.exists(str(MU_gdf.iloc[i][\"MULakeNumber\"]) + '.geojson'):\n",
        "      print('great ' + str(MU_gdf.iloc[i][\"MULakeNumber\"]) + '.geojson')\n",
        "      gee_gdf = gpd.read_file(str(WBID) + '.geojson', driver='GeoJSON')\n",
        "      MU_gdf.iloc[i, MU_gdf.columns.get_loc('geometry')] = gee_gdf.geometry\n"
      ]
    },
    {
      "cell_type": "markdown",
      "source": [
        "Insert GEE Shapefiles testing"
      ],
      "metadata": {
        "id": "fCKafshxKcPJ"
      },
      "id": "fCKafshxKcPJ"
    },
    {
      "cell_type": "code",
      "source": [
        "WBID = 215\n",
        "gee_gdf = gpd.read_file(str(WBID) + '.geojson', driver='GeoJSON')\n",
        "gee_gdf"
      ],
      "metadata": {
        "id": "mQn67LQTKbhO",
        "outputId": "cec33e31-5eb0-4e22-9a57-0c34530adfb7",
        "colab": {
          "base_uri": "https://localhost:8080/",
          "height": 81
        }
      },
      "id": "mQn67LQTKbhO",
      "execution_count": null,
      "outputs": [
        {
          "output_type": "execute_result",
          "data": {
            "text/plain": [
              "                id  count  label  \\\n",
              "0  -1022616+437777    492      1   \n",
              "\n",
              "                                            geometry  \n",
              "0  POLYGON ((-91.86531 39.32627, -91.86531 39.326...  "
            ],
            "text/html": [
              "\n",
              "  <div id=\"df-eb1593ce-0d19-4caa-8a3d-38114ea50b42\" class=\"colab-df-container\">\n",
              "    <div>\n",
              "<style scoped>\n",
              "    .dataframe tbody tr th:only-of-type {\n",
              "        vertical-align: middle;\n",
              "    }\n",
              "\n",
              "    .dataframe tbody tr th {\n",
              "        vertical-align: top;\n",
              "    }\n",
              "\n",
              "    .dataframe thead th {\n",
              "        text-align: right;\n",
              "    }\n",
              "</style>\n",
              "<table border=\"1\" class=\"dataframe\">\n",
              "  <thead>\n",
              "    <tr style=\"text-align: right;\">\n",
              "      <th></th>\n",
              "      <th>id</th>\n",
              "      <th>count</th>\n",
              "      <th>label</th>\n",
              "      <th>geometry</th>\n",
              "    </tr>\n",
              "  </thead>\n",
              "  <tbody>\n",
              "    <tr>\n",
              "      <th>0</th>\n",
              "      <td>-1022616+437777</td>\n",
              "      <td>492</td>\n",
              "      <td>1</td>\n",
              "      <td>POLYGON ((-91.86531 39.32627, -91.86531 39.326...</td>\n",
              "    </tr>\n",
              "  </tbody>\n",
              "</table>\n",
              "</div>\n",
              "    <div class=\"colab-df-buttons\">\n",
              "\n",
              "  <div class=\"colab-df-container\">\n",
              "    <button class=\"colab-df-convert\" onclick=\"convertToInteractive('df-eb1593ce-0d19-4caa-8a3d-38114ea50b42')\"\n",
              "            title=\"Convert this dataframe to an interactive table.\"\n",
              "            style=\"display:none;\">\n",
              "\n",
              "  <svg xmlns=\"http://www.w3.org/2000/svg\" height=\"24px\" viewBox=\"0 -960 960 960\">\n",
              "    <path d=\"M120-120v-720h720v720H120Zm60-500h600v-160H180v160Zm220 220h160v-160H400v160Zm0 220h160v-160H400v160ZM180-400h160v-160H180v160Zm440 0h160v-160H620v160ZM180-180h160v-160H180v160Zm440 0h160v-160H620v160Z\"/>\n",
              "  </svg>\n",
              "    </button>\n",
              "\n",
              "  <style>\n",
              "    .colab-df-container {\n",
              "      display:flex;\n",
              "      gap: 12px;\n",
              "    }\n",
              "\n",
              "    .colab-df-convert {\n",
              "      background-color: #E8F0FE;\n",
              "      border: none;\n",
              "      border-radius: 50%;\n",
              "      cursor: pointer;\n",
              "      display: none;\n",
              "      fill: #1967D2;\n",
              "      height: 32px;\n",
              "      padding: 0 0 0 0;\n",
              "      width: 32px;\n",
              "    }\n",
              "\n",
              "    .colab-df-convert:hover {\n",
              "      background-color: #E2EBFA;\n",
              "      box-shadow: 0px 1px 2px rgba(60, 64, 67, 0.3), 0px 1px 3px 1px rgba(60, 64, 67, 0.15);\n",
              "      fill: #174EA6;\n",
              "    }\n",
              "\n",
              "    .colab-df-buttons div {\n",
              "      margin-bottom: 4px;\n",
              "    }\n",
              "\n",
              "    [theme=dark] .colab-df-convert {\n",
              "      background-color: #3B4455;\n",
              "      fill: #D2E3FC;\n",
              "    }\n",
              "\n",
              "    [theme=dark] .colab-df-convert:hover {\n",
              "      background-color: #434B5C;\n",
              "      box-shadow: 0px 1px 3px 1px rgba(0, 0, 0, 0.15);\n",
              "      filter: drop-shadow(0px 1px 2px rgba(0, 0, 0, 0.3));\n",
              "      fill: #FFFFFF;\n",
              "    }\n",
              "  </style>\n",
              "\n",
              "    <script>\n",
              "      const buttonEl =\n",
              "        document.querySelector('#df-eb1593ce-0d19-4caa-8a3d-38114ea50b42 button.colab-df-convert');\n",
              "      buttonEl.style.display =\n",
              "        google.colab.kernel.accessAllowed ? 'block' : 'none';\n",
              "\n",
              "      async function convertToInteractive(key) {\n",
              "        const element = document.querySelector('#df-eb1593ce-0d19-4caa-8a3d-38114ea50b42');\n",
              "        const dataTable =\n",
              "          await google.colab.kernel.invokeFunction('convertToInteractive',\n",
              "                                                    [key], {});\n",
              "        if (!dataTable) return;\n",
              "\n",
              "        const docLinkHtml = 'Like what you see? Visit the ' +\n",
              "          '<a target=\"_blank\" href=https://colab.research.google.com/notebooks/data_table.ipynb>data table notebook</a>'\n",
              "          + ' to learn more about interactive tables.';\n",
              "        element.innerHTML = '';\n",
              "        dataTable['output_type'] = 'display_data';\n",
              "        await google.colab.output.renderOutput(dataTable, element);\n",
              "        const docLink = document.createElement('div');\n",
              "        docLink.innerHTML = docLinkHtml;\n",
              "        element.appendChild(docLink);\n",
              "      }\n",
              "    </script>\n",
              "  </div>\n",
              "\n",
              "    </div>\n",
              "  </div>\n"
            ],
            "application/vnd.google.colaboratory.intrinsic+json": {
              "type": "dataframe",
              "variable_name": "gee_gdf",
              "summary": "{\n  \"name\": \"gee_gdf\",\n  \"rows\": 1,\n  \"fields\": [\n    {\n      \"column\": \"id\",\n      \"properties\": {\n        \"dtype\": \"string\",\n        \"num_unique_values\": 1,\n        \"samples\": [\n          \"-1022616+437777\"\n        ],\n        \"semantic_type\": \"\",\n        \"description\": \"\"\n      }\n    },\n    {\n      \"column\": \"count\",\n      \"properties\": {\n        \"dtype\": \"number\",\n        \"std\": null,\n        \"min\": 492,\n        \"max\": 492,\n        \"num_unique_values\": 1,\n        \"samples\": [\n          492\n        ],\n        \"semantic_type\": \"\",\n        \"description\": \"\"\n      }\n    },\n    {\n      \"column\": \"label\",\n      \"properties\": {\n        \"dtype\": \"number\",\n        \"std\": null,\n        \"min\": 1,\n        \"max\": 1,\n        \"num_unique_values\": 1,\n        \"samples\": [\n          1\n        ],\n        \"semantic_type\": \"\",\n        \"description\": \"\"\n      }\n    },\n    {\n      \"column\": \"geometry\",\n      \"properties\": {\n        \"dtype\": \"geometry\",\n        \"num_unique_values\": 1,\n        \"samples\": [\n          \"POLYGON ((-91.86531421519875 39.326266845127584, -91.86531421519875 39.326087182070765, -91.86558370978398 39.326087182070765, -91.86558370978398 39.32590751901394, -91.86585320436922 39.32590751901394, -91.86585320436922 39.32572785595712, -91.86603286742604 39.32572785595712, -91.86603286742604 39.32554819290029, -91.86630236201128 39.32554819290029, -91.86630236201128 39.325368529843466, -91.8664820250681 39.325368529843466, -91.8664820250681 39.32518886678665, -91.86675151965333 39.32518886678665, -91.86675151965333 39.324829540672994, -91.86702101423857 39.324829540672994, -91.86702101423857 39.324649877616174, -91.86657185659651 39.324649877616174, -91.86657185659651 39.324829540672994, -91.86603286742604 39.324829540672994, -91.86603286742604 39.32500920372982, -91.86558370978398 39.32500920372982, -91.86558370978398 39.32518886678665, -91.86513455214192 39.32518886678665, -91.86513455214192 39.32500920372982, -91.86486505755668 39.32500920372982, -91.86486505755668 39.324649877616174, -91.86468539449986 39.324649877616174, -91.86468539449986 39.3241108884457, -91.86441589991462 39.3241108884457, -91.86441589991462 39.324649877616174, -91.8642362368578 39.324649877616174, -91.8642362368578 39.32491937220141, -91.86405657380098 39.32491937220141, -91.86405657380098 39.32500920372982, -91.86387691074415 39.32500920372982, -91.86387691074415 39.32509903525823, -91.86369724768733 39.32509903525823, -91.86369724768733 39.32518886678665, -91.8635175846305 39.32518886678665, -91.8635175846305 39.32554819290029, -91.86306842698845 39.32554819290029, -91.86306842698845 39.326266845127584, -91.86531421519875 39.326266845127584))\"\n        ],\n        \"semantic_type\": \"\",\n        \"description\": \"\"\n      }\n    }\n  ]\n}"
            }
          },
          "metadata": {},
          "execution_count": 17
        }
      ]
    },
    {
      "cell_type": "code",
      "source": [
        "# Saving the data as csv\n",
        "MU_gdf.to_csv(\"MU_gdf.csv\")"
      ],
      "metadata": {
        "id": "MsPBbWRBR2oe"
      },
      "id": "MsPBbWRBR2oe",
      "execution_count": null,
      "outputs": []
    },
    {
      "cell_type": "code",
      "source": [
        "# Saving a geojson file\n",
        "\n",
        "# First converts the GeoDataFrame to a JSON string\n",
        "json_string = MU_gdf.to_json(na=\"drop\")\n",
        "\n",
        "# Then, it opens a file called data.json for writing and uses the json.dump() function to write the JSON string to the file\n",
        "with open(\"data.json\", \"w\") as f:\n",
        "    json.dump(json_string, f)"
      ],
      "metadata": {
        "id": "-zofE4hZdpHw"
      },
      "id": "-zofE4hZdpHw",
      "execution_count": null,
      "outputs": []
    },
    {
      "cell_type": "code",
      "execution_count": null,
      "id": "c7a4818f-7136-4396-b92c-6315577c3f82",
      "metadata": {
        "id": "c7a4818f-7136-4396-b92c-6315577c3f82"
      },
      "outputs": [],
      "source": [
        "# iloc method uses an integer indexing\n",
        "# loc method supports both integer and label-based indexing\n",
        "\n",
        "MO_WATERBODY = MO_DNR.loc[idx]['WATER_BODY']\n",
        "MO_WBID = MO_DNR.loc[idx]['WBID']\n",
        "MO_WATERBODY.index = MU_gdf.index\n",
        "MO_WBID.index = MU_gdf.index\n",
        "distance = pd.Series(distance, index =  MU_gdf.index)\n",
        "\n",
        "final_MU = pd.concat([MU_gdf, MO_WATERBODY, MO_WBID, distance], axis=1)\n",
        "#final_MU.to_csv(\"MU_v_DNR.csv\")\n",
        "final_MU"
      ]
    },
    {
      "cell_type": "code",
      "execution_count": null,
      "id": "103aee48-b98e-4a92-a95a-ba2c658f8916",
      "metadata": {
        "id": "103aee48-b98e-4a92-a95a-ba2c658f8916"
      },
      "outputs": [],
      "source": [
        "final_MU"
      ]
    },
    {
      "cell_type": "code",
      "execution_count": null,
      "id": "d7e662ae-4520-4ad2-a3ca-730f46e1ff64",
      "metadata": {
        "id": "d7e662ae-4520-4ad2-a3ca-730f46e1ff64",
        "outputId": "407547c6-c183-4331-d4e9-2dc6abbad4a2"
      },
      "outputs": [
        {
          "name": "stdout",
          "output_type": "stream",
          "text": [
            "[176 248   3   2  48  53  55 254 242 240 185 184 306 257 303 469 477 478\n",
            " 300 264 266 265 326 272 517 517 310 339 334 325 321 322 318 324 324 323\n",
            " 330 298 293 199 488 181 182 157 172 165 170 167 149 153 152  12  10  18\n",
            "  25  14 414  41  33  50 492 186  92 102 101  90  96 213 217  71  76  85\n",
            "  86  66  63 449 123 122 121 117 114 108 131 130 435 137 135 206 207 233\n",
            " 237 234 354 235 236 311 313 313 314 316 315 319 238 244 281 280 320 286\n",
            " 287 470 191  23  28 100 179 212 148 211 189  19  35   8  40  39  22  38\n",
            " 151  17 150 103 127 160 159 119  13 105 404  32 332 356 204 188 481  70\n",
            " 192 358 383 383 231 396 111 145 389 372 377 401 381 376 519  75 366 400\n",
            "   7 385 197 384 329 363 347 228  57 387 146 489  81 110 208  56  82 163\n",
            "  60 273  49 434 109 120 382 118 500  32 250 523 158 505 505  24  20  27\n",
            " 502 196 196 532 104 112 113  37 503 142 187 115 176 143  30  21 538 490\n",
            " 439 451 169 387 387 387 440 173 508 144 490 446 249   9 450 249 202 496\n",
            " 224 239 227 229 422 205 327 331  31 437  46  93 116 447 458 446 180 459\n",
            " 501 506 246 455 501 459 501 195  84 443  84 246 307 501 204 459 504 504\n",
            " 458 491  54  43 247 494 501 246 247 462 501 490 246 507 491 501 458 164\n",
            " 501 495 360 447 462  70 312 254  56  69  69 312  72 308 198 198  71 373\n",
            " 134 155 133 398 174 437 253 175 173 407 427 353 297 408 292 413 368 369\n",
            " 216 215  26  27 200 173 420  66 533 280 245 255 304  92 152  75 253 210\n",
            " 283 283 447 504 289  87 233 504 204 309  72 252 462 180 163 209]\n"
          ]
        }
      ],
      "source": [
        "idx1 = np.argmin(distance_to_shore, axis=1)\n",
        "idx2 = np.argmax(within_boolean, axis=1)\n",
        "idx = idx2\n",
        "np.copyto(idx, idx1, where=idx== 0)\n",
        "print(idx)"
      ]
    },
    {
      "cell_type": "code",
      "execution_count": null,
      "id": "598fd73a-1d3d-48ef-96dc-364ff5e3da07",
      "metadata": {
        "id": "598fd73a-1d3d-48ef-96dc-364ff5e3da07"
      },
      "outputs": [],
      "source": [
        "DNR_WATER_BODY = MO_DNR.iloc[idx]['WATER_BODY']\n",
        "DNR_WATER_BODY.index = geo_df.index\n",
        "DNR_FID = MO_DNR.iloc[idx]['FID']\n",
        "DNR_FID.index = geo_df.index\n",
        "DNR_STNDRD_ID = MO_DNR.iloc[idx]['STNDRD_ID']\n",
        "DNR_STNDRD_ID.index = geo_df.index\n",
        "DNR_Area = MO_DNR.iloc[idx]['Shape__Area']\n",
        "DNR_Area.index = geo_df.index\n",
        "DNR_Length = MO_DNR.iloc[idx]['Shape__Length']\n",
        "DNR_Length.index = geo_df.index\n",
        "DNR_HUC_8 = MO_DNR.iloc[idx]['HUC_8']\n",
        "DNR_HUC_8.index = geo_df.index\n",
        "\n",
        "final_MU_DNR = pd.concat([geo_df, DNR_WATER_BODY, DNR_FID, DNR_STNDRD_ID, DNR_Area,DNR_Length,DNR_HUC_8], axis=1)\n",
        "final_MU_DNR.to_csv(\"MU DNR.csv\")"
      ]
    },
    {
      "cell_type": "code",
      "execution_count": null,
      "id": "902c41f7-b604-41a5-8e85-4d3220424c93",
      "metadata": {
        "id": "902c41f7-b604-41a5-8e85-4d3220424c93"
      },
      "outputs": [],
      "source": []
    }
  ],
  "metadata": {
    "kernelspec": {
      "display_name": "Python 3 (ipykernel)",
      "language": "python",
      "name": "python3"
    },
    "language_info": {
      "codemirror_mode": {
        "name": "ipython",
        "version": 3
      },
      "file_extension": ".py",
      "mimetype": "text/x-python",
      "name": "python",
      "nbconvert_exporter": "python",
      "pygments_lexer": "ipython3",
      "version": "3.11.6"
    },
    "colab": {
      "provenance": [],
      "include_colab_link": true
    }
  },
  "nbformat": 4,
  "nbformat_minor": 5
}