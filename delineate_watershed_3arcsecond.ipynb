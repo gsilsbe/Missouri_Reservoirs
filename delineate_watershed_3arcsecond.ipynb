{
 "cells": [
  {
   "cell_type": "code",
   "execution_count": 200,
   "id": "290f4220-b095-43d5-b45a-ee4d5579bd44",
   "metadata": {
    "colab": {
     "base_uri": "https://localhost:8080/",
     "height": 519
    },
    "executionInfo": {
     "elapsed": 334,
     "status": "error",
     "timestamp": 1672840708574,
     "user": {
      "displayName": "Greg Silsbe",
      "userId": "00978037111696537319"
     },
     "user_tz": 300
    },
    "id": "290f4220-b095-43d5-b45a-ee4d5579bd44",
    "outputId": "1afb01b6-446e-41f4-b15d-2b2aa6e0a637"
   },
   "outputs": [],
   "source": [
    "import pandas as pd\n",
    "import geopandas as gpd\n",
    "from matplotlib import pyplot as plt\n",
    "\n",
    "from matplotlib import colors\n",
    "import rioxarray\n",
    "import pyproj\n",
    "from pysheds.grid import Grid\n",
    "import numpy as np\n",
    "\n",
    "import time\n",
    "from shapely import geometry, ops\n",
    "from shapely.geometry import Polygon\n",
    "from rasterstats import zonal_stats\n",
    "from shapely.geometry.multipolygon import MultiPolygon\n",
    "from shapely.ops import cascaded_union\n",
    "from shapely.ops import unary_union\n",
    "import fiona\n",
    "import rasterio\n",
    "from mpl_toolkits.axes_grid1.anchored_artists import AnchoredSizeBar\n",
    "\n",
    "import os"
   ]
  },
  {
   "cell_type": "markdown",
   "id": "95fccd10-bbfe-4542-a203-5489d87abada",
   "metadata": {},
   "source": [
    "## Load MO water body geometries\n",
    "#### This is a clipped version of the original data:\n",
    "#### https://data-msdis.opendata.arcgis.com/datasets/MSDIS::mo-2020-wqs-lake-classification-and-use/about\n",
    "\n",
    "MO_water = gpd.read_file(\"MO_2020_WQS_Lake_Classification_and_Use.geojson\", driver='GeoJSON')\n",
    "MO_water = MO_water.drop(columns=\"EVENTDAT\").drop(columns=\"REACHSMDAT\").round(0) # Need to drop timestamps for plotting to work\n",
    "MU = pd.read_csv('WBID Query.csv')\n",
    "MO_water = MO_water.loc[MO_water['WBID'].isin(MU['WBID'])]\n",
    "MO_water.to_file('MO_water.geojson', driver='GeoJSON')   \n"
   ]
  },
  {
   "cell_type": "code",
   "execution_count": 201,
   "id": "a23e4f09-01dc-430d-9519-785e5ca71454",
   "metadata": {},
   "outputs": [
    {
     "data": {
      "text/html": [
       "<div>\n",
       "<style scoped>\n",
       "    .dataframe tbody tr th:only-of-type {\n",
       "        vertical-align: middle;\n",
       "    }\n",
       "\n",
       "    .dataframe tbody tr th {\n",
       "        vertical-align: top;\n",
       "    }\n",
       "\n",
       "    .dataframe thead th {\n",
       "        text-align: right;\n",
       "    }\n",
       "</style>\n",
       "<table border=\"1\" class=\"dataframe\">\n",
       "  <thead>\n",
       "    <tr style=\"text-align: right;\">\n",
       "      <th></th>\n",
       "      <th>FID</th>\n",
       "      <th>TBLE_NAME</th>\n",
       "      <th>NHD</th>\n",
       "      <th>METADATA</th>\n",
       "      <th>STNDRD_ID</th>\n",
       "      <th>WBID</th>\n",
       "      <th>WBID_TXT</th>\n",
       "      <th>WATER_BODY</th>\n",
       "      <th>WB_CLS</th>\n",
       "      <th>DS_COUNTY</th>\n",
       "      <th>...</th>\n",
       "      <th>SCR_USE</th>\n",
       "      <th>WBCA_USE</th>\n",
       "      <th>WBCB_USE</th>\n",
       "      <th>HHP_USE</th>\n",
       "      <th>NNC</th>\n",
       "      <th>PERM_ID</th>\n",
       "      <th>REACHCODE</th>\n",
       "      <th>Shape__Area</th>\n",
       "      <th>Shape__Length</th>\n",
       "      <th>geometry</th>\n",
       "    </tr>\n",
       "  </thead>\n",
       "  <tbody>\n",
       "    <tr>\n",
       "      <th>0</th>\n",
       "      <td>2</td>\n",
       "      <td>G</td>\n",
       "      <td>Y</td>\n",
       "      <td>N</td>\n",
       "      <td>500</td>\n",
       "      <td>7002</td>\n",
       "      <td>7002.00</td>\n",
       "      <td>Wakonda Lake</td>\n",
       "      <td>L3</td>\n",
       "      <td>Lewis</td>\n",
       "      <td>...</td>\n",
       "      <td>Y</td>\n",
       "      <td>Y</td>\n",
       "      <td>N</td>\n",
       "      <td>Y</td>\n",
       "      <td>N</td>\n",
       "      <td>{380823D7-ADD6-428F-823E-A0BAA0AE542B}</td>\n",
       "      <td>07110001002894</td>\n",
       "      <td>551741.0</td>\n",
       "      <td>9629.0</td>\n",
       "      <td>POLYGON ((-91.51360 40.00006, -91.51379 39.999...</td>\n",
       "    </tr>\n",
       "    <tr>\n",
       "      <th>1</th>\n",
       "      <td>3</td>\n",
       "      <td>G</td>\n",
       "      <td>Y</td>\n",
       "      <td>Y</td>\n",
       "      <td>105</td>\n",
       "      <td>7003</td>\n",
       "      <td>7003.00</td>\n",
       "      <td>Old Lake</td>\n",
       "      <td>L1</td>\n",
       "      <td>Pike</td>\n",
       "      <td>...</td>\n",
       "      <td>Y</td>\n",
       "      <td>N</td>\n",
       "      <td>Y</td>\n",
       "      <td>Y</td>\n",
       "      <td>Y</td>\n",
       "      <td>{46944D6C-A9D1-492F-AE85-2DC7C29198AF}</td>\n",
       "      <td>07110004003268</td>\n",
       "      <td>189438.0</td>\n",
       "      <td>3981.0</td>\n",
       "      <td>POLYGON ((-91.16047 39.34390, -91.16043 39.343...</td>\n",
       "    </tr>\n",
       "    <tr>\n",
       "      <th>2</th>\n",
       "      <td>4</td>\n",
       "      <td>G</td>\n",
       "      <td>Y</td>\n",
       "      <td>N</td>\n",
       "      <td>104</td>\n",
       "      <td>7004</td>\n",
       "      <td>7004.00</td>\n",
       "      <td>Bowling Green Reservoir</td>\n",
       "      <td>L1</td>\n",
       "      <td>Pike</td>\n",
       "      <td>...</td>\n",
       "      <td>Y</td>\n",
       "      <td>N</td>\n",
       "      <td>Y</td>\n",
       "      <td>Y</td>\n",
       "      <td>Y</td>\n",
       "      <td>{D95A5669-7E77-412A-B2D5-24979AAB9FAC}</td>\n",
       "      <td>07110004003269</td>\n",
       "      <td>287128.0</td>\n",
       "      <td>5657.0</td>\n",
       "      <td>POLYGON ((-91.15031 39.33291, -91.15041 39.332...</td>\n",
       "    </tr>\n",
       "    <tr>\n",
       "      <th>3</th>\n",
       "      <td>14</td>\n",
       "      <td>G</td>\n",
       "      <td>Y</td>\n",
       "      <td>N</td>\n",
       "      <td>200</td>\n",
       "      <td>7008</td>\n",
       "      <td>7008.00</td>\n",
       "      <td>Fox Valley Lake</td>\n",
       "      <td>L3</td>\n",
       "      <td>Clark</td>\n",
       "      <td>...</td>\n",
       "      <td>Y</td>\n",
       "      <td>N</td>\n",
       "      <td>Y</td>\n",
       "      <td>Y</td>\n",
       "      <td>Y</td>\n",
       "      <td>{C1B630C9-97EB-436B-AF33-AC06DA113603}</td>\n",
       "      <td>07110001012927</td>\n",
       "      <td>735962.0</td>\n",
       "      <td>9134.0</td>\n",
       "      <td>POLYGON ((-91.76636 40.49566, -91.76693 40.495...</td>\n",
       "    </tr>\n",
       "    <tr>\n",
       "      <th>4</th>\n",
       "      <td>15</td>\n",
       "      <td>G</td>\n",
       "      <td>Y</td>\n",
       "      <td>Y</td>\n",
       "      <td>522</td>\n",
       "      <td>7009</td>\n",
       "      <td>7009.00</td>\n",
       "      <td>Wyaconda Lake</td>\n",
       "      <td>L1</td>\n",
       "      <td>Clark</td>\n",
       "      <td>...</td>\n",
       "      <td>Y</td>\n",
       "      <td>N</td>\n",
       "      <td>Y</td>\n",
       "      <td>Y</td>\n",
       "      <td>Y</td>\n",
       "      <td>{F5ABE43C-6847-472F-A176-1E57DB41F78A}</td>\n",
       "      <td>07110001009258</td>\n",
       "      <td>66081.0</td>\n",
       "      <td>1236.0</td>\n",
       "      <td>POLYGON ((-91.90682 40.39977, -91.90732 40.398...</td>\n",
       "    </tr>\n",
       "    <tr>\n",
       "      <th>...</th>\n",
       "      <td>...</td>\n",
       "      <td>...</td>\n",
       "      <td>...</td>\n",
       "      <td>...</td>\n",
       "      <td>...</td>\n",
       "      <td>...</td>\n",
       "      <td>...</td>\n",
       "      <td>...</td>\n",
       "      <td>...</td>\n",
       "      <td>...</td>\n",
       "      <td>...</td>\n",
       "      <td>...</td>\n",
       "      <td>...</td>\n",
       "      <td>...</td>\n",
       "      <td>...</td>\n",
       "      <td>...</td>\n",
       "      <td>...</td>\n",
       "      <td>...</td>\n",
       "      <td>...</td>\n",
       "      <td>...</td>\n",
       "      <td>...</td>\n",
       "    </tr>\n",
       "    <tr>\n",
       "      <th>406</th>\n",
       "      <td>3103</td>\n",
       "      <td>G</td>\n",
       "      <td>Y</td>\n",
       "      <td>N</td>\n",
       "      <td>4943</td>\n",
       "      <td>7681</td>\n",
       "      <td>7681.00</td>\n",
       "      <td>North Lake</td>\n",
       "      <td>L3</td>\n",
       "      <td>Callaway</td>\n",
       "      <td>...</td>\n",
       "      <td>Y</td>\n",
       "      <td>N</td>\n",
       "      <td>Y</td>\n",
       "      <td>Y</td>\n",
       "      <td>N</td>\n",
       "      <td>{D630BA1C-A953-4005-A66E-A6C13B6AB9A4}</td>\n",
       "      <td>10300200002320</td>\n",
       "      <td>48018.0</td>\n",
       "      <td>1112.0</td>\n",
       "      <td>POLYGON ((-91.73122 38.98174, -91.73135 38.981...</td>\n",
       "    </tr>\n",
       "    <tr>\n",
       "      <th>407</th>\n",
       "      <td>3108</td>\n",
       "      <td>G</td>\n",
       "      <td>Y</td>\n",
       "      <td>N</td>\n",
       "      <td>471</td>\n",
       "      <td>7297</td>\n",
       "      <td>7297.00</td>\n",
       "      <td>Lac Capri</td>\n",
       "      <td>L3</td>\n",
       "      <td>St. Francois</td>\n",
       "      <td>...</td>\n",
       "      <td>Y</td>\n",
       "      <td>Y</td>\n",
       "      <td>N</td>\n",
       "      <td>Y</td>\n",
       "      <td>Y</td>\n",
       "      <td>{A2B0FCAD-7479-4697-B668-E26FC9238B65}</td>\n",
       "      <td>07140104001945</td>\n",
       "      <td>690437.0</td>\n",
       "      <td>5800.0</td>\n",
       "      <td>POLYGON ((-90.62514 37.89948, -90.62501 37.899...</td>\n",
       "    </tr>\n",
       "    <tr>\n",
       "      <th>408</th>\n",
       "      <td>3109</td>\n",
       "      <td>G</td>\n",
       "      <td>Y</td>\n",
       "      <td>N</td>\n",
       "      <td>4641</td>\n",
       "      <td>7605</td>\n",
       "      <td>7605.00</td>\n",
       "      <td>Lac Carmel</td>\n",
       "      <td>L3</td>\n",
       "      <td>St. Francois</td>\n",
       "      <td>...</td>\n",
       "      <td>Y</td>\n",
       "      <td>Y</td>\n",
       "      <td>N</td>\n",
       "      <td>Y</td>\n",
       "      <td>Y</td>\n",
       "      <td>{F6B39B26-CD55-4630-A754-5ECAFF2FC5E0}</td>\n",
       "      <td>07140104001927</td>\n",
       "      <td>360082.0</td>\n",
       "      <td>4844.0</td>\n",
       "      <td>POLYGON ((-90.64120 37.91900, -90.64131 37.919...</td>\n",
       "    </tr>\n",
       "    <tr>\n",
       "      <th>409</th>\n",
       "      <td>3117</td>\n",
       "      <td>G</td>\n",
       "      <td>Y</td>\n",
       "      <td>N</td>\n",
       "      <td>4650</td>\n",
       "      <td>7614</td>\n",
       "      <td>7614.00</td>\n",
       "      <td>Lac Marseilles</td>\n",
       "      <td>L3</td>\n",
       "      <td>St. Francois</td>\n",
       "      <td>...</td>\n",
       "      <td>Y</td>\n",
       "      <td>Y</td>\n",
       "      <td>N</td>\n",
       "      <td>Y</td>\n",
       "      <td>Y</td>\n",
       "      <td>{351BBDAE-0258-4557-A08C-0168261B32FA}</td>\n",
       "      <td>07140104001947</td>\n",
       "      <td>309575.0</td>\n",
       "      <td>3399.0</td>\n",
       "      <td>POLYGON ((-90.61540 37.90031, -90.61537 37.900...</td>\n",
       "    </tr>\n",
       "    <tr>\n",
       "      <th>410</th>\n",
       "      <td>3120</td>\n",
       "      <td>G</td>\n",
       "      <td>Y</td>\n",
       "      <td>N</td>\n",
       "      <td>4653</td>\n",
       "      <td>7617</td>\n",
       "      <td>7617.00</td>\n",
       "      <td>Lac Lafitte</td>\n",
       "      <td>L3</td>\n",
       "      <td>St. Francois</td>\n",
       "      <td>...</td>\n",
       "      <td>Y</td>\n",
       "      <td>Y</td>\n",
       "      <td>N</td>\n",
       "      <td>Y</td>\n",
       "      <td>Y</td>\n",
       "      <td>{EC7417A0-85E9-447D-BA0F-CE038E61957B}</td>\n",
       "      <td>07140104001944</td>\n",
       "      <td>234174.0</td>\n",
       "      <td>3685.0</td>\n",
       "      <td>POLYGON ((-90.59974 37.89864, -90.59957 37.898...</td>\n",
       "    </tr>\n",
       "  </tbody>\n",
       "</table>\n",
       "<p>411 rows × 31 columns</p>\n",
       "</div>"
      ],
      "text/plain": [
       "      FID TBLE_NAME NHD METADATA  STNDRD_ID  WBID WBID_TXT  \\\n",
       "0       2         G   Y        N        500  7002  7002.00   \n",
       "1       3         G   Y        Y        105  7003  7003.00   \n",
       "2       4         G   Y        N        104  7004  7004.00   \n",
       "3      14         G   Y        N        200  7008  7008.00   \n",
       "4      15         G   Y        Y        522  7009  7009.00   \n",
       "..    ...       ...  ..      ...        ...   ...      ...   \n",
       "406  3103         G   Y        N       4943  7681  7681.00   \n",
       "407  3108         G   Y        N        471  7297  7297.00   \n",
       "408  3109         G   Y        N       4641  7605  7605.00   \n",
       "409  3117         G   Y        N       4650  7614  7614.00   \n",
       "410  3120         G   Y        N       4653  7617  7617.00   \n",
       "\n",
       "                  WATER_BODY WB_CLS     DS_COUNTY  ... SCR_USE WBCA_USE  \\\n",
       "0               Wakonda Lake     L3         Lewis  ...       Y        Y   \n",
       "1                   Old Lake     L1          Pike  ...       Y        N   \n",
       "2    Bowling Green Reservoir     L1          Pike  ...       Y        N   \n",
       "3            Fox Valley Lake     L3         Clark  ...       Y        N   \n",
       "4              Wyaconda Lake     L1         Clark  ...       Y        N   \n",
       "..                       ...    ...           ...  ...     ...      ...   \n",
       "406               North Lake     L3      Callaway  ...       Y        N   \n",
       "407                Lac Capri     L3  St. Francois  ...       Y        Y   \n",
       "408               Lac Carmel     L3  St. Francois  ...       Y        Y   \n",
       "409           Lac Marseilles     L3  St. Francois  ...       Y        Y   \n",
       "410              Lac Lafitte     L3  St. Francois  ...       Y        Y   \n",
       "\n",
       "     WBCB_USE HHP_USE NNC                                 PERM_ID  \\\n",
       "0           N       Y   N  {380823D7-ADD6-428F-823E-A0BAA0AE542B}   \n",
       "1           Y       Y   Y  {46944D6C-A9D1-492F-AE85-2DC7C29198AF}   \n",
       "2           Y       Y   Y  {D95A5669-7E77-412A-B2D5-24979AAB9FAC}   \n",
       "3           Y       Y   Y  {C1B630C9-97EB-436B-AF33-AC06DA113603}   \n",
       "4           Y       Y   Y  {F5ABE43C-6847-472F-A176-1E57DB41F78A}   \n",
       "..        ...     ...  ..                                     ...   \n",
       "406         Y       Y   N  {D630BA1C-A953-4005-A66E-A6C13B6AB9A4}   \n",
       "407         N       Y   Y  {A2B0FCAD-7479-4697-B668-E26FC9238B65}   \n",
       "408         N       Y   Y  {F6B39B26-CD55-4630-A754-5ECAFF2FC5E0}   \n",
       "409         N       Y   Y  {351BBDAE-0258-4557-A08C-0168261B32FA}   \n",
       "410         N       Y   Y  {EC7417A0-85E9-447D-BA0F-CE038E61957B}   \n",
       "\n",
       "          REACHCODE Shape__Area Shape__Length  \\\n",
       "0    07110001002894    551741.0        9629.0   \n",
       "1    07110004003268    189438.0        3981.0   \n",
       "2    07110004003269    287128.0        5657.0   \n",
       "3    07110001012927    735962.0        9134.0   \n",
       "4    07110001009258     66081.0        1236.0   \n",
       "..              ...         ...           ...   \n",
       "406  10300200002320     48018.0        1112.0   \n",
       "407  07140104001945    690437.0        5800.0   \n",
       "408  07140104001927    360082.0        4844.0   \n",
       "409  07140104001947    309575.0        3399.0   \n",
       "410  07140104001944    234174.0        3685.0   \n",
       "\n",
       "                                              geometry  \n",
       "0    POLYGON ((-91.51360 40.00006, -91.51379 39.999...  \n",
       "1    POLYGON ((-91.16047 39.34390, -91.16043 39.343...  \n",
       "2    POLYGON ((-91.15031 39.33291, -91.15041 39.332...  \n",
       "3    POLYGON ((-91.76636 40.49566, -91.76693 40.495...  \n",
       "4    POLYGON ((-91.90682 40.39977, -91.90732 40.398...  \n",
       "..                                                 ...  \n",
       "406  POLYGON ((-91.73122 38.98174, -91.73135 38.981...  \n",
       "407  POLYGON ((-90.62514 37.89948, -90.62501 37.899...  \n",
       "408  POLYGON ((-90.64120 37.91900, -90.64131 37.919...  \n",
       "409  POLYGON ((-90.61540 37.90031, -90.61537 37.900...  \n",
       "410  POLYGON ((-90.59974 37.89864, -90.59957 37.898...  \n",
       "\n",
       "[411 rows x 31 columns]"
      ]
     },
     "execution_count": 201,
     "metadata": {},
     "output_type": "execute_result"
    }
   ],
   "source": [
    "# MO_water = gpd.read_file(\"MO_2020_WQS_Lake_Classification_and_Use.geojson\", driver='GeoJSON')\n",
    "# MO_water = MO_water.drop(columns=\"EVENTDAT\").drop(columns=\"REACHSMDAT\").round(0) # Need to drop timestamps for plotting to work\n",
    "# MU = pd.read_csv('WBID Query.csv')\n",
    "# MO_water = MO_water.loc[MO_water['WBID'].isin(MU['WBID'])]\n",
    "# MO_water.to_file('MO_water.geojson', driver='GeoJSON')   \n",
    "MO_water = gpd.read_file(\"MO_water.geojson\", driver='GeoJSON')\n",
    "MO_water"
   ]
  },
  {
   "cell_type": "markdown",
   "id": "8ff58dda-a117-4956-9ed7-bbf518cdea6c",
   "metadata": {},
   "source": [
    "### Create new geoJSON for watershed data"
   ]
  },
  {
   "cell_type": "code",
   "execution_count": 202,
   "id": "95b467ac-1c9f-4a98-8d67-89dd803d966b",
   "metadata": {},
   "outputs": [
    {
     "data": {
      "text/html": [
       "<div>\n",
       "<style scoped>\n",
       "    .dataframe tbody tr th:only-of-type {\n",
       "        vertical-align: middle;\n",
       "    }\n",
       "\n",
       "    .dataframe tbody tr th {\n",
       "        vertical-align: top;\n",
       "    }\n",
       "\n",
       "    .dataframe thead th {\n",
       "        text-align: right;\n",
       "    }\n",
       "</style>\n",
       "<table border=\"1\" class=\"dataframe\">\n",
       "  <thead>\n",
       "    <tr style=\"text-align: right;\">\n",
       "      <th></th>\n",
       "      <th>FID</th>\n",
       "      <th>TBLE_NAME</th>\n",
       "      <th>NHD</th>\n",
       "      <th>METADATA</th>\n",
       "      <th>STNDRD_ID</th>\n",
       "      <th>WBID</th>\n",
       "      <th>WBID_TXT</th>\n",
       "      <th>WATER_BODY</th>\n",
       "      <th>WB_CLS</th>\n",
       "      <th>DS_COUNTY</th>\n",
       "      <th>...</th>\n",
       "      <th>NNC</th>\n",
       "      <th>PERM_ID</th>\n",
       "      <th>REACHCODE</th>\n",
       "      <th>Shape__Area</th>\n",
       "      <th>Shape__Length</th>\n",
       "      <th>geometry</th>\n",
       "      <th>Outlet lon</th>\n",
       "      <th>Outlet lat</th>\n",
       "      <th>Watershed Area</th>\n",
       "      <th>Outlet acc</th>\n",
       "    </tr>\n",
       "  </thead>\n",
       "  <tbody>\n",
       "    <tr>\n",
       "      <th>0</th>\n",
       "      <td>2</td>\n",
       "      <td>G</td>\n",
       "      <td>Y</td>\n",
       "      <td>N</td>\n",
       "      <td>500</td>\n",
       "      <td>7002</td>\n",
       "      <td>7002.00</td>\n",
       "      <td>Wakonda Lake</td>\n",
       "      <td>L3</td>\n",
       "      <td>Lewis</td>\n",
       "      <td>...</td>\n",
       "      <td>N</td>\n",
       "      <td>{380823D7-ADD6-428F-823E-A0BAA0AE542B}</td>\n",
       "      <td>07110001002894</td>\n",
       "      <td>551741.0</td>\n",
       "      <td>9629.0</td>\n",
       "      <td>POLYGON ((-91.51360 40.00006, -91.51379 39.999...</td>\n",
       "      <td>0.0</td>\n",
       "      <td>0.0</td>\n",
       "      <td>0.0</td>\n",
       "      <td>0.0</td>\n",
       "    </tr>\n",
       "    <tr>\n",
       "      <th>1</th>\n",
       "      <td>3</td>\n",
       "      <td>G</td>\n",
       "      <td>Y</td>\n",
       "      <td>Y</td>\n",
       "      <td>105</td>\n",
       "      <td>7003</td>\n",
       "      <td>7003.00</td>\n",
       "      <td>Old Lake</td>\n",
       "      <td>L1</td>\n",
       "      <td>Pike</td>\n",
       "      <td>...</td>\n",
       "      <td>Y</td>\n",
       "      <td>{46944D6C-A9D1-492F-AE85-2DC7C29198AF}</td>\n",
       "      <td>07110004003268</td>\n",
       "      <td>189438.0</td>\n",
       "      <td>3981.0</td>\n",
       "      <td>POLYGON ((-91.16047 39.34390, -91.16043 39.343...</td>\n",
       "      <td>0.0</td>\n",
       "      <td>0.0</td>\n",
       "      <td>0.0</td>\n",
       "      <td>0.0</td>\n",
       "    </tr>\n",
       "    <tr>\n",
       "      <th>2</th>\n",
       "      <td>4</td>\n",
       "      <td>G</td>\n",
       "      <td>Y</td>\n",
       "      <td>N</td>\n",
       "      <td>104</td>\n",
       "      <td>7004</td>\n",
       "      <td>7004.00</td>\n",
       "      <td>Bowling Green Reservoir</td>\n",
       "      <td>L1</td>\n",
       "      <td>Pike</td>\n",
       "      <td>...</td>\n",
       "      <td>Y</td>\n",
       "      <td>{D95A5669-7E77-412A-B2D5-24979AAB9FAC}</td>\n",
       "      <td>07110004003269</td>\n",
       "      <td>287128.0</td>\n",
       "      <td>5657.0</td>\n",
       "      <td>POLYGON ((-91.15031 39.33291, -91.15041 39.332...</td>\n",
       "      <td>0.0</td>\n",
       "      <td>0.0</td>\n",
       "      <td>0.0</td>\n",
       "      <td>0.0</td>\n",
       "    </tr>\n",
       "    <tr>\n",
       "      <th>3</th>\n",
       "      <td>14</td>\n",
       "      <td>G</td>\n",
       "      <td>Y</td>\n",
       "      <td>N</td>\n",
       "      <td>200</td>\n",
       "      <td>7008</td>\n",
       "      <td>7008.00</td>\n",
       "      <td>Fox Valley Lake</td>\n",
       "      <td>L3</td>\n",
       "      <td>Clark</td>\n",
       "      <td>...</td>\n",
       "      <td>Y</td>\n",
       "      <td>{C1B630C9-97EB-436B-AF33-AC06DA113603}</td>\n",
       "      <td>07110001012927</td>\n",
       "      <td>735962.0</td>\n",
       "      <td>9134.0</td>\n",
       "      <td>POLYGON ((-91.76636 40.49566, -91.76693 40.495...</td>\n",
       "      <td>0.0</td>\n",
       "      <td>0.0</td>\n",
       "      <td>0.0</td>\n",
       "      <td>0.0</td>\n",
       "    </tr>\n",
       "    <tr>\n",
       "      <th>4</th>\n",
       "      <td>15</td>\n",
       "      <td>G</td>\n",
       "      <td>Y</td>\n",
       "      <td>Y</td>\n",
       "      <td>522</td>\n",
       "      <td>7009</td>\n",
       "      <td>7009.00</td>\n",
       "      <td>Wyaconda Lake</td>\n",
       "      <td>L1</td>\n",
       "      <td>Clark</td>\n",
       "      <td>...</td>\n",
       "      <td>Y</td>\n",
       "      <td>{F5ABE43C-6847-472F-A176-1E57DB41F78A}</td>\n",
       "      <td>07110001009258</td>\n",
       "      <td>66081.0</td>\n",
       "      <td>1236.0</td>\n",
       "      <td>POLYGON ((-91.90682 40.39977, -91.90732 40.398...</td>\n",
       "      <td>0.0</td>\n",
       "      <td>0.0</td>\n",
       "      <td>0.0</td>\n",
       "      <td>0.0</td>\n",
       "    </tr>\n",
       "    <tr>\n",
       "      <th>...</th>\n",
       "      <td>...</td>\n",
       "      <td>...</td>\n",
       "      <td>...</td>\n",
       "      <td>...</td>\n",
       "      <td>...</td>\n",
       "      <td>...</td>\n",
       "      <td>...</td>\n",
       "      <td>...</td>\n",
       "      <td>...</td>\n",
       "      <td>...</td>\n",
       "      <td>...</td>\n",
       "      <td>...</td>\n",
       "      <td>...</td>\n",
       "      <td>...</td>\n",
       "      <td>...</td>\n",
       "      <td>...</td>\n",
       "      <td>...</td>\n",
       "      <td>...</td>\n",
       "      <td>...</td>\n",
       "      <td>...</td>\n",
       "      <td>...</td>\n",
       "    </tr>\n",
       "    <tr>\n",
       "      <th>406</th>\n",
       "      <td>3103</td>\n",
       "      <td>G</td>\n",
       "      <td>Y</td>\n",
       "      <td>N</td>\n",
       "      <td>4943</td>\n",
       "      <td>7681</td>\n",
       "      <td>7681.00</td>\n",
       "      <td>North Lake</td>\n",
       "      <td>L3</td>\n",
       "      <td>Callaway</td>\n",
       "      <td>...</td>\n",
       "      <td>N</td>\n",
       "      <td>{D630BA1C-A953-4005-A66E-A6C13B6AB9A4}</td>\n",
       "      <td>10300200002320</td>\n",
       "      <td>48018.0</td>\n",
       "      <td>1112.0</td>\n",
       "      <td>POLYGON ((-91.73122 38.98174, -91.73135 38.981...</td>\n",
       "      <td>0.0</td>\n",
       "      <td>0.0</td>\n",
       "      <td>0.0</td>\n",
       "      <td>0.0</td>\n",
       "    </tr>\n",
       "    <tr>\n",
       "      <th>407</th>\n",
       "      <td>3108</td>\n",
       "      <td>G</td>\n",
       "      <td>Y</td>\n",
       "      <td>N</td>\n",
       "      <td>471</td>\n",
       "      <td>7297</td>\n",
       "      <td>7297.00</td>\n",
       "      <td>Lac Capri</td>\n",
       "      <td>L3</td>\n",
       "      <td>St. Francois</td>\n",
       "      <td>...</td>\n",
       "      <td>Y</td>\n",
       "      <td>{A2B0FCAD-7479-4697-B668-E26FC9238B65}</td>\n",
       "      <td>07140104001945</td>\n",
       "      <td>690437.0</td>\n",
       "      <td>5800.0</td>\n",
       "      <td>POLYGON ((-90.62514 37.89948, -90.62501 37.899...</td>\n",
       "      <td>0.0</td>\n",
       "      <td>0.0</td>\n",
       "      <td>0.0</td>\n",
       "      <td>0.0</td>\n",
       "    </tr>\n",
       "    <tr>\n",
       "      <th>408</th>\n",
       "      <td>3109</td>\n",
       "      <td>G</td>\n",
       "      <td>Y</td>\n",
       "      <td>N</td>\n",
       "      <td>4641</td>\n",
       "      <td>7605</td>\n",
       "      <td>7605.00</td>\n",
       "      <td>Lac Carmel</td>\n",
       "      <td>L3</td>\n",
       "      <td>St. Francois</td>\n",
       "      <td>...</td>\n",
       "      <td>Y</td>\n",
       "      <td>{F6B39B26-CD55-4630-A754-5ECAFF2FC5E0}</td>\n",
       "      <td>07140104001927</td>\n",
       "      <td>360082.0</td>\n",
       "      <td>4844.0</td>\n",
       "      <td>POLYGON ((-90.64120 37.91900, -90.64131 37.919...</td>\n",
       "      <td>0.0</td>\n",
       "      <td>0.0</td>\n",
       "      <td>0.0</td>\n",
       "      <td>0.0</td>\n",
       "    </tr>\n",
       "    <tr>\n",
       "      <th>409</th>\n",
       "      <td>3117</td>\n",
       "      <td>G</td>\n",
       "      <td>Y</td>\n",
       "      <td>N</td>\n",
       "      <td>4650</td>\n",
       "      <td>7614</td>\n",
       "      <td>7614.00</td>\n",
       "      <td>Lac Marseilles</td>\n",
       "      <td>L3</td>\n",
       "      <td>St. Francois</td>\n",
       "      <td>...</td>\n",
       "      <td>Y</td>\n",
       "      <td>{351BBDAE-0258-4557-A08C-0168261B32FA}</td>\n",
       "      <td>07140104001947</td>\n",
       "      <td>309575.0</td>\n",
       "      <td>3399.0</td>\n",
       "      <td>POLYGON ((-90.61540 37.90031, -90.61537 37.900...</td>\n",
       "      <td>0.0</td>\n",
       "      <td>0.0</td>\n",
       "      <td>0.0</td>\n",
       "      <td>0.0</td>\n",
       "    </tr>\n",
       "    <tr>\n",
       "      <th>410</th>\n",
       "      <td>3120</td>\n",
       "      <td>G</td>\n",
       "      <td>Y</td>\n",
       "      <td>N</td>\n",
       "      <td>4653</td>\n",
       "      <td>7617</td>\n",
       "      <td>7617.00</td>\n",
       "      <td>Lac Lafitte</td>\n",
       "      <td>L3</td>\n",
       "      <td>St. Francois</td>\n",
       "      <td>...</td>\n",
       "      <td>Y</td>\n",
       "      <td>{EC7417A0-85E9-447D-BA0F-CE038E61957B}</td>\n",
       "      <td>07140104001944</td>\n",
       "      <td>234174.0</td>\n",
       "      <td>3685.0</td>\n",
       "      <td>POLYGON ((-90.59974 37.89864, -90.59957 37.898...</td>\n",
       "      <td>0.0</td>\n",
       "      <td>0.0</td>\n",
       "      <td>0.0</td>\n",
       "      <td>0.0</td>\n",
       "    </tr>\n",
       "  </tbody>\n",
       "</table>\n",
       "<p>411 rows × 35 columns</p>\n",
       "</div>"
      ],
      "text/plain": [
       "      FID TBLE_NAME NHD METADATA  STNDRD_ID  WBID WBID_TXT  \\\n",
       "0       2         G   Y        N        500  7002  7002.00   \n",
       "1       3         G   Y        Y        105  7003  7003.00   \n",
       "2       4         G   Y        N        104  7004  7004.00   \n",
       "3      14         G   Y        N        200  7008  7008.00   \n",
       "4      15         G   Y        Y        522  7009  7009.00   \n",
       "..    ...       ...  ..      ...        ...   ...      ...   \n",
       "406  3103         G   Y        N       4943  7681  7681.00   \n",
       "407  3108         G   Y        N        471  7297  7297.00   \n",
       "408  3109         G   Y        N       4641  7605  7605.00   \n",
       "409  3117         G   Y        N       4650  7614  7614.00   \n",
       "410  3120         G   Y        N       4653  7617  7617.00   \n",
       "\n",
       "                  WATER_BODY WB_CLS     DS_COUNTY  ... NNC  \\\n",
       "0               Wakonda Lake     L3         Lewis  ...   N   \n",
       "1                   Old Lake     L1          Pike  ...   Y   \n",
       "2    Bowling Green Reservoir     L1          Pike  ...   Y   \n",
       "3            Fox Valley Lake     L3         Clark  ...   Y   \n",
       "4              Wyaconda Lake     L1         Clark  ...   Y   \n",
       "..                       ...    ...           ...  ...  ..   \n",
       "406               North Lake     L3      Callaway  ...   N   \n",
       "407                Lac Capri     L3  St. Francois  ...   Y   \n",
       "408               Lac Carmel     L3  St. Francois  ...   Y   \n",
       "409           Lac Marseilles     L3  St. Francois  ...   Y   \n",
       "410              Lac Lafitte     L3  St. Francois  ...   Y   \n",
       "\n",
       "                                    PERM_ID       REACHCODE Shape__Area  \\\n",
       "0    {380823D7-ADD6-428F-823E-A0BAA0AE542B}  07110001002894    551741.0   \n",
       "1    {46944D6C-A9D1-492F-AE85-2DC7C29198AF}  07110004003268    189438.0   \n",
       "2    {D95A5669-7E77-412A-B2D5-24979AAB9FAC}  07110004003269    287128.0   \n",
       "3    {C1B630C9-97EB-436B-AF33-AC06DA113603}  07110001012927    735962.0   \n",
       "4    {F5ABE43C-6847-472F-A176-1E57DB41F78A}  07110001009258     66081.0   \n",
       "..                                      ...             ...         ...   \n",
       "406  {D630BA1C-A953-4005-A66E-A6C13B6AB9A4}  10300200002320     48018.0   \n",
       "407  {A2B0FCAD-7479-4697-B668-E26FC9238B65}  07140104001945    690437.0   \n",
       "408  {F6B39B26-CD55-4630-A754-5ECAFF2FC5E0}  07140104001927    360082.0   \n",
       "409  {351BBDAE-0258-4557-A08C-0168261B32FA}  07140104001947    309575.0   \n",
       "410  {EC7417A0-85E9-447D-BA0F-CE038E61957B}  07140104001944    234174.0   \n",
       "\n",
       "    Shape__Length                                           geometry  \\\n",
       "0          9629.0  POLYGON ((-91.51360 40.00006, -91.51379 39.999...   \n",
       "1          3981.0  POLYGON ((-91.16047 39.34390, -91.16043 39.343...   \n",
       "2          5657.0  POLYGON ((-91.15031 39.33291, -91.15041 39.332...   \n",
       "3          9134.0  POLYGON ((-91.76636 40.49566, -91.76693 40.495...   \n",
       "4          1236.0  POLYGON ((-91.90682 40.39977, -91.90732 40.398...   \n",
       "..            ...                                                ...   \n",
       "406        1112.0  POLYGON ((-91.73122 38.98174, -91.73135 38.981...   \n",
       "407        5800.0  POLYGON ((-90.62514 37.89948, -90.62501 37.899...   \n",
       "408        4844.0  POLYGON ((-90.64120 37.91900, -90.64131 37.919...   \n",
       "409        3399.0  POLYGON ((-90.61540 37.90031, -90.61537 37.900...   \n",
       "410        3685.0  POLYGON ((-90.59974 37.89864, -90.59957 37.898...   \n",
       "\n",
       "    Outlet lon Outlet lat Watershed Area Outlet acc  \n",
       "0          0.0        0.0            0.0        0.0  \n",
       "1          0.0        0.0            0.0        0.0  \n",
       "2          0.0        0.0            0.0        0.0  \n",
       "3          0.0        0.0            0.0        0.0  \n",
       "4          0.0        0.0            0.0        0.0  \n",
       "..         ...        ...            ...        ...  \n",
       "406        0.0        0.0            0.0        0.0  \n",
       "407        0.0        0.0            0.0        0.0  \n",
       "408        0.0        0.0            0.0        0.0  \n",
       "409        0.0        0.0            0.0        0.0  \n",
       "410        0.0        0.0            0.0        0.0  \n",
       "\n",
       "[411 rows x 35 columns]"
      ]
     },
     "execution_count": 202,
     "metadata": {},
     "output_type": "execute_result"
    }
   ],
   "source": [
    "MO_watershed = gpd.read_file(\"MO_water.geojson\", driver='GeoJSON')\n",
    "\n",
    "MO_watershed['Outlet lon'] = 0.0\n",
    "MO_watershed['Outlet lat'] = 0.0\n",
    "MO_watershed['Watershed Area'] = 0.0\n",
    "MO_watershed['Outlet acc'] = 0.0\n",
    "MO_watershed"
   ]
  },
  {
   "cell_type": "code",
   "execution_count": 203,
   "id": "d1be0c31-f4f0-4842-bc8e-b21cd0b6a609",
   "metadata": {},
   "outputs": [
    {
     "data": {
      "text/html": [
       "<div>\n",
       "<style scoped>\n",
       "    .dataframe tbody tr th:only-of-type {\n",
       "        vertical-align: middle;\n",
       "    }\n",
       "\n",
       "    .dataframe tbody tr th {\n",
       "        vertical-align: top;\n",
       "    }\n",
       "\n",
       "    .dataframe thead th {\n",
       "        text-align: right;\n",
       "    }\n",
       "</style>\n",
       "<table border=\"1\" class=\"dataframe\">\n",
       "  <thead>\n",
       "    <tr style=\"text-align: right;\">\n",
       "      <th></th>\n",
       "      <th>FID</th>\n",
       "      <th>TBLE_NAME</th>\n",
       "      <th>NHD</th>\n",
       "      <th>METADATA</th>\n",
       "      <th>STNDRD_ID</th>\n",
       "      <th>WBID</th>\n",
       "      <th>WBID_TXT</th>\n",
       "      <th>WATER_BODY</th>\n",
       "      <th>WB_CLS</th>\n",
       "      <th>DS_COUNTY</th>\n",
       "      <th>...</th>\n",
       "      <th>SCR_USE</th>\n",
       "      <th>WBCA_USE</th>\n",
       "      <th>WBCB_USE</th>\n",
       "      <th>HHP_USE</th>\n",
       "      <th>NNC</th>\n",
       "      <th>PERM_ID</th>\n",
       "      <th>REACHCODE</th>\n",
       "      <th>Shape__Area</th>\n",
       "      <th>Shape__Length</th>\n",
       "      <th>geometry</th>\n",
       "    </tr>\n",
       "  </thead>\n",
       "  <tbody>\n",
       "    <tr>\n",
       "      <th>73</th>\n",
       "      <td>179</td>\n",
       "      <td>G</td>\n",
       "      <td>Y</td>\n",
       "      <td>N</td>\n",
       "      <td>263</td>\n",
       "      <td>7113</td>\n",
       "      <td>7113.00</td>\n",
       "      <td>King City Old Reservoir</td>\n",
       "      <td>L1</td>\n",
       "      <td>Gentry</td>\n",
       "      <td>...</td>\n",
       "      <td>Y</td>\n",
       "      <td>N</td>\n",
       "      <td>Y</td>\n",
       "      <td>Y</td>\n",
       "      <td>Y</td>\n",
       "      <td>{F5E585ED-B4F2-4A40-B6F2-0A1A78FD2486}</td>\n",
       "      <td>10280101002672</td>\n",
       "      <td>54622.0</td>\n",
       "      <td>1242.0</td>\n",
       "      <td>POLYGON ((-94.51319 40.06433, -94.51279 40.064...</td>\n",
       "    </tr>\n",
       "    <tr>\n",
       "      <th>74</th>\n",
       "      <td>180</td>\n",
       "      <td>G</td>\n",
       "      <td>Y</td>\n",
       "      <td>N</td>\n",
       "      <td>263</td>\n",
       "      <td>7113</td>\n",
       "      <td>7113.00</td>\n",
       "      <td>King City Old Reservoir</td>\n",
       "      <td>L1</td>\n",
       "      <td>Gentry</td>\n",
       "      <td>...</td>\n",
       "      <td>Y</td>\n",
       "      <td>N</td>\n",
       "      <td>Y</td>\n",
       "      <td>Y</td>\n",
       "      <td>Y</td>\n",
       "      <td>{C082121F-E3EC-496D-98D1-01EA4C26CD88}</td>\n",
       "      <td>10280101034713</td>\n",
       "      <td>4975.0</td>\n",
       "      <td>276.0</td>\n",
       "      <td>POLYGON ((-94.51414 40.06220, -94.51450 40.062...</td>\n",
       "    </tr>\n",
       "  </tbody>\n",
       "</table>\n",
       "<p>2 rows × 31 columns</p>\n",
       "</div>"
      ],
      "text/plain": [
       "    FID TBLE_NAME NHD METADATA  STNDRD_ID  WBID WBID_TXT  \\\n",
       "73  179         G   Y        N        263  7113  7113.00   \n",
       "74  180         G   Y        N        263  7113  7113.00   \n",
       "\n",
       "                 WATER_BODY WB_CLS DS_COUNTY  ... SCR_USE WBCA_USE  WBCB_USE  \\\n",
       "73  King City Old Reservoir     L1    Gentry  ...       Y        N         Y   \n",
       "74  King City Old Reservoir     L1    Gentry  ...       Y        N         Y   \n",
       "\n",
       "   HHP_USE NNC                                 PERM_ID       REACHCODE  \\\n",
       "73       Y   Y  {F5E585ED-B4F2-4A40-B6F2-0A1A78FD2486}  10280101002672   \n",
       "74       Y   Y  {C082121F-E3EC-496D-98D1-01EA4C26CD88}  10280101034713   \n",
       "\n",
       "   Shape__Area Shape__Length  \\\n",
       "73     54622.0        1242.0   \n",
       "74      4975.0         276.0   \n",
       "\n",
       "                                             geometry  \n",
       "73  POLYGON ((-94.51319 40.06433, -94.51279 40.064...  \n",
       "74  POLYGON ((-94.51414 40.06220, -94.51450 40.062...  \n",
       "\n",
       "[2 rows x 31 columns]"
      ]
     },
     "execution_count": 203,
     "metadata": {},
     "output_type": "execute_result"
    }
   ],
   "source": [
    "MO_water.loc[MO_water['WBID'] == 7113]"
   ]
  },
  {
   "cell_type": "code",
   "execution_count": 206,
   "id": "e51b5ae5-ef87-443f-8568-ba10194e9832",
   "metadata": {
    "tags": []
   },
   "outputs": [],
   "source": [
    "def delineate_watershed(i):\n",
    "    \n",
    "    if  MO_water.iloc[i]['FID'] not in [180, 184, 231, 233, 234, 235, 236, 237, 238, 239, 240, 241, 242, 244, 247,\n",
    "                                   248, 249, 252, 255, 256, 257, 258, 259, 312, 315, 316, 317, 318, 320, 323,\n",
    "                                   324, 326, 327, 328, 329, 330, 332, 333, 334, 335, 338, 339, 340, 341, 342,\n",
    "                                   344, 346, 347, 350, 351, 352, 354, 355, 356, 357, 360, 379, 827, 3034, 3120,\n",
    "                                   3117]:\n",
    "\n",
    "        print(i, MO_water.iloc[i]['FID'], MO_water.iloc[i]['HUC_8'][0:6] )\n",
    "        stats = zonal_stats(MO_water.iloc[i].geometry, 'hydrosheds_3arc/HydroSHEDS_acc_' + MO_water.iloc[i]['HUC_8'][0:6] + '.tif',\n",
    "                            stats = ['max'], raster_out = True, geojson_out = True, all_touched=False)\n",
    "\n",
    "        outlet = pd.DataFrame(columns=list('XY'))\n",
    "        arr = stats[0]['properties']['mini_raster_array']\n",
    "        col = np.argmax(np.max(arr, axis=0))\n",
    "        row = np.argmax(np.max(arr, axis=1))\n",
    "        c, a, b, f, d, e = stats[0]['properties']['mini_raster_affine'].to_gdal()\n",
    "        xp = a * col + b * row + a * 0.5 + b * 0.5 + c\n",
    "        yp = d * col + e * row + d * 0.5 + e * 0.5 + f\n",
    "        outlet.loc[0] =(xp, yp)\n",
    "\n",
    "        MO_watershed.iloc[i, MO_watershed.columns.get_loc('Outlet acc')] = (stats[0]['properties']['max'])\n",
    "        MO_watershed.iloc[i, MO_watershed.columns.get_loc('Outlet lon')] = outlet['X']\n",
    "        MO_watershed.iloc[i, MO_watershed.columns.get_loc('Outlet lat')] = outlet['Y']    \n",
    "\n",
    "        grid = Grid.from_raster('hydrosheds_3arc/HydroSHEDS_acc_' + MO_water.iloc[i]['HUC_8'][0:6] + '.tif', nodata=0)\n",
    "        fdir = grid.read_raster('hydrosheds_3arc/HydroSHEDS_fdir_' + MO_water.iloc[i]['HUC_8'][0:6] + '.tif', nodata=0)\n",
    "        acc = grid.read_raster('hydrosheds_3arc/HydroSHEDS_acc_' + MO_water.iloc[i]['HUC_8'][0:6] + '.tif', nodata=0)\n",
    "\n",
    "        x_snap, y_snap =  grid.snap_to_mask(acc >= (stats[0]['properties']['max']), \n",
    "                                            (MO_watershed.iloc[i]['Outlet lon'],\n",
    "                                             MO_watershed.iloc[i]['Outlet lat']))\n",
    "\n",
    "        catch = grid.catchment(x = x_snap, \n",
    "                               y = y_snap, fdir=fdir, xytype='coordinate')  \n",
    "\n",
    "        # Clip the bounding box to the catchment\n",
    "        grid.clip_to(catch)\n",
    "        clipped_acc = grid.view(acc, nodata=np.nan)\n",
    "\n",
    "        shapes = grid.polygonize()\n",
    "        catchment_polygon = ops.unary_union([geometry.shape(shape) for shape, value in shapes])\n",
    "\n",
    "        if catchment_polygon.geom_type == 'MultiPolygon': ## Occasionally will return a multipolygon, so take the largest\n",
    "            boundary = gpd.GeoSeries(unary_union(catchment_polygon))\n",
    "            MO_watershed.iloc[i, MO_watershed.columns.get_loc('geometry')] =  boundary\n",
    "        else:\n",
    "            MO_watershed.iloc[i, MO_watershed.columns.get_loc('geometry')] = catchment_polygon\n",
    "\n",
    "\n"
   ]
  },
  {
   "cell_type": "code",
   "execution_count": 207,
   "id": "a73317b4-e4d4-45aa-862c-c2d9850f903d",
   "metadata": {
    "tags": []
   },
   "outputs": [
    {
     "name": "stdout",
     "output_type": "stream",
     "text": [
      "0 2 071100\n",
      "1 3 071100\n",
      "2 4 071100\n",
      "3 14 071100\n",
      "4 15 071100\n",
      "5 16 071100\n",
      "6 17 071100\n",
      "7 18 071100\n",
      "8 19 071100\n",
      "9 20 071100\n",
      "10 23 071100\n",
      "11 24 071100\n",
      "12 25 071100\n",
      "13 26 071100\n",
      "14 27 071100\n",
      "15 28 071100\n",
      "16 29 071100\n",
      "17 30 071100\n",
      "18 31 071100\n",
      "19 32 071100\n",
      "20 33 071100\n",
      "21 34 071100\n",
      "22 35 071100\n",
      "23 36 071100\n",
      "24 37 071100\n",
      "25 39 071100\n",
      "26 40 071100\n",
      "27 41 071100\n",
      "28 42 071100\n",
      "29 43 071100\n",
      "30 44 071100\n",
      "31 46 071100\n",
      "32 48 071100\n",
      "33 49 071100\n",
      "34 50 071100\n",
      "35 51 071100\n",
      "36 53 071100\n",
      "37 58 071100\n",
      "38 59 071100\n",
      "39 61 071100\n",
      "40 62 071100\n",
      "41 63 071100\n",
      "42 64 071100\n",
      "43 65 102400\n",
      "44 78 102801\n",
      "45 108 102400\n",
      "46 109 102801\n",
      "47 114 102400\n",
      "48 124 102400\n",
      "49 125 102400\n",
      "50 126 102400\n",
      "51 127 102400\n",
      "52 133 102400\n",
      "53 149 103001\n",
      "54 150 103001\n",
      "55 151 103001\n",
      "56 153 103001\n",
      "57 154 103001\n",
      "58 155 103001\n",
      "59 158 103001\n",
      "60 160 103001\n",
      "61 161 103001\n",
      "62 164 103001\n",
      "63 167 103001\n",
      "64 168 103001\n",
      "65 169 103001\n",
      "66 170 102801\n",
      "67 171 102801\n",
      "68 172 102801\n",
      "69 175 102801\n",
      "70 176 102801\n",
      "71 177 102400\n",
      "72 178 102801\n",
      "73 179 102801\n",
      "75 181 102801\n",
      "76 182 102801\n",
      "77 183 102801\n",
      "79 185 102801\n",
      "80 186 102801\n",
      "81 187 102801\n",
      "82 188 102801\n",
      "83 189 102801\n",
      "84 190 102801\n",
      "85 191 102801\n",
      "86 192 102801\n",
      "87 193 102801\n",
      "88 194 102801\n",
      "89 198 102801\n",
      "90 201 102801\n",
      "91 202 102801\n",
      "92 203 102801\n",
      "93 204 102801\n",
      "94 205 102801\n",
      "95 206 102801\n",
      "96 207 102801\n",
      "97 209 102801\n",
      "98 210 102801\n",
      "99 211 102801\n",
      "100 213 102801\n",
      "101 221 102801\n",
      "102 222 102801\n",
      "103 223 102801\n",
      "104 224 102801\n",
      "105 225 102801\n",
      "106 226 102801\n",
      "107 227 102801\n",
      "108 228 102801\n",
      "109 229 102801\n",
      "110 230 102801\n",
      "112 232 102801\n",
      "123 243 102801\n",
      "125 245 102801\n",
      "126 246 102801\n",
      "130 250 102801\n",
      "131 251 102801\n",
      "133 253 102801\n",
      "134 254 102801\n",
      "140 260 102801\n",
      "141 261 102801\n",
      "142 262 102801\n",
      "143 263 102801\n",
      "144 264 102801\n",
      "145 265 102801\n",
      "146 266 102801\n",
      "147 268 102802\n",
      "148 269 102802\n",
      "149 270 102802\n",
      "150 271 102802\n",
      "151 272 102802\n",
      "152 273 102802\n",
      "153 275 102802\n",
      "154 277 102802\n",
      "155 278 102802\n",
      "156 279 102802\n",
      "157 280 102802\n",
      "158 281 102802\n",
      "159 284 102802\n",
      "160 288 102802\n",
      "161 290 102802\n",
      "162 291 102802\n",
      "163 292 102802\n",
      "164 293 103001\n",
      "165 294 103001\n",
      "166 295 103001\n",
      "167 296 103001\n",
      "168 297 103001\n",
      "169 299 103001\n",
      "170 300 103001\n",
      "171 301 103001\n",
      "172 302 103001\n",
      "173 303 103001\n",
      "174 304 103001\n",
      "175 305 103001\n",
      "176 308 103001\n",
      "177 309 103001\n",
      "178 310 103001\n",
      "179 311 103001\n",
      "181 313 103001\n",
      "182 314 103001\n",
      "187 319 103001\n",
      "189 321 103001\n",
      "190 322 103001\n",
      "193 325 103001\n",
      "199 331 103001\n",
      "204 336 103001\n",
      "205 337 103001\n",
      "211 343 103001\n",
      "213 345 103001\n",
      "216 348 103001\n",
      "217 349 103001\n",
      "221 353 103001\n",
      "226 358 103001\n",
      "227 359 103001\n",
      "229 361 103001\n",
      "230 363 103001\n",
      "231 365 102901\n",
      "232 366 102901\n",
      "233 367 102901\n",
      "234 368 102901\n",
      "235 369 102901\n",
      "236 370 102901\n",
      "237 371 102901\n",
      "238 372 103001\n",
      "239 374 102901\n",
      "240 375 102901\n",
      "241 376 102901\n",
      "242 377 102901\n",
      "243 378 102901\n",
      "245 380 102901\n",
      "246 381 102901\n",
      "247 383 102901\n",
      "248 384 102901\n",
      "249 385 102901\n",
      "250 394 102901\n",
      "251 397 102901\n",
      "252 398 102901\n",
      "253 399 102901\n",
      "254 401 102901\n",
      "255 403 102901\n",
      "256 404 102901\n",
      "257 405 102901\n",
      "258 406 102901\n",
      "259 407 102902\n",
      "260 408 102902\n",
      "261 409 102902\n",
      "262 411 102902\n",
      "263 413 102902\n",
      "264 414 103002\n",
      "265 415 103002\n",
      "266 416 103002\n",
      "267 417 103002\n",
      "268 418 103002\n",
      "269 419 103002\n",
      "270 420 103002\n",
      "271 421 103002\n",
      "272 425 103002\n",
      "273 426 103002\n",
      "274 429 071401\n",
      "275 435 071401\n",
      "276 437 071401\n",
      "277 438 071401\n",
      "278 445 071401\n",
      "279 446 071401\n",
      "280 447 071401\n",
      "281 454 071401\n",
      "282 455 071401\n",
      "283 457 071401\n",
      "284 460 071401\n",
      "285 461 071401\n",
      "286 466 071401\n",
      "287 467 071401\n",
      "288 471 071401\n",
      "289 472 071401\n",
      "290 474 071401\n",
      "291 479 071401\n",
      "292 481 071401\n",
      "293 485 071401\n",
      "294 486 110100\n",
      "295 487 110100\n",
      "296 488 110100\n",
      "297 489 110100\n",
      "298 490 110100\n",
      "299 491 110100\n",
      "300 492 110100\n",
      "301 759 110100\n",
      "302 760 110100\n",
      "303 761 110100\n",
      "304 762 110100\n",
      "305 763 110100\n",
      "306 764 110100\n",
      "307 765 080202\n",
      "308 766 080202\n",
      "309 768 080202\n",
      "310 769 080202\n",
      "311 770 080202\n",
      "312 771 080202\n",
      "313 777 110100\n",
      "314 778 080202\n",
      "315 786 080202\n",
      "316 795 110702\n",
      "317 796 110702\n",
      "318 798 103001\n",
      "319 802 102901\n",
      "320 804 071401\n",
      "321 807 102400\n",
      "322 811 102400\n",
      "323 813 102901\n",
      "324 814 102901\n",
      "325 818 102901\n",
      "326 821 102901\n",
      "327 822 102901\n",
      "328 826 102901\n",
      "330 828 102801\n",
      "331 829 102901\n",
      "332 830 102801\n",
      "333 831 103001\n",
      "334 833 102801\n",
      "335 835 102901\n",
      "336 842 103001\n",
      "337 844 102801\n",
      "338 846 102400\n",
      "339 847 102901\n",
      "340 849 110100\n",
      "341 887 103002\n",
      "342 888 071401\n",
      "343 893 071401\n",
      "344 901 103001\n",
      "345 903 102901\n",
      "346 914 080202\n",
      "347 920 103001\n",
      "348 937 102801\n",
      "349 938 102801\n",
      "350 940 071401\n",
      "351 948 102801\n",
      "352 968 102400\n",
      "353 972 102801\n",
      "354 976 103001\n",
      "355 978 102400\n",
      "356 979 103001\n",
      "357 985 071401\n",
      "358 1010 071100\n",
      "359 2280 103001\n",
      "360 2715 071100\n",
      "361 2718 071100\n",
      "362 2719 071100\n",
      "363 2720 071100\n",
      "364 2721 071100\n",
      "365 2722 102802\n",
      "366 2723 102802\n",
      "367 2726 103001\n",
      "368 3011 103001\n",
      "369 3012 103001\n",
      "370 3013 102901\n",
      "371 3014 102901\n",
      "372 3015 071100\n",
      "373 3016 071100\n",
      "374 3017 103002\n",
      "375 3018 071401\n",
      "376 3019 102400\n",
      "377 3020 103001\n",
      "378 3031 071401\n",
      "379 3033 071100\n",
      "381 3041 071401\n",
      "382 3043 071100\n",
      "383 3049 103001\n",
      "384 3050 103001\n",
      "385 3051 103002\n",
      "386 3057 071401\n",
      "387 3058 071100\n",
      "388 3059 071100\n",
      "389 3062 102400\n",
      "390 3063 103002\n",
      "391 3065 071401\n",
      "392 3067 071100\n",
      "393 3070 103001\n",
      "394 3073 103001\n",
      "395 3074 103001\n",
      "396 3076 110100\n",
      "397 3077 080202\n",
      "398 3078 080202\n",
      "399 3079 071401\n",
      "400 3082 102901\n",
      "401 3083 103001\n",
      "402 3084 103001\n",
      "403 3086 103002\n",
      "404 3087 103002\n",
      "405 3097 103002\n",
      "406 3103 103002\n",
      "407 3108 071401\n",
      "408 3109 071401\n"
     ]
    },
    {
     "name": "stderr",
     "output_type": "stream",
     "text": [
      "/home/gsilsbe/miniconda3/envs/rabpro/lib/python3.9/site-packages/pyproj/crs/crs.py:130: FutureWarning: '+init=<authority>:<code>' syntax is deprecated. '<authority>:<code>' is the preferred initialization method. When making the change, be mindful of axis order changes: https://pyproj4.github.io/pyproj/stable/gotchas.html#axis-order-changes-in-proj-6\n",
      "  in_crs_string = _prepare_from_proj_string(in_crs_string)\n"
     ]
    }
   ],
   "source": [
    "for i in range(len(MO_water)):\n",
    "    delineate_watershed(i)\n",
    "    \n",
    "MO_watershed.to_file('MO_watersheds_hydrosheds_3arcsecond.geojson', driver=\"GeoJSON\") \n",
    "MO_watershed_utm = MO_watershed.to_crs({'init': 'epsg:3395'})\n",
    "MO_watershed['Watershed Area'] = MO_watershed_utm.area*1e-6\n",
    "MO_watershed.to_file('MO_watersheds_hydrosheds_3arcsecond.geojson', driver=\"GeoJSON\")  "
   ]
  },
  {
   "cell_type": "markdown",
   "id": "8680fa25-1426-4242-a646-8d84875ac455",
   "metadata": {},
   "source": [
    "## Plot watersheds"
   ]
  },
  {
   "cell_type": "code",
   "execution_count": 187,
   "id": "086cbaaf-d792-4c34-8e96-a8b6061a379e",
   "metadata": {
    "tags": []
   },
   "outputs": [
    {
     "name": "stdout",
     "output_type": "stream",
     "text": [
      "watershed_maps/Rocky Hollow Lake 154.png\n",
      "watershed_maps/Watkins Mill Lake 155.png\n",
      "watershed_maps/Lake Lotawana 158.png\n",
      "watershed_maps/Odessa Lake 160.png\n",
      "watershed_maps/Odessa Lake (Old) 161.png\n",
      "watershed_maps/Longview Lake 164.png\n",
      "watershed_maps/Lake Jacomo 167.png\n",
      "watershed_maps/Prairie Lee Lake 168.png\n",
      "watershed_maps/Lake Tapawingo 169.png\n",
      "watershed_maps/Jamesport City Lake 170.png\n",
      "watershed_maps/Jamesport Community Lake 171.png\n",
      "watershed_maps/Old Bethany City Lake 172.png\n",
      "watershed_maps/New City Lake 175.png\n",
      "watershed_maps/Worth County Community Lake 176.png\n",
      "watershed_maps/Limpp Community State Lake 177.png\n",
      "watershed_maps/King Lake 178.png\n",
      "watershed_maps/King City Old Reservoir 179.png\n",
      "watershed_maps/King City Old Reservoir 180.png\n",
      "watershed_maps/King City New Reservoir 181.png\n",
      "watershed_maps/Maysville Lake 182.png\n"
     ]
    },
    {
     "name": "stderr",
     "output_type": "stream",
     "text": [
      "/tmp/ipykernel_3354/3270457482.py:39: RuntimeWarning: More than 20 figures have been opened. Figures created through the pyplot interface (`matplotlib.pyplot.figure`) are retained until explicitly closed and may consume too much memory. (To control this warning, see the rcParam `figure.max_open_warning`). Consider using `matplotlib.pyplot.close()`.\n",
      "  fig, (ax1, ax2) = plt.subplots(ncols=2, figsize=(8, 4))\n"
     ]
    },
    {
     "name": "stdout",
     "output_type": "stream",
     "text": [
      "watershed_maps/Maysville Lake 183.png\n",
      "watershed_maps/Maysville Lake 184.png\n",
      "watershed_maps/Buffalo Bill Lake 185.png\n",
      "watershed_maps/Pony Express Lake 186.png\n",
      "watershed_maps/Pony Express Lake 187.png\n",
      "watershed_maps/Pony Express Lake 188.png\n",
      "watershed_maps/Cameron Lake #3 189.png\n",
      "watershed_maps/Cameron Lake #1 190.png\n",
      "watershed_maps/Cameron Lake #2 191.png\n",
      "watershed_maps/Lake Viking 192.png\n",
      "watershed_maps/Breckenridge Lake 193.png\n",
      "watershed_maps/Hamilton Lake 194.png\n",
      "watershed_maps/Trenton Lake Upper 198.png\n",
      "watershed_maps/Lake Marie 201.png\n",
      "watershed_maps/Lake Marie 202.png\n",
      "watershed_maps/Lake Marie 203.png\n",
      "watershed_maps/Lake Paho 204.png\n",
      "watershed_maps/Lake Paho 205.png\n",
      "watershed_maps/Lake Paho 206.png\n",
      "watershed_maps/Lake Paho 207.png\n",
      "watershed_maps/Leisure Lake 209.png\n",
      "watershed_maps/Crowder St. Park Lake 210.png\n",
      "watershed_maps/New Marceline City Lake 211.png\n",
      "watershed_maps/Brookfield Lake 213.png\n",
      "watershed_maps/Linneus Lake 221.png\n",
      "watershed_maps/Milan Lake North 222.png\n",
      "watershed_maps/Sears Community Lake 223.png\n",
      "watershed_maps/Elmwood City Lake 224.png\n",
      "watershed_maps/Fountain Grove Lakes 225.png\n",
      "watershed_maps/Fountain Grove Lakes 226.png\n",
      "watershed_maps/Fountain Grove Lakes 227.png\n",
      "watershed_maps/Fountain Grove Lakes 228.png\n",
      "watershed_maps/Fountain Grove Lakes 229.png\n",
      "watershed_maps/Fountain Grove Lakes 230.png\n",
      "watershed_maps/Fountain Grove Lakes 231.png\n",
      "watershed_maps/Fountain Grove Lakes 232.png\n",
      "watershed_maps/Fountain Grove Lakes 233.png\n",
      "watershed_maps/Fountain Grove Lakes 234.png\n",
      "watershed_maps/Fountain Grove Lakes 235.png\n",
      "watershed_maps/Fountain Grove Lakes 236.png\n",
      "watershed_maps/Fountain Grove Lakes 237.png\n",
      "watershed_maps/Fountain Grove Lakes 238.png\n",
      "watershed_maps/Fountain Grove Lakes 239.png\n",
      "watershed_maps/Fountain Grove Lakes 240.png\n",
      "watershed_maps/Fountain Grove Lakes 241.png\n",
      "watershed_maps/Fountain Grove Lakes 242.png\n",
      "watershed_maps/Fountain Grove Lakes 243.png\n",
      "watershed_maps/Fountain Grove Lakes 244.png\n",
      "watershed_maps/Fountain Grove Lakes 245.png\n",
      "watershed_maps/Fountain Grove Lakes 246.png\n",
      "watershed_maps/Fountain Grove Lakes 247.png\n",
      "watershed_maps/Fountain Grove Lakes 248.png\n",
      "watershed_maps/Fountain Grove Lakes 249.png\n",
      "watershed_maps/Fountain Grove Lakes 250.png\n",
      "watershed_maps/Fountain Grove Lakes 251.png\n",
      "watershed_maps/Fountain Grove Lakes 252.png\n",
      "watershed_maps/Fountain Grove Lakes 253.png\n",
      "watershed_maps/Fountain Grove Lakes 254.png\n",
      "watershed_maps/Fountain Grove Lakes 255.png\n",
      "watershed_maps/Fountain Grove Lakes 256.png\n",
      "watershed_maps/Fountain Grove Lakes 257.png\n",
      "watershed_maps/Fountain Grove Lakes 258.png\n",
      "watershed_maps/Fountain Grove Lakes 259.png\n",
      "watershed_maps/Fountain Grove Lakes 260.png\n",
      "watershed_maps/Fountain Grove Lakes 261.png\n",
      "watershed_maps/Fountain Grove Lakes 262.png\n",
      "watershed_maps/Fountain Grove Lakes 263.png\n",
      "watershed_maps/Fountain Grove Lakes 264.png\n",
      "watershed_maps/Fountain Grove Lakes 265.png\n",
      "watershed_maps/Fountain Grove Lakes 266.png\n",
      "watershed_maps/Sterling Price Community Lake 268.png\n",
      "watershed_maps/Spring Lake 269.png\n",
      "watershed_maps/Forest Lake 270.png\n",
      "watershed_maps/Hazel Creek Lake 271.png\n",
      "watershed_maps/Lake Thunderhead 272.png\n",
      "watershed_maps/Unionville Reservoir 273.png\n",
      "watershed_maps/Ethel Lake 275.png\n",
      "watershed_maps/Lake Nehai Tonkayea 277.png\n",
      "watershed_maps/Bucklin Lake 278.png\n",
      "watershed_maps/Marceline Reservoir 279.png\n",
      "watershed_maps/Green City Lake 280.png\n",
      "watershed_maps/Green City Lake 281.png\n",
      "watershed_maps/Sugar Creek Lake 284.png\n",
      "watershed_maps/Macon Lake 288.png\n",
      "watershed_maps/Salisbury City Lake (Pine Ridge Lake) 290.png\n",
      "watershed_maps/Long Branch Lake 291.png\n",
      "watershed_maps/Thomas Hill Reservoir 292.png\n",
      "watershed_maps/Lake Lochaweeno 293.png\n",
      "watershed_maps/Bass Lake 294.png\n",
      "watershed_maps/Leisure Lake 295.png\n",
      "watershed_maps/D C Rogers Lake 296.png\n",
      "watershed_maps/Peters Lake 297.png\n",
      "watershed_maps/Binder Lake 299.png\n",
      "watershed_maps/Ben Branch Lake 300.png\n",
      "watershed_maps/Spring Fork Lake 301.png\n",
      "watershed_maps/Blind Pony Lake 302.png\n",
      "watershed_maps/Edwin A Pape Lake 303.png\n",
      "watershed_maps/Edwin A Pape Lake 304.png\n",
      "watershed_maps/Holden City Lake 305.png\n",
      "watershed_maps/Higbee Lake 308.png\n",
      "watershed_maps/Manito Lake 309.png\n",
      "watershed_maps/Cedar Lake 310.png\n",
      "watershed_maps/Rocky Fork Lake 311.png\n",
      "watershed_maps/Finger Lakes 312.png\n",
      "watershed_maps/Finger Lakes 313.png\n",
      "watershed_maps/Finger Lakes 314.png\n",
      "watershed_maps/Finger Lakes 315.png\n",
      "watershed_maps/Finger Lakes 316.png\n",
      "watershed_maps/Finger Lakes 317.png\n",
      "watershed_maps/Finger Lakes 318.png\n",
      "watershed_maps/Finger Lakes 319.png\n",
      "watershed_maps/Finger Lakes 320.png\n",
      "watershed_maps/Finger Lakes 321.png\n",
      "watershed_maps/Finger Lakes 322.png\n",
      "watershed_maps/Finger Lakes 323.png\n",
      "watershed_maps/Finger Lakes 324.png\n",
      "watershed_maps/Finger Lakes 325.png\n",
      "watershed_maps/Finger Lakes 326.png\n",
      "watershed_maps/Finger Lakes 327.png\n",
      "watershed_maps/Finger Lakes 328.png\n",
      "watershed_maps/Finger Lakes 329.png\n",
      "watershed_maps/Finger Lakes 330.png\n",
      "watershed_maps/Finger Lakes 331.png\n",
      "watershed_maps/Finger Lakes 332.png\n",
      "watershed_maps/Finger Lakes 333.png\n",
      "watershed_maps/Finger Lakes 334.png\n",
      "watershed_maps/Finger Lakes 335.png\n",
      "watershed_maps/Finger Lakes 336.png\n",
      "watershed_maps/Finger Lakes 337.png\n",
      "watershed_maps/Finger Lakes 338.png\n",
      "watershed_maps/Finger Lakes 339.png\n",
      "watershed_maps/Finger Lakes 340.png\n",
      "watershed_maps/Finger Lakes 341.png\n",
      "watershed_maps/Finger Lakes 342.png\n",
      "watershed_maps/Finger Lakes 343.png\n",
      "watershed_maps/Finger Lakes 344.png\n",
      "watershed_maps/Finger Lakes 345.png\n",
      "watershed_maps/Finger Lakes 346.png\n",
      "watershed_maps/Finger Lakes 347.png\n",
      "watershed_maps/Finger Lakes 348.png\n",
      "watershed_maps/Finger Lakes 349.png\n",
      "watershed_maps/Finger Lakes 350.png\n",
      "watershed_maps/Finger Lakes 351.png\n",
      "watershed_maps/Finger Lakes 352.png\n",
      "watershed_maps/Finger Lakes 353.png\n",
      "watershed_maps/Finger Lakes 354.png\n",
      "watershed_maps/Finger Lakes 355.png\n",
      "watershed_maps/Finger Lakes 356.png\n",
      "watershed_maps/Finger Lakes 357.png\n",
      "watershed_maps/Finger Lakes 358.png\n",
      "watershed_maps/Finger Lakes 359.png\n",
      "watershed_maps/Finger Lakes 360.png\n",
      "watershed_maps/Finger Lakes 361.png\n",
      "watershed_maps/Winegar  Lake 363.png\n",
      "watershed_maps/Lake of the Ozarks 365.png\n",
      "watershed_maps/Lake of the Ozarks 366.png\n",
      "watershed_maps/Lake Niangua 367.png\n",
      "watershed_maps/Harry S Truman Reservoir 368.png\n",
      "watershed_maps/Harry S Truman Reservoir 369.png\n",
      "watershed_maps/Harry S Truman Reservoir 370.png\n",
      "watershed_maps/Montrose Lake 371.png\n",
      "watershed_maps/Lone Jack Lake 372.png\n",
      "watershed_maps/Pleasant Hill Lake 374.png\n",
      "watershed_maps/Lake Winnebago 375.png\n",
      "watershed_maps/Raintree Lake 376.png\n",
      "watershed_maps/Raintree Lake 377.png\n",
      "watershed_maps/Raintree Lake 378.png\n",
      "watershed_maps/Raintree Lake 379.png\n",
      "watershed_maps/Raintree Lake 380.png\n",
      "watershed_maps/Harrisonville City Lake 381.png\n",
      "watershed_maps/Lake Luna 383.png\n",
      "watershed_maps/City Lake Harrisonville 384.png\n",
      "watershed_maps/North Lake 385.png\n",
      "watershed_maps/Adrian Reservoir 394.png\n",
      "watershed_maps/Drexel Lake 397.png\n",
      "watershed_maps/Butler Lake 398.png\n",
      "watershed_maps/Drexel City Reservoir South 399.png\n",
      "watershed_maps/Bushwacker Lake 401.png\n",
      "watershed_maps/Atkinson Lake 403.png\n",
      "watershed_maps/Stockton Lake 404.png\n",
      "watershed_maps/McDaniel Lake 405.png\n",
      "watershed_maps/Fellows Lake 406.png\n",
      "watershed_maps/Austin Community Lake 407.png\n",
      "watershed_maps/Brays Lake 408.png\n",
      "watershed_maps/Peaceful Valley Lake 409.png\n",
      "watershed_maps/Lake Northwood 411.png\n",
      "watershed_maps/Roby Lake 413.png\n",
      "watershed_maps/Callaway Lake 414.png\n",
      "watershed_maps/Lake Sherwood 415.png\n",
      "watershed_maps/Lake Sherwood 416.png\n",
      "watershed_maps/Lake Sherwood 417.png\n",
      "watershed_maps/Lake Sherwood 418.png\n",
      "watershed_maps/Lake Sherwood 419.png\n",
      "watershed_maps/Lake Lucern 420.png\n",
      "watershed_maps/Pinnacle Lake 421.png\n",
      "watershed_maps/Lost Valley Lake 425.png\n",
      "watershed_maps/Creve Coeur Lake 426.png\n",
      "watershed_maps/Lake Wauwanoka 429.png\n",
      "watershed_maps/Goose Creek Lake 435.png\n",
      "watershed_maps/Lake Wanda Lee 437.png\n",
      "watershed_maps/Lake Anne 438.png\n",
      "watershed_maps/Perry County Community Lake 445.png\n",
      "watershed_maps/Perry County Community Lake 446.png\n",
      "watershed_maps/Delaney Lake 447.png\n",
      "watershed_maps/Shawnee Lake - Turner 454.png\n",
      "watershed_maps/Mac Lake - Ziske 455.png\n",
      "watershed_maps/Lake Serene 457.png\n",
      "watershed_maps/L. Prairie Comm. Lake 460.png\n",
      "watershed_maps/Indian Lake 461.png\n",
      "watershed_maps/Sayersbrook Lake 466.png\n",
      "watershed_maps/Sunnen Lake 467.png\n",
      "watershed_maps/Potosi Lake 471.png\n",
      "watershed_maps/Council Bluff Lake 472.png\n",
      "watershed_maps/Monsanto Lake 474.png\n",
      "watershed_maps/Cole Lake 479.png\n",
      "watershed_maps/Lake Tishomingo 481.png\n",
      "watershed_maps/Lake Girardeau 485.png\n",
      "watershed_maps/Lake Springfield 486.png\n",
      "watershed_maps/Table Rock Lake 487.png\n",
      "watershed_maps/Table Rock Lake 488.png\n",
      "watershed_maps/Lake Taneycomo 489.png\n",
      "watershed_maps/Bull Shoals Lake 490.png\n",
      "watershed_maps/Noblett Lake 491.png\n",
      "watershed_maps/Norfork Lake 492.png\n",
      "watershed_maps/McCormack Lake 759.png\n",
      "watershed_maps/Sims Valley Community Lake 760.png\n",
      "watershed_maps/Loggers Lake 761.png\n",
      "watershed_maps/Ripley Lake 762.png\n",
      "watershed_maps/Fourche Lake 763.png\n",
      "watershed_maps/Beaver Lake 764.png\n",
      "watershed_maps/Fredricktown City Lake 765.png\n",
      "watershed_maps/Nims Lake 766.png\n",
      "watershed_maps/Hemitite Lake 768.png\n",
      "watershed_maps/Lake Killarney 769.png\n",
      "watershed_maps/Shepard Mountain Lake 770.png\n",
      "watershed_maps/Crane Lake 771.png\n",
      "watershed_maps/Lower Taum Sauk Lake 777.png\n",
      "watershed_maps/Lake Tywappity 778.png\n",
      "watershed_maps/Big Oak Tree S.P. Lake 786.png\n",
      "watershed_maps/Kellogg Lake 795.png\n",
      "watershed_maps/Lamar Lake 796.png\n",
      "watershed_maps/Blue Springs Lake 798.png\n",
      "watershed_maps/Amarugia Lake 802.png\n",
      "watershed_maps/Apollo Lake 804.png\n",
      "watershed_maps/Belcher Branch Lake 807.png\n",
      "watershed_maps/Bilby Ranch Lake 811.png\n",
      "watershed_maps/Bluestem Lake 813.png\n",
      "watershed_maps/Bodarc Lake 814.png\n",
      "watershed_maps/Catclaw Lake 818.png\n",
      "watershed_maps/Coot Lake 821.png\n",
      "watershed_maps/Cottontail Lake 822.png\n",
      "watershed_maps/Gopher Lake 826.png\n",
      "watershed_maps/Gopher Lake 827.png\n",
      "watershed_maps/Cameron Lake #4 (Grindstone Reservoir) 828.png\n",
      "watershed_maps/Harmony Mission Lake 829.png\n",
      "watershed_maps/Harrison County Lake 830.png\n",
      "watershed_maps/Hazel Hill Lake 831.png\n",
      "watershed_maps/Indian Creek Community Lake 833.png\n",
      "watershed_maps/Jackrabbit Lake 835.png\n",
      "watershed_maps/Maple Leaf Lake 842.png\n",
      "watershed_maps/Middle Fork Water Company Lake 844.png\n",
      "watershed_maps/Mozingo Lake 846.png\n",
      "watershed_maps/Lake Nell 847.png\n",
      "watershed_maps/Pinewoods Lake 849.png\n",
      "watershed_maps/Port Hudson Lake 887.png\n",
      "watershed_maps/Primrose Lake 888.png\n",
      "watershed_maps/Wahoo Lake 893.png\n",
      "watershed_maps/Cosmo-Bethel Lake 901.png\n",
      "watershed_maps/Garden City New Lake 903.png\n",
      "watershed_maps/Iron Mountain Lake 914.png\n",
      "watershed_maps/Lake of the Woods 920.png\n",
      "watershed_maps/Willow Brook Lake 937.png\n",
      "watershed_maps/Milan Lake South 938.png\n",
      "watershed_maps/Palmer Lake 940.png\n",
      "watershed_maps/Pike Lake 948.png\n",
      "watershed_maps/Tobacco Hills Lake 968.png\n",
      "watershed_maps/Lake Allaman 972.png\n",
      "watershed_maps/Malta Bend Community Lake 976.png\n",
      "watershed_maps/Lewis & Clark Lake 978.png\n",
      "watershed_maps/Higginsville Reservoir (South) 979.png\n",
      "watershed_maps/Lac Capri 985.png\n",
      "watershed_maps/Mark Twain Lake 1010.png\n",
      "watershed_maps/Little Dixie Lake 2280.png\n",
      "watershed_maps/Bear Creek Watershed Structure F-1 2715.png\n",
      "watershed_maps/Deer Ridge Community Lake 2718.png\n",
      "watershed_maps/Henry Sever Lake 2719.png\n",
      "watershed_maps/Whiteside Lake 2720.png\n",
      "watershed_maps/Whiteside Lake 2721.png\n",
      "watershed_maps/Old Reservoir 2722.png\n",
      "watershed_maps/Rothwell Lake 2723.png\n",
      "watershed_maps/Lake Tebo 2726.png\n",
      "watershed_maps/Glover Spring Lake 3011.png\n",
      "watershed_maps/Monte Gurwit Lake 3012.png\n",
      "watershed_maps/Autumn Lake 3013.png\n",
      "watershed_maps/Treeline Lake 3014.png\n",
      "watershed_maps/Santa Fe Lake 3015.png\n",
      "watershed_maps/Santa Fe Lake 3016.png\n",
      "watershed_maps/Foxtail Lake 3017.png\n",
      "watershed_maps/Koeneman Park Lake 3018.png\n",
      "watershed_maps/Happy Holler Lake 3019.png\n",
      "watershed_maps/Dairy Farm Lake Number 1 3020.png\n",
      "watershed_maps/Simpson Park Lake 3031.png\n",
      "watershed_maps/August A Busch Lake Number 37 3033.png\n",
      "watershed_maps/Happy Holler Lake 3034.png\n",
      "watershed_maps/Simpson Park Lake 3041.png\n",
      "watershed_maps/August A Busch Lake Number 37 3043.png\n",
      "watershed_maps/Bennitt Lake 3049.png\n",
      "watershed_maps/Tri-City Lake 3050.png\n",
      "watershed_maps/Alpine Lake 3051.png\n",
      "watershed_maps/Lake Timberline 3057.png\n",
      "watershed_maps/Shelbina Lake 3058.png\n",
      "watershed_maps/Shelbina Lake 3059.png\n",
      "watershed_maps/Smithville Lake 3062.png\n",
      "watershed_maps/Lake Innsbrook 3063.png\n",
      "watershed_maps/Lake Boutin 3065.png\n",
      "watershed_maps/Daniel Boone Lake 3067.png\n",
      "watershed_maps/Johnson Lake 3070.png\n",
      "watershed_maps/Lake of the Woods 3073.png\n",
      "watershed_maps/Perry Phillips Lake 3074.png\n",
      "watershed_maps/Clearwater Lake 3076.png\n",
      "watershed_maps/Lake Wappapello 3077.png\n",
      "watershed_maps/Lake Wappapello 3078.png\n",
      "watershed_maps/Lac Shayne 3079.png\n",
      "watershed_maps/Pomme de Terre Lake 3082.png\n",
      "watershed_maps/Clear Fork Lake 3083.png\n",
      "watershed_maps/Lake Buteo 3084.png\n",
      "watershed_maps/Big Lake 3086.png\n",
      "watershed_maps/Windy Lake 3087.png\n",
      "watershed_maps/Horseshoe Lake 3097.png\n",
      "watershed_maps/North Lake 3103.png\n",
      "watershed_maps/Lac Capri 3108.png\n",
      "watershed_maps/Lac Carmel 3109.png\n",
      "watershed_maps/Lac Marseilles 3117.png\n",
      "watershed_maps/Lac Lafitte 3120.png\n"
     ]
    },
    {
     "data": {
      "text/plain": [
       "<Figure size 800x400 with 0 Axes>"
      ]
     },
     "metadata": {},
     "output_type": "display_data"
    },
    {
     "data": {
      "text/plain": [
       "<Figure size 800x400 with 0 Axes>"
      ]
     },
     "metadata": {},
     "output_type": "display_data"
    },
    {
     "data": {
      "text/plain": [
       "<Figure size 800x400 with 0 Axes>"
      ]
     },
     "metadata": {},
     "output_type": "display_data"
    },
    {
     "data": {
      "text/plain": [
       "<Figure size 800x400 with 0 Axes>"
      ]
     },
     "metadata": {},
     "output_type": "display_data"
    },
    {
     "data": {
      "text/plain": [
       "<Figure size 800x400 with 0 Axes>"
      ]
     },
     "metadata": {},
     "output_type": "display_data"
    },
    {
     "data": {
      "text/plain": [
       "<Figure size 800x400 with 0 Axes>"
      ]
     },
     "metadata": {},
     "output_type": "display_data"
    },
    {
     "data": {
      "text/plain": [
       "<Figure size 800x400 with 0 Axes>"
      ]
     },
     "metadata": {},
     "output_type": "display_data"
    },
    {
     "data": {
      "text/plain": [
       "<Figure size 800x400 with 0 Axes>"
      ]
     },
     "metadata": {},
     "output_type": "display_data"
    },
    {
     "data": {
      "text/plain": [
       "<Figure size 800x400 with 0 Axes>"
      ]
     },
     "metadata": {},
     "output_type": "display_data"
    },
    {
     "data": {
      "text/plain": [
       "<Figure size 800x400 with 0 Axes>"
      ]
     },
     "metadata": {},
     "output_type": "display_data"
    },
    {
     "data": {
      "text/plain": [
       "<Figure size 800x400 with 0 Axes>"
      ]
     },
     "metadata": {},
     "output_type": "display_data"
    },
    {
     "data": {
      "text/plain": [
       "<Figure size 800x400 with 0 Axes>"
      ]
     },
     "metadata": {},
     "output_type": "display_data"
    },
    {
     "data": {
      "text/plain": [
       "<Figure size 800x400 with 0 Axes>"
      ]
     },
     "metadata": {},
     "output_type": "display_data"
    },
    {
     "data": {
      "text/plain": [
       "<Figure size 800x400 with 0 Axes>"
      ]
     },
     "metadata": {},
     "output_type": "display_data"
    },
    {
     "data": {
      "text/plain": [
       "<Figure size 800x400 with 0 Axes>"
      ]
     },
     "metadata": {},
     "output_type": "display_data"
    },
    {
     "data": {
      "text/plain": [
       "<Figure size 800x400 with 0 Axes>"
      ]
     },
     "metadata": {},
     "output_type": "display_data"
    },
    {
     "data": {
      "text/plain": [
       "<Figure size 800x400 with 0 Axes>"
      ]
     },
     "metadata": {},
     "output_type": "display_data"
    },
    {
     "data": {
      "text/plain": [
       "<Figure size 800x400 with 0 Axes>"
      ]
     },
     "metadata": {},
     "output_type": "display_data"
    },
    {
     "data": {
      "text/plain": [
       "<Figure size 800x400 with 0 Axes>"
      ]
     },
     "metadata": {},
     "output_type": "display_data"
    },
    {
     "data": {
      "text/plain": [
       "<Figure size 800x400 with 0 Axes>"
      ]
     },
     "metadata": {},
     "output_type": "display_data"
    },
    {
     "data": {
      "text/plain": [
       "<Figure size 800x400 with 0 Axes>"
      ]
     },
     "metadata": {},
     "output_type": "display_data"
    },
    {
     "data": {
      "text/plain": [
       "<Figure size 800x400 with 0 Axes>"
      ]
     },
     "metadata": {},
     "output_type": "display_data"
    },
    {
     "data": {
      "text/plain": [
       "<Figure size 800x400 with 0 Axes>"
      ]
     },
     "metadata": {},
     "output_type": "display_data"
    },
    {
     "data": {
      "text/plain": [
       "<Figure size 800x400 with 0 Axes>"
      ]
     },
     "metadata": {},
     "output_type": "display_data"
    },
    {
     "data": {
      "text/plain": [
       "<Figure size 800x400 with 0 Axes>"
      ]
     },
     "metadata": {},
     "output_type": "display_data"
    },
    {
     "data": {
      "text/plain": [
       "<Figure size 800x400 with 0 Axes>"
      ]
     },
     "metadata": {},
     "output_type": "display_data"
    },
    {
     "data": {
      "text/plain": [
       "<Figure size 800x400 with 0 Axes>"
      ]
     },
     "metadata": {},
     "output_type": "display_data"
    },
    {
     "data": {
      "text/plain": [
       "<Figure size 800x400 with 0 Axes>"
      ]
     },
     "metadata": {},
     "output_type": "display_data"
    },
    {
     "data": {
      "text/plain": [
       "<Figure size 800x400 with 0 Axes>"
      ]
     },
     "metadata": {},
     "output_type": "display_data"
    },
    {
     "data": {
      "text/plain": [
       "<Figure size 800x400 with 0 Axes>"
      ]
     },
     "metadata": {},
     "output_type": "display_data"
    },
    {
     "data": {
      "text/plain": [
       "<Figure size 800x400 with 0 Axes>"
      ]
     },
     "metadata": {},
     "output_type": "display_data"
    },
    {
     "data": {
      "text/plain": [
       "<Figure size 800x400 with 0 Axes>"
      ]
     },
     "metadata": {},
     "output_type": "display_data"
    },
    {
     "data": {
      "text/plain": [
       "<Figure size 800x400 with 0 Axes>"
      ]
     },
     "metadata": {},
     "output_type": "display_data"
    },
    {
     "data": {
      "text/plain": [
       "<Figure size 800x400 with 0 Axes>"
      ]
     },
     "metadata": {},
     "output_type": "display_data"
    },
    {
     "data": {
      "text/plain": [
       "<Figure size 800x400 with 0 Axes>"
      ]
     },
     "metadata": {},
     "output_type": "display_data"
    },
    {
     "data": {
      "text/plain": [
       "<Figure size 800x400 with 0 Axes>"
      ]
     },
     "metadata": {},
     "output_type": "display_data"
    },
    {
     "data": {
      "text/plain": [
       "<Figure size 800x400 with 0 Axes>"
      ]
     },
     "metadata": {},
     "output_type": "display_data"
    },
    {
     "data": {
      "text/plain": [
       "<Figure size 800x400 with 0 Axes>"
      ]
     },
     "metadata": {},
     "output_type": "display_data"
    },
    {
     "data": {
      "text/plain": [
       "<Figure size 800x400 with 0 Axes>"
      ]
     },
     "metadata": {},
     "output_type": "display_data"
    },
    {
     "data": {
      "text/plain": [
       "<Figure size 800x400 with 0 Axes>"
      ]
     },
     "metadata": {},
     "output_type": "display_data"
    },
    {
     "data": {
      "text/plain": [
       "<Figure size 800x400 with 0 Axes>"
      ]
     },
     "metadata": {},
     "output_type": "display_data"
    },
    {
     "data": {
      "text/plain": [
       "<Figure size 800x400 with 0 Axes>"
      ]
     },
     "metadata": {},
     "output_type": "display_data"
    },
    {
     "data": {
      "text/plain": [
       "<Figure size 800x400 with 0 Axes>"
      ]
     },
     "metadata": {},
     "output_type": "display_data"
    },
    {
     "data": {
      "text/plain": [
       "<Figure size 800x400 with 0 Axes>"
      ]
     },
     "metadata": {},
     "output_type": "display_data"
    },
    {
     "data": {
      "text/plain": [
       "<Figure size 800x400 with 0 Axes>"
      ]
     },
     "metadata": {},
     "output_type": "display_data"
    },
    {
     "data": {
      "text/plain": [
       "<Figure size 800x400 with 0 Axes>"
      ]
     },
     "metadata": {},
     "output_type": "display_data"
    },
    {
     "data": {
      "text/plain": [
       "<Figure size 800x400 with 0 Axes>"
      ]
     },
     "metadata": {},
     "output_type": "display_data"
    },
    {
     "data": {
      "text/plain": [
       "<Figure size 800x400 with 0 Axes>"
      ]
     },
     "metadata": {},
     "output_type": "display_data"
    },
    {
     "data": {
      "text/plain": [
       "<Figure size 800x400 with 0 Axes>"
      ]
     },
     "metadata": {},
     "output_type": "display_data"
    },
    {
     "data": {
      "text/plain": [
       "<Figure size 800x400 with 0 Axes>"
      ]
     },
     "metadata": {},
     "output_type": "display_data"
    },
    {
     "data": {
      "text/plain": [
       "<Figure size 800x400 with 0 Axes>"
      ]
     },
     "metadata": {},
     "output_type": "display_data"
    },
    {
     "data": {
      "text/plain": [
       "<Figure size 800x400 with 0 Axes>"
      ]
     },
     "metadata": {},
     "output_type": "display_data"
    },
    {
     "data": {
      "text/plain": [
       "<Figure size 800x400 with 0 Axes>"
      ]
     },
     "metadata": {},
     "output_type": "display_data"
    },
    {
     "data": {
      "text/plain": [
       "<Figure size 800x400 with 0 Axes>"
      ]
     },
     "metadata": {},
     "output_type": "display_data"
    },
    {
     "data": {
      "text/plain": [
       "<Figure size 800x400 with 0 Axes>"
      ]
     },
     "metadata": {},
     "output_type": "display_data"
    },
    {
     "data": {
      "text/plain": [
       "<Figure size 800x400 with 0 Axes>"
      ]
     },
     "metadata": {},
     "output_type": "display_data"
    },
    {
     "data": {
      "text/plain": [
       "<Figure size 800x400 with 0 Axes>"
      ]
     },
     "metadata": {},
     "output_type": "display_data"
    },
    {
     "data": {
      "text/plain": [
       "<Figure size 800x400 with 0 Axes>"
      ]
     },
     "metadata": {},
     "output_type": "display_data"
    },
    {
     "data": {
      "text/plain": [
       "<Figure size 800x400 with 0 Axes>"
      ]
     },
     "metadata": {},
     "output_type": "display_data"
    },
    {
     "data": {
      "text/plain": [
       "<Figure size 800x400 with 0 Axes>"
      ]
     },
     "metadata": {},
     "output_type": "display_data"
    },
    {
     "data": {
      "text/plain": [
       "<Figure size 800x400 with 0 Axes>"
      ]
     },
     "metadata": {},
     "output_type": "display_data"
    },
    {
     "data": {
      "text/plain": [
       "<Figure size 800x400 with 0 Axes>"
      ]
     },
     "metadata": {},
     "output_type": "display_data"
    },
    {
     "data": {
      "text/plain": [
       "<Figure size 800x400 with 0 Axes>"
      ]
     },
     "metadata": {},
     "output_type": "display_data"
    },
    {
     "data": {
      "text/plain": [
       "<Figure size 800x400 with 0 Axes>"
      ]
     },
     "metadata": {},
     "output_type": "display_data"
    },
    {
     "data": {
      "text/plain": [
       "<Figure size 800x400 with 0 Axes>"
      ]
     },
     "metadata": {},
     "output_type": "display_data"
    },
    {
     "data": {
      "text/plain": [
       "<Figure size 800x400 with 0 Axes>"
      ]
     },
     "metadata": {},
     "output_type": "display_data"
    },
    {
     "data": {
      "text/plain": [
       "<Figure size 800x400 with 0 Axes>"
      ]
     },
     "metadata": {},
     "output_type": "display_data"
    },
    {
     "data": {
      "text/plain": [
       "<Figure size 800x400 with 0 Axes>"
      ]
     },
     "metadata": {},
     "output_type": "display_data"
    },
    {
     "data": {
      "text/plain": [
       "<Figure size 800x400 with 0 Axes>"
      ]
     },
     "metadata": {},
     "output_type": "display_data"
    },
    {
     "data": {
      "text/plain": [
       "<Figure size 800x400 with 0 Axes>"
      ]
     },
     "metadata": {},
     "output_type": "display_data"
    },
    {
     "data": {
      "text/plain": [
       "<Figure size 800x400 with 0 Axes>"
      ]
     },
     "metadata": {},
     "output_type": "display_data"
    },
    {
     "data": {
      "text/plain": [
       "<Figure size 800x400 with 0 Axes>"
      ]
     },
     "metadata": {},
     "output_type": "display_data"
    },
    {
     "data": {
      "text/plain": [
       "<Figure size 800x400 with 0 Axes>"
      ]
     },
     "metadata": {},
     "output_type": "display_data"
    },
    {
     "data": {
      "text/plain": [
       "<Figure size 800x400 with 0 Axes>"
      ]
     },
     "metadata": {},
     "output_type": "display_data"
    },
    {
     "data": {
      "text/plain": [
       "<Figure size 800x400 with 0 Axes>"
      ]
     },
     "metadata": {},
     "output_type": "display_data"
    },
    {
     "data": {
      "text/plain": [
       "<Figure size 800x400 with 0 Axes>"
      ]
     },
     "metadata": {},
     "output_type": "display_data"
    },
    {
     "data": {
      "text/plain": [
       "<Figure size 800x400 with 0 Axes>"
      ]
     },
     "metadata": {},
     "output_type": "display_data"
    },
    {
     "data": {
      "text/plain": [
       "<Figure size 800x400 with 0 Axes>"
      ]
     },
     "metadata": {},
     "output_type": "display_data"
    },
    {
     "data": {
      "text/plain": [
       "<Figure size 800x400 with 0 Axes>"
      ]
     },
     "metadata": {},
     "output_type": "display_data"
    },
    {
     "data": {
      "text/plain": [
       "<Figure size 800x400 with 0 Axes>"
      ]
     },
     "metadata": {},
     "output_type": "display_data"
    },
    {
     "data": {
      "text/plain": [
       "<Figure size 800x400 with 0 Axes>"
      ]
     },
     "metadata": {},
     "output_type": "display_data"
    },
    {
     "data": {
      "text/plain": [
       "<Figure size 800x400 with 0 Axes>"
      ]
     },
     "metadata": {},
     "output_type": "display_data"
    },
    {
     "data": {
      "text/plain": [
       "<Figure size 800x400 with 0 Axes>"
      ]
     },
     "metadata": {},
     "output_type": "display_data"
    },
    {
     "data": {
      "text/plain": [
       "<Figure size 800x400 with 0 Axes>"
      ]
     },
     "metadata": {},
     "output_type": "display_data"
    },
    {
     "data": {
      "text/plain": [
       "<Figure size 800x400 with 0 Axes>"
      ]
     },
     "metadata": {},
     "output_type": "display_data"
    },
    {
     "data": {
      "text/plain": [
       "<Figure size 800x400 with 0 Axes>"
      ]
     },
     "metadata": {},
     "output_type": "display_data"
    },
    {
     "data": {
      "text/plain": [
       "<Figure size 800x400 with 0 Axes>"
      ]
     },
     "metadata": {},
     "output_type": "display_data"
    },
    {
     "data": {
      "text/plain": [
       "<Figure size 800x400 with 0 Axes>"
      ]
     },
     "metadata": {},
     "output_type": "display_data"
    },
    {
     "data": {
      "text/plain": [
       "<Figure size 800x400 with 0 Axes>"
      ]
     },
     "metadata": {},
     "output_type": "display_data"
    },
    {
     "data": {
      "text/plain": [
       "<Figure size 800x400 with 0 Axes>"
      ]
     },
     "metadata": {},
     "output_type": "display_data"
    },
    {
     "data": {
      "text/plain": [
       "<Figure size 800x400 with 0 Axes>"
      ]
     },
     "metadata": {},
     "output_type": "display_data"
    },
    {
     "data": {
      "text/plain": [
       "<Figure size 800x400 with 0 Axes>"
      ]
     },
     "metadata": {},
     "output_type": "display_data"
    },
    {
     "data": {
      "text/plain": [
       "<Figure size 800x400 with 0 Axes>"
      ]
     },
     "metadata": {},
     "output_type": "display_data"
    },
    {
     "data": {
      "text/plain": [
       "<Figure size 800x400 with 0 Axes>"
      ]
     },
     "metadata": {},
     "output_type": "display_data"
    },
    {
     "data": {
      "text/plain": [
       "<Figure size 800x400 with 0 Axes>"
      ]
     },
     "metadata": {},
     "output_type": "display_data"
    },
    {
     "data": {
      "text/plain": [
       "<Figure size 800x400 with 0 Axes>"
      ]
     },
     "metadata": {},
     "output_type": "display_data"
    },
    {
     "data": {
      "text/plain": [
       "<Figure size 800x400 with 0 Axes>"
      ]
     },
     "metadata": {},
     "output_type": "display_data"
    },
    {
     "data": {
      "text/plain": [
       "<Figure size 800x400 with 0 Axes>"
      ]
     },
     "metadata": {},
     "output_type": "display_data"
    },
    {
     "data": {
      "text/plain": [
       "<Figure size 800x400 with 0 Axes>"
      ]
     },
     "metadata": {},
     "output_type": "display_data"
    },
    {
     "data": {
      "text/plain": [
       "<Figure size 800x400 with 0 Axes>"
      ]
     },
     "metadata": {},
     "output_type": "display_data"
    },
    {
     "data": {
      "text/plain": [
       "<Figure size 800x400 with 0 Axes>"
      ]
     },
     "metadata": {},
     "output_type": "display_data"
    },
    {
     "data": {
      "text/plain": [
       "<Figure size 800x400 with 0 Axes>"
      ]
     },
     "metadata": {},
     "output_type": "display_data"
    },
    {
     "data": {
      "text/plain": [
       "<Figure size 800x400 with 0 Axes>"
      ]
     },
     "metadata": {},
     "output_type": "display_data"
    },
    {
     "data": {
      "text/plain": [
       "<Figure size 800x400 with 0 Axes>"
      ]
     },
     "metadata": {},
     "output_type": "display_data"
    },
    {
     "data": {
      "text/plain": [
       "<Figure size 800x400 with 0 Axes>"
      ]
     },
     "metadata": {},
     "output_type": "display_data"
    },
    {
     "data": {
      "text/plain": [
       "<Figure size 800x400 with 0 Axes>"
      ]
     },
     "metadata": {},
     "output_type": "display_data"
    },
    {
     "data": {
      "text/plain": [
       "<Figure size 800x400 with 0 Axes>"
      ]
     },
     "metadata": {},
     "output_type": "display_data"
    },
    {
     "data": {
      "text/plain": [
       "<Figure size 800x400 with 0 Axes>"
      ]
     },
     "metadata": {},
     "output_type": "display_data"
    },
    {
     "data": {
      "text/plain": [
       "<Figure size 800x400 with 0 Axes>"
      ]
     },
     "metadata": {},
     "output_type": "display_data"
    },
    {
     "data": {
      "text/plain": [
       "<Figure size 800x400 with 0 Axes>"
      ]
     },
     "metadata": {},
     "output_type": "display_data"
    },
    {
     "data": {
      "text/plain": [
       "<Figure size 800x400 with 0 Axes>"
      ]
     },
     "metadata": {},
     "output_type": "display_data"
    },
    {
     "data": {
      "text/plain": [
       "<Figure size 800x400 with 0 Axes>"
      ]
     },
     "metadata": {},
     "output_type": "display_data"
    },
    {
     "data": {
      "text/plain": [
       "<Figure size 800x400 with 0 Axes>"
      ]
     },
     "metadata": {},
     "output_type": "display_data"
    },
    {
     "data": {
      "text/plain": [
       "<Figure size 800x400 with 0 Axes>"
      ]
     },
     "metadata": {},
     "output_type": "display_data"
    },
    {
     "data": {
      "text/plain": [
       "<Figure size 800x400 with 0 Axes>"
      ]
     },
     "metadata": {},
     "output_type": "display_data"
    },
    {
     "data": {
      "text/plain": [
       "<Figure size 800x400 with 0 Axes>"
      ]
     },
     "metadata": {},
     "output_type": "display_data"
    },
    {
     "data": {
      "text/plain": [
       "<Figure size 800x400 with 0 Axes>"
      ]
     },
     "metadata": {},
     "output_type": "display_data"
    },
    {
     "data": {
      "text/plain": [
       "<Figure size 800x400 with 0 Axes>"
      ]
     },
     "metadata": {},
     "output_type": "display_data"
    },
    {
     "data": {
      "text/plain": [
       "<Figure size 800x400 with 0 Axes>"
      ]
     },
     "metadata": {},
     "output_type": "display_data"
    },
    {
     "data": {
      "text/plain": [
       "<Figure size 800x400 with 0 Axes>"
      ]
     },
     "metadata": {},
     "output_type": "display_data"
    },
    {
     "data": {
      "text/plain": [
       "<Figure size 800x400 with 0 Axes>"
      ]
     },
     "metadata": {},
     "output_type": "display_data"
    },
    {
     "data": {
      "text/plain": [
       "<Figure size 800x400 with 0 Axes>"
      ]
     },
     "metadata": {},
     "output_type": "display_data"
    },
    {
     "data": {
      "text/plain": [
       "<Figure size 800x400 with 0 Axes>"
      ]
     },
     "metadata": {},
     "output_type": "display_data"
    },
    {
     "data": {
      "text/plain": [
       "<Figure size 800x400 with 0 Axes>"
      ]
     },
     "metadata": {},
     "output_type": "display_data"
    },
    {
     "data": {
      "text/plain": [
       "<Figure size 800x400 with 0 Axes>"
      ]
     },
     "metadata": {},
     "output_type": "display_data"
    },
    {
     "data": {
      "text/plain": [
       "<Figure size 800x400 with 0 Axes>"
      ]
     },
     "metadata": {},
     "output_type": "display_data"
    },
    {
     "data": {
      "text/plain": [
       "<Figure size 800x400 with 0 Axes>"
      ]
     },
     "metadata": {},
     "output_type": "display_data"
    },
    {
     "data": {
      "text/plain": [
       "<Figure size 800x400 with 0 Axes>"
      ]
     },
     "metadata": {},
     "output_type": "display_data"
    },
    {
     "data": {
      "text/plain": [
       "<Figure size 800x400 with 0 Axes>"
      ]
     },
     "metadata": {},
     "output_type": "display_data"
    },
    {
     "data": {
      "text/plain": [
       "<Figure size 800x400 with 0 Axes>"
      ]
     },
     "metadata": {},
     "output_type": "display_data"
    },
    {
     "data": {
      "text/plain": [
       "<Figure size 800x400 with 0 Axes>"
      ]
     },
     "metadata": {},
     "output_type": "display_data"
    },
    {
     "data": {
      "text/plain": [
       "<Figure size 800x400 with 0 Axes>"
      ]
     },
     "metadata": {},
     "output_type": "display_data"
    },
    {
     "data": {
      "text/plain": [
       "<Figure size 800x400 with 0 Axes>"
      ]
     },
     "metadata": {},
     "output_type": "display_data"
    },
    {
     "data": {
      "text/plain": [
       "<Figure size 800x400 with 0 Axes>"
      ]
     },
     "metadata": {},
     "output_type": "display_data"
    },
    {
     "data": {
      "text/plain": [
       "<Figure size 800x400 with 0 Axes>"
      ]
     },
     "metadata": {},
     "output_type": "display_data"
    },
    {
     "data": {
      "text/plain": [
       "<Figure size 800x400 with 0 Axes>"
      ]
     },
     "metadata": {},
     "output_type": "display_data"
    },
    {
     "data": {
      "text/plain": [
       "<Figure size 800x400 with 0 Axes>"
      ]
     },
     "metadata": {},
     "output_type": "display_data"
    },
    {
     "data": {
      "text/plain": [
       "<Figure size 800x400 with 0 Axes>"
      ]
     },
     "metadata": {},
     "output_type": "display_data"
    },
    {
     "data": {
      "text/plain": [
       "<Figure size 800x400 with 0 Axes>"
      ]
     },
     "metadata": {},
     "output_type": "display_data"
    },
    {
     "data": {
      "text/plain": [
       "<Figure size 800x400 with 0 Axes>"
      ]
     },
     "metadata": {},
     "output_type": "display_data"
    },
    {
     "data": {
      "text/plain": [
       "<Figure size 800x400 with 0 Axes>"
      ]
     },
     "metadata": {},
     "output_type": "display_data"
    },
    {
     "data": {
      "text/plain": [
       "<Figure size 800x400 with 0 Axes>"
      ]
     },
     "metadata": {},
     "output_type": "display_data"
    },
    {
     "data": {
      "text/plain": [
       "<Figure size 800x400 with 0 Axes>"
      ]
     },
     "metadata": {},
     "output_type": "display_data"
    },
    {
     "data": {
      "text/plain": [
       "<Figure size 800x400 with 0 Axes>"
      ]
     },
     "metadata": {},
     "output_type": "display_data"
    },
    {
     "data": {
      "text/plain": [
       "<Figure size 800x400 with 0 Axes>"
      ]
     },
     "metadata": {},
     "output_type": "display_data"
    },
    {
     "data": {
      "text/plain": [
       "<Figure size 800x400 with 0 Axes>"
      ]
     },
     "metadata": {},
     "output_type": "display_data"
    },
    {
     "data": {
      "text/plain": [
       "<Figure size 800x400 with 0 Axes>"
      ]
     },
     "metadata": {},
     "output_type": "display_data"
    },
    {
     "data": {
      "text/plain": [
       "<Figure size 800x400 with 0 Axes>"
      ]
     },
     "metadata": {},
     "output_type": "display_data"
    },
    {
     "data": {
      "text/plain": [
       "<Figure size 800x400 with 0 Axes>"
      ]
     },
     "metadata": {},
     "output_type": "display_data"
    },
    {
     "data": {
      "text/plain": [
       "<Figure size 800x400 with 0 Axes>"
      ]
     },
     "metadata": {},
     "output_type": "display_data"
    },
    {
     "data": {
      "text/plain": [
       "<Figure size 800x400 with 0 Axes>"
      ]
     },
     "metadata": {},
     "output_type": "display_data"
    },
    {
     "data": {
      "text/plain": [
       "<Figure size 800x400 with 0 Axes>"
      ]
     },
     "metadata": {},
     "output_type": "display_data"
    },
    {
     "data": {
      "text/plain": [
       "<Figure size 800x400 with 0 Axes>"
      ]
     },
     "metadata": {},
     "output_type": "display_data"
    },
    {
     "data": {
      "text/plain": [
       "<Figure size 800x400 with 0 Axes>"
      ]
     },
     "metadata": {},
     "output_type": "display_data"
    },
    {
     "data": {
      "text/plain": [
       "<Figure size 800x400 with 0 Axes>"
      ]
     },
     "metadata": {},
     "output_type": "display_data"
    },
    {
     "data": {
      "text/plain": [
       "<Figure size 800x400 with 0 Axes>"
      ]
     },
     "metadata": {},
     "output_type": "display_data"
    },
    {
     "data": {
      "text/plain": [
       "<Figure size 800x400 with 0 Axes>"
      ]
     },
     "metadata": {},
     "output_type": "display_data"
    },
    {
     "data": {
      "text/plain": [
       "<Figure size 800x400 with 0 Axes>"
      ]
     },
     "metadata": {},
     "output_type": "display_data"
    },
    {
     "data": {
      "text/plain": [
       "<Figure size 800x400 with 0 Axes>"
      ]
     },
     "metadata": {},
     "output_type": "display_data"
    },
    {
     "data": {
      "text/plain": [
       "<Figure size 800x400 with 0 Axes>"
      ]
     },
     "metadata": {},
     "output_type": "display_data"
    },
    {
     "data": {
      "text/plain": [
       "<Figure size 800x400 with 0 Axes>"
      ]
     },
     "metadata": {},
     "output_type": "display_data"
    },
    {
     "data": {
      "text/plain": [
       "<Figure size 800x400 with 0 Axes>"
      ]
     },
     "metadata": {},
     "output_type": "display_data"
    },
    {
     "data": {
      "text/plain": [
       "<Figure size 800x400 with 0 Axes>"
      ]
     },
     "metadata": {},
     "output_type": "display_data"
    },
    {
     "data": {
      "text/plain": [
       "<Figure size 800x400 with 0 Axes>"
      ]
     },
     "metadata": {},
     "output_type": "display_data"
    },
    {
     "data": {
      "text/plain": [
       "<Figure size 800x400 with 0 Axes>"
      ]
     },
     "metadata": {},
     "output_type": "display_data"
    },
    {
     "data": {
      "text/plain": [
       "<Figure size 800x400 with 0 Axes>"
      ]
     },
     "metadata": {},
     "output_type": "display_data"
    },
    {
     "data": {
      "text/plain": [
       "<Figure size 800x400 with 0 Axes>"
      ]
     },
     "metadata": {},
     "output_type": "display_data"
    },
    {
     "data": {
      "text/plain": [
       "<Figure size 800x400 with 0 Axes>"
      ]
     },
     "metadata": {},
     "output_type": "display_data"
    },
    {
     "data": {
      "text/plain": [
       "<Figure size 800x400 with 0 Axes>"
      ]
     },
     "metadata": {},
     "output_type": "display_data"
    },
    {
     "data": {
      "text/plain": [
       "<Figure size 800x400 with 0 Axes>"
      ]
     },
     "metadata": {},
     "output_type": "display_data"
    },
    {
     "data": {
      "text/plain": [
       "<Figure size 800x400 with 0 Axes>"
      ]
     },
     "metadata": {},
     "output_type": "display_data"
    },
    {
     "data": {
      "text/plain": [
       "<Figure size 800x400 with 0 Axes>"
      ]
     },
     "metadata": {},
     "output_type": "display_data"
    },
    {
     "data": {
      "text/plain": [
       "<Figure size 800x400 with 0 Axes>"
      ]
     },
     "metadata": {},
     "output_type": "display_data"
    },
    {
     "data": {
      "text/plain": [
       "<Figure size 800x400 with 0 Axes>"
      ]
     },
     "metadata": {},
     "output_type": "display_data"
    },
    {
     "data": {
      "text/plain": [
       "<Figure size 800x400 with 0 Axes>"
      ]
     },
     "metadata": {},
     "output_type": "display_data"
    },
    {
     "data": {
      "text/plain": [
       "<Figure size 800x400 with 0 Axes>"
      ]
     },
     "metadata": {},
     "output_type": "display_data"
    },
    {
     "data": {
      "text/plain": [
       "<Figure size 800x400 with 0 Axes>"
      ]
     },
     "metadata": {},
     "output_type": "display_data"
    },
    {
     "data": {
      "text/plain": [
       "<Figure size 800x400 with 0 Axes>"
      ]
     },
     "metadata": {},
     "output_type": "display_data"
    },
    {
     "data": {
      "text/plain": [
       "<Figure size 800x400 with 0 Axes>"
      ]
     },
     "metadata": {},
     "output_type": "display_data"
    },
    {
     "data": {
      "text/plain": [
       "<Figure size 800x400 with 0 Axes>"
      ]
     },
     "metadata": {},
     "output_type": "display_data"
    },
    {
     "data": {
      "text/plain": [
       "<Figure size 800x400 with 0 Axes>"
      ]
     },
     "metadata": {},
     "output_type": "display_data"
    },
    {
     "data": {
      "text/plain": [
       "<Figure size 800x400 with 0 Axes>"
      ]
     },
     "metadata": {},
     "output_type": "display_data"
    },
    {
     "data": {
      "text/plain": [
       "<Figure size 800x400 with 0 Axes>"
      ]
     },
     "metadata": {},
     "output_type": "display_data"
    },
    {
     "data": {
      "text/plain": [
       "<Figure size 800x400 with 0 Axes>"
      ]
     },
     "metadata": {},
     "output_type": "display_data"
    },
    {
     "data": {
      "text/plain": [
       "<Figure size 800x400 with 0 Axes>"
      ]
     },
     "metadata": {},
     "output_type": "display_data"
    },
    {
     "data": {
      "text/plain": [
       "<Figure size 800x400 with 0 Axes>"
      ]
     },
     "metadata": {},
     "output_type": "display_data"
    },
    {
     "data": {
      "text/plain": [
       "<Figure size 800x400 with 0 Axes>"
      ]
     },
     "metadata": {},
     "output_type": "display_data"
    },
    {
     "data": {
      "text/plain": [
       "<Figure size 800x400 with 0 Axes>"
      ]
     },
     "metadata": {},
     "output_type": "display_data"
    },
    {
     "data": {
      "text/plain": [
       "<Figure size 800x400 with 0 Axes>"
      ]
     },
     "metadata": {},
     "output_type": "display_data"
    },
    {
     "data": {
      "text/plain": [
       "<Figure size 800x400 with 0 Axes>"
      ]
     },
     "metadata": {},
     "output_type": "display_data"
    },
    {
     "data": {
      "text/plain": [
       "<Figure size 800x400 with 0 Axes>"
      ]
     },
     "metadata": {},
     "output_type": "display_data"
    },
    {
     "data": {
      "text/plain": [
       "<Figure size 800x400 with 0 Axes>"
      ]
     },
     "metadata": {},
     "output_type": "display_data"
    },
    {
     "data": {
      "text/plain": [
       "<Figure size 800x400 with 0 Axes>"
      ]
     },
     "metadata": {},
     "output_type": "display_data"
    },
    {
     "data": {
      "text/plain": [
       "<Figure size 800x400 with 0 Axes>"
      ]
     },
     "metadata": {},
     "output_type": "display_data"
    },
    {
     "data": {
      "text/plain": [
       "<Figure size 800x400 with 0 Axes>"
      ]
     },
     "metadata": {},
     "output_type": "display_data"
    },
    {
     "data": {
      "text/plain": [
       "<Figure size 800x400 with 0 Axes>"
      ]
     },
     "metadata": {},
     "output_type": "display_data"
    },
    {
     "data": {
      "text/plain": [
       "<Figure size 800x400 with 0 Axes>"
      ]
     },
     "metadata": {},
     "output_type": "display_data"
    },
    {
     "data": {
      "text/plain": [
       "<Figure size 800x400 with 0 Axes>"
      ]
     },
     "metadata": {},
     "output_type": "display_data"
    },
    {
     "data": {
      "text/plain": [
       "<Figure size 800x400 with 0 Axes>"
      ]
     },
     "metadata": {},
     "output_type": "display_data"
    },
    {
     "data": {
      "text/plain": [
       "<Figure size 800x400 with 0 Axes>"
      ]
     },
     "metadata": {},
     "output_type": "display_data"
    },
    {
     "data": {
      "text/plain": [
       "<Figure size 800x400 with 0 Axes>"
      ]
     },
     "metadata": {},
     "output_type": "display_data"
    },
    {
     "data": {
      "text/plain": [
       "<Figure size 800x400 with 0 Axes>"
      ]
     },
     "metadata": {},
     "output_type": "display_data"
    },
    {
     "data": {
      "text/plain": [
       "<Figure size 800x400 with 0 Axes>"
      ]
     },
     "metadata": {},
     "output_type": "display_data"
    },
    {
     "data": {
      "text/plain": [
       "<Figure size 800x400 with 0 Axes>"
      ]
     },
     "metadata": {},
     "output_type": "display_data"
    },
    {
     "data": {
      "text/plain": [
       "<Figure size 800x400 with 0 Axes>"
      ]
     },
     "metadata": {},
     "output_type": "display_data"
    },
    {
     "data": {
      "text/plain": [
       "<Figure size 800x400 with 0 Axes>"
      ]
     },
     "metadata": {},
     "output_type": "display_data"
    },
    {
     "data": {
      "text/plain": [
       "<Figure size 800x400 with 0 Axes>"
      ]
     },
     "metadata": {},
     "output_type": "display_data"
    },
    {
     "data": {
      "text/plain": [
       "<Figure size 800x400 with 0 Axes>"
      ]
     },
     "metadata": {},
     "output_type": "display_data"
    },
    {
     "data": {
      "text/plain": [
       "<Figure size 800x400 with 0 Axes>"
      ]
     },
     "metadata": {},
     "output_type": "display_data"
    },
    {
     "data": {
      "text/plain": [
       "<Figure size 800x400 with 0 Axes>"
      ]
     },
     "metadata": {},
     "output_type": "display_data"
    },
    {
     "data": {
      "text/plain": [
       "<Figure size 800x400 with 0 Axes>"
      ]
     },
     "metadata": {},
     "output_type": "display_data"
    },
    {
     "data": {
      "text/plain": [
       "<Figure size 800x400 with 0 Axes>"
      ]
     },
     "metadata": {},
     "output_type": "display_data"
    },
    {
     "data": {
      "text/plain": [
       "<Figure size 800x400 with 0 Axes>"
      ]
     },
     "metadata": {},
     "output_type": "display_data"
    },
    {
     "data": {
      "text/plain": [
       "<Figure size 800x400 with 0 Axes>"
      ]
     },
     "metadata": {},
     "output_type": "display_data"
    },
    {
     "data": {
      "text/plain": [
       "<Figure size 800x400 with 0 Axes>"
      ]
     },
     "metadata": {},
     "output_type": "display_data"
    },
    {
     "data": {
      "text/plain": [
       "<Figure size 800x400 with 0 Axes>"
      ]
     },
     "metadata": {},
     "output_type": "display_data"
    },
    {
     "data": {
      "text/plain": [
       "<Figure size 800x400 with 0 Axes>"
      ]
     },
     "metadata": {},
     "output_type": "display_data"
    },
    {
     "data": {
      "text/plain": [
       "<Figure size 800x400 with 0 Axes>"
      ]
     },
     "metadata": {},
     "output_type": "display_data"
    },
    {
     "data": {
      "text/plain": [
       "<Figure size 800x400 with 0 Axes>"
      ]
     },
     "metadata": {},
     "output_type": "display_data"
    },
    {
     "data": {
      "text/plain": [
       "<Figure size 800x400 with 0 Axes>"
      ]
     },
     "metadata": {},
     "output_type": "display_data"
    },
    {
     "data": {
      "text/plain": [
       "<Figure size 800x400 with 0 Axes>"
      ]
     },
     "metadata": {},
     "output_type": "display_data"
    },
    {
     "data": {
      "text/plain": [
       "<Figure size 800x400 with 0 Axes>"
      ]
     },
     "metadata": {},
     "output_type": "display_data"
    },
    {
     "data": {
      "text/plain": [
       "<Figure size 800x400 with 0 Axes>"
      ]
     },
     "metadata": {},
     "output_type": "display_data"
    },
    {
     "data": {
      "text/plain": [
       "<Figure size 800x400 with 0 Axes>"
      ]
     },
     "metadata": {},
     "output_type": "display_data"
    },
    {
     "data": {
      "text/plain": [
       "<Figure size 800x400 with 0 Axes>"
      ]
     },
     "metadata": {},
     "output_type": "display_data"
    },
    {
     "data": {
      "text/plain": [
       "<Figure size 800x400 with 0 Axes>"
      ]
     },
     "metadata": {},
     "output_type": "display_data"
    },
    {
     "data": {
      "text/plain": [
       "<Figure size 800x400 with 0 Axes>"
      ]
     },
     "metadata": {},
     "output_type": "display_data"
    },
    {
     "data": {
      "text/plain": [
       "<Figure size 800x400 with 0 Axes>"
      ]
     },
     "metadata": {},
     "output_type": "display_data"
    },
    {
     "data": {
      "text/plain": [
       "<Figure size 800x400 with 0 Axes>"
      ]
     },
     "metadata": {},
     "output_type": "display_data"
    },
    {
     "data": {
      "text/plain": [
       "<Figure size 800x400 with 0 Axes>"
      ]
     },
     "metadata": {},
     "output_type": "display_data"
    },
    {
     "data": {
      "text/plain": [
       "<Figure size 800x400 with 0 Axes>"
      ]
     },
     "metadata": {},
     "output_type": "display_data"
    },
    {
     "data": {
      "text/plain": [
       "<Figure size 800x400 with 0 Axes>"
      ]
     },
     "metadata": {},
     "output_type": "display_data"
    },
    {
     "data": {
      "text/plain": [
       "<Figure size 800x400 with 0 Axes>"
      ]
     },
     "metadata": {},
     "output_type": "display_data"
    },
    {
     "data": {
      "text/plain": [
       "<Figure size 800x400 with 0 Axes>"
      ]
     },
     "metadata": {},
     "output_type": "display_data"
    },
    {
     "data": {
      "text/plain": [
       "<Figure size 800x400 with 0 Axes>"
      ]
     },
     "metadata": {},
     "output_type": "display_data"
    },
    {
     "data": {
      "text/plain": [
       "<Figure size 800x400 with 0 Axes>"
      ]
     },
     "metadata": {},
     "output_type": "display_data"
    },
    {
     "data": {
      "text/plain": [
       "<Figure size 800x400 with 0 Axes>"
      ]
     },
     "metadata": {},
     "output_type": "display_data"
    },
    {
     "data": {
      "text/plain": [
       "<Figure size 800x400 with 0 Axes>"
      ]
     },
     "metadata": {},
     "output_type": "display_data"
    },
    {
     "data": {
      "text/plain": [
       "<Figure size 800x400 with 0 Axes>"
      ]
     },
     "metadata": {},
     "output_type": "display_data"
    },
    {
     "data": {
      "text/plain": [
       "<Figure size 800x400 with 0 Axes>"
      ]
     },
     "metadata": {},
     "output_type": "display_data"
    },
    {
     "data": {
      "text/plain": [
       "<Figure size 800x400 with 0 Axes>"
      ]
     },
     "metadata": {},
     "output_type": "display_data"
    },
    {
     "data": {
      "text/plain": [
       "<Figure size 800x400 with 0 Axes>"
      ]
     },
     "metadata": {},
     "output_type": "display_data"
    },
    {
     "data": {
      "text/plain": [
       "<Figure size 800x400 with 0 Axes>"
      ]
     },
     "metadata": {},
     "output_type": "display_data"
    },
    {
     "data": {
      "text/plain": [
       "<Figure size 800x400 with 0 Axes>"
      ]
     },
     "metadata": {},
     "output_type": "display_data"
    },
    {
     "data": {
      "text/plain": [
       "<Figure size 800x400 with 0 Axes>"
      ]
     },
     "metadata": {},
     "output_type": "display_data"
    },
    {
     "data": {
      "text/plain": [
       "<Figure size 800x400 with 0 Axes>"
      ]
     },
     "metadata": {},
     "output_type": "display_data"
    },
    {
     "data": {
      "text/plain": [
       "<Figure size 800x400 with 0 Axes>"
      ]
     },
     "metadata": {},
     "output_type": "display_data"
    },
    {
     "data": {
      "text/plain": [
       "<Figure size 800x400 with 0 Axes>"
      ]
     },
     "metadata": {},
     "output_type": "display_data"
    },
    {
     "data": {
      "text/plain": [
       "<Figure size 800x400 with 0 Axes>"
      ]
     },
     "metadata": {},
     "output_type": "display_data"
    },
    {
     "data": {
      "text/plain": [
       "<Figure size 800x400 with 0 Axes>"
      ]
     },
     "metadata": {},
     "output_type": "display_data"
    },
    {
     "data": {
      "text/plain": [
       "<Figure size 800x400 with 0 Axes>"
      ]
     },
     "metadata": {},
     "output_type": "display_data"
    },
    {
     "data": {
      "text/plain": [
       "<Figure size 800x400 with 0 Axes>"
      ]
     },
     "metadata": {},
     "output_type": "display_data"
    },
    {
     "data": {
      "text/plain": [
       "<Figure size 800x400 with 0 Axes>"
      ]
     },
     "metadata": {},
     "output_type": "display_data"
    },
    {
     "data": {
      "text/plain": [
       "<Figure size 800x400 with 0 Axes>"
      ]
     },
     "metadata": {},
     "output_type": "display_data"
    },
    {
     "data": {
      "text/plain": [
       "<Figure size 800x400 with 0 Axes>"
      ]
     },
     "metadata": {},
     "output_type": "display_data"
    },
    {
     "data": {
      "text/plain": [
       "<Figure size 800x400 with 0 Axes>"
      ]
     },
     "metadata": {},
     "output_type": "display_data"
    },
    {
     "data": {
      "text/plain": [
       "<Figure size 800x400 with 0 Axes>"
      ]
     },
     "metadata": {},
     "output_type": "display_data"
    },
    {
     "data": {
      "text/plain": [
       "<Figure size 800x400 with 0 Axes>"
      ]
     },
     "metadata": {},
     "output_type": "display_data"
    },
    {
     "data": {
      "text/plain": [
       "<Figure size 800x400 with 0 Axes>"
      ]
     },
     "metadata": {},
     "output_type": "display_data"
    },
    {
     "data": {
      "text/plain": [
       "<Figure size 800x400 with 0 Axes>"
      ]
     },
     "metadata": {},
     "output_type": "display_data"
    },
    {
     "data": {
      "text/plain": [
       "<Figure size 800x400 with 0 Axes>"
      ]
     },
     "metadata": {},
     "output_type": "display_data"
    },
    {
     "data": {
      "text/plain": [
       "<Figure size 800x400 with 0 Axes>"
      ]
     },
     "metadata": {},
     "output_type": "display_data"
    },
    {
     "data": {
      "text/plain": [
       "<Figure size 800x400 with 0 Axes>"
      ]
     },
     "metadata": {},
     "output_type": "display_data"
    },
    {
     "data": {
      "text/plain": [
       "<Figure size 800x400 with 0 Axes>"
      ]
     },
     "metadata": {},
     "output_type": "display_data"
    },
    {
     "data": {
      "text/plain": [
       "<Figure size 800x400 with 0 Axes>"
      ]
     },
     "metadata": {},
     "output_type": "display_data"
    },
    {
     "data": {
      "text/plain": [
       "<Figure size 800x400 with 0 Axes>"
      ]
     },
     "metadata": {},
     "output_type": "display_data"
    },
    {
     "data": {
      "text/plain": [
       "<Figure size 800x400 with 0 Axes>"
      ]
     },
     "metadata": {},
     "output_type": "display_data"
    },
    {
     "data": {
      "text/plain": [
       "<Figure size 800x400 with 0 Axes>"
      ]
     },
     "metadata": {},
     "output_type": "display_data"
    },
    {
     "data": {
      "text/plain": [
       "<Figure size 800x400 with 0 Axes>"
      ]
     },
     "metadata": {},
     "output_type": "display_data"
    },
    {
     "data": {
      "text/plain": [
       "<Figure size 800x400 with 0 Axes>"
      ]
     },
     "metadata": {},
     "output_type": "display_data"
    },
    {
     "data": {
      "text/plain": [
       "<Figure size 800x400 with 0 Axes>"
      ]
     },
     "metadata": {},
     "output_type": "display_data"
    },
    {
     "data": {
      "text/plain": [
       "<Figure size 800x400 with 0 Axes>"
      ]
     },
     "metadata": {},
     "output_type": "display_data"
    },
    {
     "data": {
      "text/plain": [
       "<Figure size 800x400 with 0 Axes>"
      ]
     },
     "metadata": {},
     "output_type": "display_data"
    },
    {
     "data": {
      "text/plain": [
       "<Figure size 800x400 with 0 Axes>"
      ]
     },
     "metadata": {},
     "output_type": "display_data"
    },
    {
     "data": {
      "text/plain": [
       "<Figure size 800x400 with 0 Axes>"
      ]
     },
     "metadata": {},
     "output_type": "display_data"
    },
    {
     "data": {
      "text/plain": [
       "<Figure size 800x400 with 0 Axes>"
      ]
     },
     "metadata": {},
     "output_type": "display_data"
    },
    {
     "data": {
      "text/plain": [
       "<Figure size 800x400 with 0 Axes>"
      ]
     },
     "metadata": {},
     "output_type": "display_data"
    },
    {
     "data": {
      "text/plain": [
       "<Figure size 800x400 with 0 Axes>"
      ]
     },
     "metadata": {},
     "output_type": "display_data"
    },
    {
     "data": {
      "text/plain": [
       "<Figure size 800x400 with 0 Axes>"
      ]
     },
     "metadata": {},
     "output_type": "display_data"
    },
    {
     "data": {
      "text/plain": [
       "<Figure size 800x400 with 0 Axes>"
      ]
     },
     "metadata": {},
     "output_type": "display_data"
    },
    {
     "data": {
      "text/plain": [
       "<Figure size 800x400 with 0 Axes>"
      ]
     },
     "metadata": {},
     "output_type": "display_data"
    },
    {
     "data": {
      "text/plain": [
       "<Figure size 800x400 with 0 Axes>"
      ]
     },
     "metadata": {},
     "output_type": "display_data"
    },
    {
     "data": {
      "text/plain": [
       "<Figure size 800x400 with 0 Axes>"
      ]
     },
     "metadata": {},
     "output_type": "display_data"
    },
    {
     "data": {
      "text/plain": [
       "<Figure size 800x400 with 0 Axes>"
      ]
     },
     "metadata": {},
     "output_type": "display_data"
    },
    {
     "data": {
      "text/plain": [
       "<Figure size 800x400 with 0 Axes>"
      ]
     },
     "metadata": {},
     "output_type": "display_data"
    },
    {
     "data": {
      "text/plain": [
       "<Figure size 800x400 with 0 Axes>"
      ]
     },
     "metadata": {},
     "output_type": "display_data"
    },
    {
     "data": {
      "text/plain": [
       "<Figure size 800x400 with 0 Axes>"
      ]
     },
     "metadata": {},
     "output_type": "display_data"
    },
    {
     "data": {
      "text/plain": [
       "<Figure size 800x400 with 0 Axes>"
      ]
     },
     "metadata": {},
     "output_type": "display_data"
    },
    {
     "data": {
      "text/plain": [
       "<Figure size 800x400 with 0 Axes>"
      ]
     },
     "metadata": {},
     "output_type": "display_data"
    },
    {
     "data": {
      "text/plain": [
       "<Figure size 800x400 with 0 Axes>"
      ]
     },
     "metadata": {},
     "output_type": "display_data"
    },
    {
     "data": {
      "text/plain": [
       "<Figure size 800x400 with 0 Axes>"
      ]
     },
     "metadata": {},
     "output_type": "display_data"
    },
    {
     "data": {
      "text/plain": [
       "<Figure size 800x400 with 0 Axes>"
      ]
     },
     "metadata": {},
     "output_type": "display_data"
    },
    {
     "data": {
      "text/plain": [
       "<Figure size 800x400 with 0 Axes>"
      ]
     },
     "metadata": {},
     "output_type": "display_data"
    },
    {
     "data": {
      "text/plain": [
       "<Figure size 800x400 with 0 Axes>"
      ]
     },
     "metadata": {},
     "output_type": "display_data"
    },
    {
     "data": {
      "text/plain": [
       "<Figure size 800x400 with 0 Axes>"
      ]
     },
     "metadata": {},
     "output_type": "display_data"
    },
    {
     "data": {
      "text/plain": [
       "<Figure size 800x400 with 0 Axes>"
      ]
     },
     "metadata": {},
     "output_type": "display_data"
    },
    {
     "data": {
      "text/plain": [
       "<Figure size 800x400 with 0 Axes>"
      ]
     },
     "metadata": {},
     "output_type": "display_data"
    },
    {
     "data": {
      "text/plain": [
       "<Figure size 800x400 with 0 Axes>"
      ]
     },
     "metadata": {},
     "output_type": "display_data"
    },
    {
     "data": {
      "text/plain": [
       "<Figure size 800x400 with 0 Axes>"
      ]
     },
     "metadata": {},
     "output_type": "display_data"
    },
    {
     "data": {
      "text/plain": [
       "<Figure size 800x400 with 0 Axes>"
      ]
     },
     "metadata": {},
     "output_type": "display_data"
    },
    {
     "data": {
      "text/plain": [
       "<Figure size 800x400 with 0 Axes>"
      ]
     },
     "metadata": {},
     "output_type": "display_data"
    },
    {
     "data": {
      "text/plain": [
       "<Figure size 800x400 with 0 Axes>"
      ]
     },
     "metadata": {},
     "output_type": "display_data"
    },
    {
     "data": {
      "text/plain": [
       "<Figure size 800x400 with 0 Axes>"
      ]
     },
     "metadata": {},
     "output_type": "display_data"
    },
    {
     "data": {
      "text/plain": [
       "<Figure size 800x400 with 0 Axes>"
      ]
     },
     "metadata": {},
     "output_type": "display_data"
    },
    {
     "data": {
      "text/plain": [
       "<Figure size 800x400 with 0 Axes>"
      ]
     },
     "metadata": {},
     "output_type": "display_data"
    },
    {
     "data": {
      "text/plain": [
       "<Figure size 800x400 with 0 Axes>"
      ]
     },
     "metadata": {},
     "output_type": "display_data"
    },
    {
     "data": {
      "text/plain": [
       "<Figure size 800x400 with 0 Axes>"
      ]
     },
     "metadata": {},
     "output_type": "display_data"
    },
    {
     "data": {
      "text/plain": [
       "<Figure size 800x400 with 0 Axes>"
      ]
     },
     "metadata": {},
     "output_type": "display_data"
    },
    {
     "data": {
      "text/plain": [
       "<Figure size 800x400 with 0 Axes>"
      ]
     },
     "metadata": {},
     "output_type": "display_data"
    },
    {
     "data": {
      "text/plain": [
       "<Figure size 800x400 with 0 Axes>"
      ]
     },
     "metadata": {},
     "output_type": "display_data"
    },
    {
     "data": {
      "text/plain": [
       "<Figure size 800x400 with 0 Axes>"
      ]
     },
     "metadata": {},
     "output_type": "display_data"
    },
    {
     "data": {
      "text/plain": [
       "<Figure size 800x400 with 0 Axes>"
      ]
     },
     "metadata": {},
     "output_type": "display_data"
    },
    {
     "data": {
      "text/plain": [
       "<Figure size 800x400 with 0 Axes>"
      ]
     },
     "metadata": {},
     "output_type": "display_data"
    },
    {
     "data": {
      "text/plain": [
       "<Figure size 800x400 with 0 Axes>"
      ]
     },
     "metadata": {},
     "output_type": "display_data"
    },
    {
     "data": {
      "text/plain": [
       "<Figure size 800x400 with 0 Axes>"
      ]
     },
     "metadata": {},
     "output_type": "display_data"
    },
    {
     "data": {
      "text/plain": [
       "<Figure size 800x400 with 0 Axes>"
      ]
     },
     "metadata": {},
     "output_type": "display_data"
    },
    {
     "data": {
      "text/plain": [
       "<Figure size 800x400 with 0 Axes>"
      ]
     },
     "metadata": {},
     "output_type": "display_data"
    },
    {
     "data": {
      "text/plain": [
       "<Figure size 800x400 with 0 Axes>"
      ]
     },
     "metadata": {},
     "output_type": "display_data"
    },
    {
     "data": {
      "text/plain": [
       "<Figure size 800x400 with 0 Axes>"
      ]
     },
     "metadata": {},
     "output_type": "display_data"
    },
    {
     "data": {
      "text/plain": [
       "<Figure size 800x400 with 0 Axes>"
      ]
     },
     "metadata": {},
     "output_type": "display_data"
    },
    {
     "data": {
      "text/plain": [
       "<Figure size 800x400 with 0 Axes>"
      ]
     },
     "metadata": {},
     "output_type": "display_data"
    },
    {
     "data": {
      "text/plain": [
       "<Figure size 800x400 with 0 Axes>"
      ]
     },
     "metadata": {},
     "output_type": "display_data"
    },
    {
     "data": {
      "text/plain": [
       "<Figure size 800x400 with 0 Axes>"
      ]
     },
     "metadata": {},
     "output_type": "display_data"
    },
    {
     "data": {
      "text/plain": [
       "<Figure size 800x400 with 0 Axes>"
      ]
     },
     "metadata": {},
     "output_type": "display_data"
    },
    {
     "data": {
      "text/plain": [
       "<Figure size 800x400 with 0 Axes>"
      ]
     },
     "metadata": {},
     "output_type": "display_data"
    },
    {
     "data": {
      "text/plain": [
       "<Figure size 800x400 with 0 Axes>"
      ]
     },
     "metadata": {},
     "output_type": "display_data"
    },
    {
     "data": {
      "text/plain": [
       "<Figure size 800x400 with 0 Axes>"
      ]
     },
     "metadata": {},
     "output_type": "display_data"
    },
    {
     "data": {
      "text/plain": [
       "<Figure size 800x400 with 0 Axes>"
      ]
     },
     "metadata": {},
     "output_type": "display_data"
    },
    {
     "data": {
      "text/plain": [
       "<Figure size 800x400 with 0 Axes>"
      ]
     },
     "metadata": {},
     "output_type": "display_data"
    },
    {
     "data": {
      "text/plain": [
       "<Figure size 800x400 with 0 Axes>"
      ]
     },
     "metadata": {},
     "output_type": "display_data"
    },
    {
     "data": {
      "text/plain": [
       "<Figure size 800x400 with 0 Axes>"
      ]
     },
     "metadata": {},
     "output_type": "display_data"
    },
    {
     "data": {
      "text/plain": [
       "<Figure size 800x400 with 0 Axes>"
      ]
     },
     "metadata": {},
     "output_type": "display_data"
    },
    {
     "data": {
      "text/plain": [
       "<Figure size 800x400 with 0 Axes>"
      ]
     },
     "metadata": {},
     "output_type": "display_data"
    },
    {
     "data": {
      "text/plain": [
       "<Figure size 800x400 with 0 Axes>"
      ]
     },
     "metadata": {},
     "output_type": "display_data"
    },
    {
     "data": {
      "text/plain": [
       "<Figure size 800x400 with 0 Axes>"
      ]
     },
     "metadata": {},
     "output_type": "display_data"
    },
    {
     "data": {
      "text/plain": [
       "<Figure size 800x400 with 0 Axes>"
      ]
     },
     "metadata": {},
     "output_type": "display_data"
    },
    {
     "data": {
      "text/plain": [
       "<Figure size 800x400 with 0 Axes>"
      ]
     },
     "metadata": {},
     "output_type": "display_data"
    },
    {
     "data": {
      "text/plain": [
       "<Figure size 800x400 with 0 Axes>"
      ]
     },
     "metadata": {},
     "output_type": "display_data"
    },
    {
     "data": {
      "text/plain": [
       "<Figure size 800x400 with 0 Axes>"
      ]
     },
     "metadata": {},
     "output_type": "display_data"
    },
    {
     "data": {
      "text/plain": [
       "<Figure size 800x400 with 0 Axes>"
      ]
     },
     "metadata": {},
     "output_type": "display_data"
    },
    {
     "data": {
      "text/plain": [
       "<Figure size 800x400 with 0 Axes>"
      ]
     },
     "metadata": {},
     "output_type": "display_data"
    },
    {
     "data": {
      "text/plain": [
       "<Figure size 800x400 with 0 Axes>"
      ]
     },
     "metadata": {},
     "output_type": "display_data"
    },
    {
     "data": {
      "text/plain": [
       "<Figure size 800x400 with 0 Axes>"
      ]
     },
     "metadata": {},
     "output_type": "display_data"
    },
    {
     "data": {
      "text/plain": [
       "<Figure size 800x400 with 0 Axes>"
      ]
     },
     "metadata": {},
     "output_type": "display_data"
    },
    {
     "data": {
      "text/plain": [
       "<Figure size 800x400 with 0 Axes>"
      ]
     },
     "metadata": {},
     "output_type": "display_data"
    },
    {
     "data": {
      "text/plain": [
       "<Figure size 800x400 with 0 Axes>"
      ]
     },
     "metadata": {},
     "output_type": "display_data"
    },
    {
     "data": {
      "text/plain": [
       "<Figure size 800x400 with 0 Axes>"
      ]
     },
     "metadata": {},
     "output_type": "display_data"
    },
    {
     "data": {
      "text/plain": [
       "<Figure size 800x400 with 0 Axes>"
      ]
     },
     "metadata": {},
     "output_type": "display_data"
    },
    {
     "data": {
      "text/plain": [
       "<Figure size 800x400 with 0 Axes>"
      ]
     },
     "metadata": {},
     "output_type": "display_data"
    },
    {
     "data": {
      "text/plain": [
       "<Figure size 800x400 with 0 Axes>"
      ]
     },
     "metadata": {},
     "output_type": "display_data"
    },
    {
     "data": {
      "text/plain": [
       "<Figure size 800x400 with 0 Axes>"
      ]
     },
     "metadata": {},
     "output_type": "display_data"
    },
    {
     "data": {
      "text/plain": [
       "<Figure size 800x400 with 0 Axes>"
      ]
     },
     "metadata": {},
     "output_type": "display_data"
    },
    {
     "data": {
      "text/plain": [
       "<Figure size 800x400 with 0 Axes>"
      ]
     },
     "metadata": {},
     "output_type": "display_data"
    },
    {
     "data": {
      "text/plain": [
       "<Figure size 800x400 with 0 Axes>"
      ]
     },
     "metadata": {},
     "output_type": "display_data"
    }
   ],
   "source": [
    "MO_watershed = gpd.read_file(\"MO_watersheds.geojson\", driver='GeoJSON')\n",
    "\n",
    "for i in range(MO_water.shape[0]):\n",
    "    \n",
    "    fileout = 'watershed_maps/' +  MO_watershed.iloc[i]['WATER_BODY'] +  ' ' +  str(MO_watershed.iloc[i]['FID']) + '.png'\n",
    "    \n",
    "    if not os.path.exists(fileout):\n",
    "\n",
    "        water_boundary = gpd.GeoSeries(MO_water.iloc[i].geometry)\n",
    "        watershed_boundary = gpd.GeoSeries(MO_watershed.iloc[i].geometry)\n",
    "\n",
    "        grid = Grid.from_raster('huc6/huc6_' + MO_water.iloc[i]['HUC_8'][0:6] + '_500.tif', nodata=-9999)\n",
    "        acc = grid.read_raster('huc6/huc6_acc_' + MO_watershed.iloc[i]['HUC_8'][0:6] + '_500.tif', nodata=-9999)\n",
    "        dem = grid.read_raster('huc6/huc6_' + MO_watershed.iloc[i]['HUC_8'][0:6] + '_500.tif', nodata=-9999)\n",
    "\n",
    "        # Grid limits\n",
    "        lons = [acc.affine[2] + acc.affine[0]*i  for i in range(np.shape(acc.mask)[1])]\n",
    "        lats = [acc.affine[5] + acc.affine[4]*i  for i in range(np.shape(acc.mask)[0])]\n",
    "\n",
    "        # Establish plot limits\n",
    "        delx = watershed_boundary.total_bounds[2] - watershed_boundary.total_bounds[0] \n",
    "        dely = watershed_boundary.total_bounds[3] - watershed_boundary.total_bounds[1] \n",
    "        minx, maxx = watershed_boundary.total_bounds[0] - 0.5*delx, watershed_boundary.total_bounds[2] + 0.5*delx\n",
    "        miny, maxy = watershed_boundary.total_bounds[1] - 0.5*dely, watershed_boundary.total_bounds[3] + 0.5*dely\n",
    "\n",
    "        # Manually set acc outside limits to -9999\n",
    "        for j in range(np.shape(acc.mask)[0]):\n",
    "            if lats[j] > maxy or lats[j] < miny:\n",
    "                acc[j,:] = -9999\n",
    "        for j in range(np.shape(acc.mask)[1]):\n",
    "            if lons[j] > maxx or lons[j] < minx:\n",
    "                acc[:,j] = -9999\n",
    "\n",
    "        # Clip to limits        \n",
    "        grid.clip_to(acc)\n",
    "        acc_view = grid.view(acc)\n",
    "\n",
    "        fig, (ax1, ax2) = plt.subplots(ncols=2, figsize=(8, 4))\n",
    "\n",
    "        # Upstream Cells\n",
    "        im1 = ax1.imshow(acc_view,  extent=grid.extent, \n",
    "                   cmap='cubehelix',\n",
    "                   norm=colors.LogNorm(1, acc_view.max()),\n",
    "                   interpolation='bilinear')\n",
    "        water_boundary.plot(ax=ax1, color='white')\n",
    "        watershed_boundary.plot(ax=ax1, color='red', alpha=0.2)\n",
    "        plt.colorbar(im1, ax=ax1, label='Upstream Cells', fraction=0.046, pad=0.04)\n",
    "\n",
    "        # Elevation\n",
    "\n",
    "        # Reset view\n",
    "        minx, maxx = watershed_boundary.total_bounds[0] - 0.2*delx, watershed_boundary.total_bounds[2] + 0.2*delx\n",
    "        miny, maxy = watershed_boundary.total_bounds[1] - 0.2*dely, watershed_boundary.total_bounds[3] + 0.2*dely\n",
    "        # Manually set acc outside limits to -9999\n",
    "        for j in range(np.shape(dem.mask)[0]):\n",
    "            if lats[j] > maxy or lats[j] < miny:\n",
    "                dem[j,:] = -9999\n",
    "        for j in range(np.shape(dem.mask)[1]):\n",
    "            if lons[j] > maxx or lons[j] < minx:\n",
    "                dem[:,j] = -9999\n",
    "        #grid = Grid.from_raster('huc6/huc6_' + MO_water.iloc[i]['HUC_8'][0:6] + '_500.tif', nodata=-9999)        \n",
    "        grid.clip_to(dem)\n",
    "        dem_view = grid.view(dem)\n",
    "\n",
    "        im2 = ax2.imshow(dem_view,  extent=grid.extent, cmap='cubehelix')\n",
    "        water_boundary.plot(ax=ax2, color='royalblue')\n",
    "        watershed_boundary.plot(ax=ax2, color='white', alpha=0.2)\n",
    "        plt.colorbar(im2, ax=ax2, label='DEM (m)',fraction=0.046, pad=0.04)\n",
    "\n",
    "        # Extra\n",
    "        fig.suptitle(MO_watershed.iloc[i]['WATER_BODY'] + ' ' + str(np.round(MO_watershed.iloc[i]['Watershed Area'], decimals=1)) + \" km2\")\n",
    "        plt.tight_layout()\n",
    "        print(fileout)\n",
    "        fig.savefig(fileout, dpi=300)\n",
    "        plt.clf()"
   ]
  }
 ],
 "metadata": {
  "colab": {
   "provenance": []
  },
  "kernelspec": {
   "display_name": "Python 3 (ipykernel)",
   "language": "python",
   "name": "python3"
  },
  "language_info": {
   "codemirror_mode": {
    "name": "ipython",
    "version": 3
   },
   "file_extension": ".py",
   "mimetype": "text/x-python",
   "name": "python",
   "nbconvert_exporter": "python",
   "pygments_lexer": "ipython3",
   "version": "3.9.13"
  }
 },
 "nbformat": 4,
 "nbformat_minor": 5
}
